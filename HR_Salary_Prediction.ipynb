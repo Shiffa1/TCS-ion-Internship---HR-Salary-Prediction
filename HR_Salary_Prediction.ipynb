{
  "cells": [
    {
      "cell_type": "markdown",
      "metadata": {
        "id": "OT3hNtiRtmbX"
      },
      "source": [
        "# HR SALARY PREDICTION DASHBOARD"
      ]
    },
    {
      "cell_type": "markdown",
      "metadata": {
        "id": "3uwwCNh9th27"
      },
      "source": [
        "**Problem Statement**\n",
        "\n",
        "The goal of this project is to clean the data, analysis and predict whether a person's salary is higher or lower than $50k/year based on their attributes using several ML classification techniques."
      ]
    },
    {
      "cell_type": "markdown",
      "metadata": {
        "id": "GweVVe1SiXof"
      },
      "source": [
        "### Importing the collected data to python environment\n"
      ]
    },
    {
      "cell_type": "code",
      "execution_count": 3,
      "metadata": {
        "colab": {
          "base_uri": "https://localhost:8080/"
        },
        "id": "h2Ds7sdoieqD",
        "outputId": "1542f1de-eb73-4d00-fdbc-dea70510c93a"
      },
      "outputs": [
        {
          "output_type": "stream",
          "name": "stdout",
          "text": [
            "Drive already mounted at /content/drive; to attempt to forcibly remount, call drive.mount(\"/content/drive\", force_remount=True).\n"
          ]
        }
      ],
      "source": [
        "from google.colab import drive\n",
        "\n",
        "drive.mount('/content/drive')"
      ]
    },
    {
      "cell_type": "markdown",
      "metadata": {
        "id": "HuITw9MLjE6j"
      },
      "source": [
        "### Loading the dataset into Python enviornment"
      ]
    },
    {
      "cell_type": "code",
      "execution_count": 4,
      "metadata": {
        "id": "UXdHjWONjGcY"
      },
      "outputs": [],
      "source": [
        "#import necessary libraries\n",
        "import numpy as np # linear algebra\n",
        "import pandas as pd # data processing, CSV file I/O (e.g. pd.read_csv)\n",
        "\n",
        "# Libraries for data visualization\n",
        "import matplotlib.pyplot as plt  \n",
        "import seaborn as sns \n",
        "from pandas.plotting import scatter_matrix\n",
        "from collections import Counter\n",
        "def printmd(string):\n",
        "    display(Markdown(string))\n",
        "\n",
        "\n",
        "# Import sys and warnings to ignore warning messages \n",
        "import sys\n",
        "import warnings\n",
        "%matplotlib inline\n",
        "\n",
        "if not sys.warnoptions:\n",
        "    warnings.simplefilter(\"ignore\")"
      ]
    },
    {
      "cell_type": "code",
      "execution_count": 5,
      "metadata": {
        "id": "HwUhBOBVkUMg"
      },
      "outputs": [],
      "source": [
        "data=pd.read_csv('/content/drive/MyDrive/DSA/internship/salary.csv')"
      ]
    },
    {
      "cell_type": "code",
      "execution_count": 6,
      "metadata": {
        "colab": {
          "base_uri": "https://localhost:8080/",
          "height": 354
        },
        "id": "WVBceiVrrx6-",
        "outputId": "81bc859f-17d3-45cb-eba3-d4d89397c1ef"
      },
      "outputs": [
        {
          "output_type": "execute_result",
          "data": {
            "text/plain": [
              "   age  workclass  fnlwgt     education  educational-num      marital-status  \\\n",
              "0   25    Private  226802          11th                7       Never-married   \n",
              "1   38    Private   89814       HS-grad                9  Married-civ-spouse   \n",
              "2   28  Local-gov  336951    Assoc-acdm               12  Married-civ-spouse   \n",
              "3   44    Private  160323  Some-college               10  Married-civ-spouse   \n",
              "4   18          ?  103497  Some-college               10       Never-married   \n",
              "\n",
              "          occupation relationship   race  gender  capital-gain  capital-loss  \\\n",
              "0  Machine-op-inspct    Own-child  Black    Male             0             0   \n",
              "1    Farming-fishing      Husband  White    Male             0             0   \n",
              "2    Protective-serv      Husband  White    Male             0             0   \n",
              "3  Machine-op-inspct      Husband  Black    Male          7688             0   \n",
              "4                  ?    Own-child  White  Female             0             0   \n",
              "\n",
              "   hours-per-week native-country Salary  \n",
              "0              40  United-States  <=50K  \n",
              "1              50  United-States  <=50K  \n",
              "2              40  United-States   >50K  \n",
              "3              40  United-States   >50K  \n",
              "4              30  United-States  <=50K  "
            ],
            "text/html": [
              "\n",
              "  <div id=\"df-4b1a4ff6-01fc-407d-b12b-3cd4a5968471\">\n",
              "    <div class=\"colab-df-container\">\n",
              "      <div>\n",
              "<style scoped>\n",
              "    .dataframe tbody tr th:only-of-type {\n",
              "        vertical-align: middle;\n",
              "    }\n",
              "\n",
              "    .dataframe tbody tr th {\n",
              "        vertical-align: top;\n",
              "    }\n",
              "\n",
              "    .dataframe thead th {\n",
              "        text-align: right;\n",
              "    }\n",
              "</style>\n",
              "<table border=\"1\" class=\"dataframe\">\n",
              "  <thead>\n",
              "    <tr style=\"text-align: right;\">\n",
              "      <th></th>\n",
              "      <th>age</th>\n",
              "      <th>workclass</th>\n",
              "      <th>fnlwgt</th>\n",
              "      <th>education</th>\n",
              "      <th>educational-num</th>\n",
              "      <th>marital-status</th>\n",
              "      <th>occupation</th>\n",
              "      <th>relationship</th>\n",
              "      <th>race</th>\n",
              "      <th>gender</th>\n",
              "      <th>capital-gain</th>\n",
              "      <th>capital-loss</th>\n",
              "      <th>hours-per-week</th>\n",
              "      <th>native-country</th>\n",
              "      <th>Salary</th>\n",
              "    </tr>\n",
              "  </thead>\n",
              "  <tbody>\n",
              "    <tr>\n",
              "      <th>0</th>\n",
              "      <td>25</td>\n",
              "      <td>Private</td>\n",
              "      <td>226802</td>\n",
              "      <td>11th</td>\n",
              "      <td>7</td>\n",
              "      <td>Never-married</td>\n",
              "      <td>Machine-op-inspct</td>\n",
              "      <td>Own-child</td>\n",
              "      <td>Black</td>\n",
              "      <td>Male</td>\n",
              "      <td>0</td>\n",
              "      <td>0</td>\n",
              "      <td>40</td>\n",
              "      <td>United-States</td>\n",
              "      <td>&lt;=50K</td>\n",
              "    </tr>\n",
              "    <tr>\n",
              "      <th>1</th>\n",
              "      <td>38</td>\n",
              "      <td>Private</td>\n",
              "      <td>89814</td>\n",
              "      <td>HS-grad</td>\n",
              "      <td>9</td>\n",
              "      <td>Married-civ-spouse</td>\n",
              "      <td>Farming-fishing</td>\n",
              "      <td>Husband</td>\n",
              "      <td>White</td>\n",
              "      <td>Male</td>\n",
              "      <td>0</td>\n",
              "      <td>0</td>\n",
              "      <td>50</td>\n",
              "      <td>United-States</td>\n",
              "      <td>&lt;=50K</td>\n",
              "    </tr>\n",
              "    <tr>\n",
              "      <th>2</th>\n",
              "      <td>28</td>\n",
              "      <td>Local-gov</td>\n",
              "      <td>336951</td>\n",
              "      <td>Assoc-acdm</td>\n",
              "      <td>12</td>\n",
              "      <td>Married-civ-spouse</td>\n",
              "      <td>Protective-serv</td>\n",
              "      <td>Husband</td>\n",
              "      <td>White</td>\n",
              "      <td>Male</td>\n",
              "      <td>0</td>\n",
              "      <td>0</td>\n",
              "      <td>40</td>\n",
              "      <td>United-States</td>\n",
              "      <td>&gt;50K</td>\n",
              "    </tr>\n",
              "    <tr>\n",
              "      <th>3</th>\n",
              "      <td>44</td>\n",
              "      <td>Private</td>\n",
              "      <td>160323</td>\n",
              "      <td>Some-college</td>\n",
              "      <td>10</td>\n",
              "      <td>Married-civ-spouse</td>\n",
              "      <td>Machine-op-inspct</td>\n",
              "      <td>Husband</td>\n",
              "      <td>Black</td>\n",
              "      <td>Male</td>\n",
              "      <td>7688</td>\n",
              "      <td>0</td>\n",
              "      <td>40</td>\n",
              "      <td>United-States</td>\n",
              "      <td>&gt;50K</td>\n",
              "    </tr>\n",
              "    <tr>\n",
              "      <th>4</th>\n",
              "      <td>18</td>\n",
              "      <td>?</td>\n",
              "      <td>103497</td>\n",
              "      <td>Some-college</td>\n",
              "      <td>10</td>\n",
              "      <td>Never-married</td>\n",
              "      <td>?</td>\n",
              "      <td>Own-child</td>\n",
              "      <td>White</td>\n",
              "      <td>Female</td>\n",
              "      <td>0</td>\n",
              "      <td>0</td>\n",
              "      <td>30</td>\n",
              "      <td>United-States</td>\n",
              "      <td>&lt;=50K</td>\n",
              "    </tr>\n",
              "  </tbody>\n",
              "</table>\n",
              "</div>\n",
              "      <button class=\"colab-df-convert\" onclick=\"convertToInteractive('df-4b1a4ff6-01fc-407d-b12b-3cd4a5968471')\"\n",
              "              title=\"Convert this dataframe to an interactive table.\"\n",
              "              style=\"display:none;\">\n",
              "        \n",
              "  <svg xmlns=\"http://www.w3.org/2000/svg\" height=\"24px\"viewBox=\"0 0 24 24\"\n",
              "       width=\"24px\">\n",
              "    <path d=\"M0 0h24v24H0V0z\" fill=\"none\"/>\n",
              "    <path d=\"M18.56 5.44l.94 2.06.94-2.06 2.06-.94-2.06-.94-.94-2.06-.94 2.06-2.06.94zm-11 1L8.5 8.5l.94-2.06 2.06-.94-2.06-.94L8.5 2.5l-.94 2.06-2.06.94zm10 10l.94 2.06.94-2.06 2.06-.94-2.06-.94-.94-2.06-.94 2.06-2.06.94z\"/><path d=\"M17.41 7.96l-1.37-1.37c-.4-.4-.92-.59-1.43-.59-.52 0-1.04.2-1.43.59L10.3 9.45l-7.72 7.72c-.78.78-.78 2.05 0 2.83L4 21.41c.39.39.9.59 1.41.59.51 0 1.02-.2 1.41-.59l7.78-7.78 2.81-2.81c.8-.78.8-2.07 0-2.86zM5.41 20L4 18.59l7.72-7.72 1.47 1.35L5.41 20z\"/>\n",
              "  </svg>\n",
              "      </button>\n",
              "      \n",
              "  <style>\n",
              "    .colab-df-container {\n",
              "      display:flex;\n",
              "      flex-wrap:wrap;\n",
              "      gap: 12px;\n",
              "    }\n",
              "\n",
              "    .colab-df-convert {\n",
              "      background-color: #E8F0FE;\n",
              "      border: none;\n",
              "      border-radius: 50%;\n",
              "      cursor: pointer;\n",
              "      display: none;\n",
              "      fill: #1967D2;\n",
              "      height: 32px;\n",
              "      padding: 0 0 0 0;\n",
              "      width: 32px;\n",
              "    }\n",
              "\n",
              "    .colab-df-convert:hover {\n",
              "      background-color: #E2EBFA;\n",
              "      box-shadow: 0px 1px 2px rgba(60, 64, 67, 0.3), 0px 1px 3px 1px rgba(60, 64, 67, 0.15);\n",
              "      fill: #174EA6;\n",
              "    }\n",
              "\n",
              "    [theme=dark] .colab-df-convert {\n",
              "      background-color: #3B4455;\n",
              "      fill: #D2E3FC;\n",
              "    }\n",
              "\n",
              "    [theme=dark] .colab-df-convert:hover {\n",
              "      background-color: #434B5C;\n",
              "      box-shadow: 0px 1px 3px 1px rgba(0, 0, 0, 0.15);\n",
              "      filter: drop-shadow(0px 1px 2px rgba(0, 0, 0, 0.3));\n",
              "      fill: #FFFFFF;\n",
              "    }\n",
              "  </style>\n",
              "\n",
              "      <script>\n",
              "        const buttonEl =\n",
              "          document.querySelector('#df-4b1a4ff6-01fc-407d-b12b-3cd4a5968471 button.colab-df-convert');\n",
              "        buttonEl.style.display =\n",
              "          google.colab.kernel.accessAllowed ? 'block' : 'none';\n",
              "\n",
              "        async function convertToInteractive(key) {\n",
              "          const element = document.querySelector('#df-4b1a4ff6-01fc-407d-b12b-3cd4a5968471');\n",
              "          const dataTable =\n",
              "            await google.colab.kernel.invokeFunction('convertToInteractive',\n",
              "                                                     [key], {});\n",
              "          if (!dataTable) return;\n",
              "\n",
              "          const docLinkHtml = 'Like what you see? Visit the ' +\n",
              "            '<a target=\"_blank\" href=https://colab.research.google.com/notebooks/data_table.ipynb>data table notebook</a>'\n",
              "            + ' to learn more about interactive tables.';\n",
              "          element.innerHTML = '';\n",
              "          dataTable['output_type'] = 'display_data';\n",
              "          await google.colab.output.renderOutput(dataTable, element);\n",
              "          const docLink = document.createElement('div');\n",
              "          docLink.innerHTML = docLinkHtml;\n",
              "          element.appendChild(docLink);\n",
              "        }\n",
              "      </script>\n",
              "    </div>\n",
              "  </div>\n",
              "  "
            ]
          },
          "metadata": {},
          "execution_count": 6
        }
      ],
      "source": [
        "data.head()"
      ]
    },
    {
      "cell_type": "code",
      "execution_count": 7,
      "metadata": {
        "colab": {
          "base_uri": "https://localhost:8080/",
          "height": 354
        },
        "id": "wF02xKmUtDmF",
        "outputId": "e375d140-95d5-4052-bd15-4c7e82c86f55"
      },
      "outputs": [
        {
          "output_type": "execute_result",
          "data": {
            "text/plain": [
              "       age     workclass  fnlwgt   education  educational-num  \\\n",
              "48837   27       Private  257302  Assoc-acdm               12   \n",
              "48838   40       Private  154374     HS-grad                9   \n",
              "48839   58       Private  151910     HS-grad                9   \n",
              "48840   22       Private  201490     HS-grad                9   \n",
              "48841   52  Self-emp-inc  287927     HS-grad                9   \n",
              "\n",
              "           marital-status         occupation relationship   race  gender  \\\n",
              "48837  Married-civ-spouse       Tech-support         Wife  White  Female   \n",
              "48838  Married-civ-spouse  Machine-op-inspct      Husband  White    Male   \n",
              "48839             Widowed       Adm-clerical    Unmarried  White  Female   \n",
              "48840       Never-married       Adm-clerical    Own-child  White    Male   \n",
              "48841  Married-civ-spouse    Exec-managerial         Wife  White  Female   \n",
              "\n",
              "       capital-gain  capital-loss  hours-per-week native-country Salary  \n",
              "48837             0             0              38  United-States  <=50K  \n",
              "48838             0             0              40  United-States   >50K  \n",
              "48839             0             0              40  United-States  <=50K  \n",
              "48840             0             0              20  United-States  <=50K  \n",
              "48841         15024             0              40  United-States   >50K  "
            ],
            "text/html": [
              "\n",
              "  <div id=\"df-73c01029-0a73-4f69-b148-9445bfd24d16\">\n",
              "    <div class=\"colab-df-container\">\n",
              "      <div>\n",
              "<style scoped>\n",
              "    .dataframe tbody tr th:only-of-type {\n",
              "        vertical-align: middle;\n",
              "    }\n",
              "\n",
              "    .dataframe tbody tr th {\n",
              "        vertical-align: top;\n",
              "    }\n",
              "\n",
              "    .dataframe thead th {\n",
              "        text-align: right;\n",
              "    }\n",
              "</style>\n",
              "<table border=\"1\" class=\"dataframe\">\n",
              "  <thead>\n",
              "    <tr style=\"text-align: right;\">\n",
              "      <th></th>\n",
              "      <th>age</th>\n",
              "      <th>workclass</th>\n",
              "      <th>fnlwgt</th>\n",
              "      <th>education</th>\n",
              "      <th>educational-num</th>\n",
              "      <th>marital-status</th>\n",
              "      <th>occupation</th>\n",
              "      <th>relationship</th>\n",
              "      <th>race</th>\n",
              "      <th>gender</th>\n",
              "      <th>capital-gain</th>\n",
              "      <th>capital-loss</th>\n",
              "      <th>hours-per-week</th>\n",
              "      <th>native-country</th>\n",
              "      <th>Salary</th>\n",
              "    </tr>\n",
              "  </thead>\n",
              "  <tbody>\n",
              "    <tr>\n",
              "      <th>48837</th>\n",
              "      <td>27</td>\n",
              "      <td>Private</td>\n",
              "      <td>257302</td>\n",
              "      <td>Assoc-acdm</td>\n",
              "      <td>12</td>\n",
              "      <td>Married-civ-spouse</td>\n",
              "      <td>Tech-support</td>\n",
              "      <td>Wife</td>\n",
              "      <td>White</td>\n",
              "      <td>Female</td>\n",
              "      <td>0</td>\n",
              "      <td>0</td>\n",
              "      <td>38</td>\n",
              "      <td>United-States</td>\n",
              "      <td>&lt;=50K</td>\n",
              "    </tr>\n",
              "    <tr>\n",
              "      <th>48838</th>\n",
              "      <td>40</td>\n",
              "      <td>Private</td>\n",
              "      <td>154374</td>\n",
              "      <td>HS-grad</td>\n",
              "      <td>9</td>\n",
              "      <td>Married-civ-spouse</td>\n",
              "      <td>Machine-op-inspct</td>\n",
              "      <td>Husband</td>\n",
              "      <td>White</td>\n",
              "      <td>Male</td>\n",
              "      <td>0</td>\n",
              "      <td>0</td>\n",
              "      <td>40</td>\n",
              "      <td>United-States</td>\n",
              "      <td>&gt;50K</td>\n",
              "    </tr>\n",
              "    <tr>\n",
              "      <th>48839</th>\n",
              "      <td>58</td>\n",
              "      <td>Private</td>\n",
              "      <td>151910</td>\n",
              "      <td>HS-grad</td>\n",
              "      <td>9</td>\n",
              "      <td>Widowed</td>\n",
              "      <td>Adm-clerical</td>\n",
              "      <td>Unmarried</td>\n",
              "      <td>White</td>\n",
              "      <td>Female</td>\n",
              "      <td>0</td>\n",
              "      <td>0</td>\n",
              "      <td>40</td>\n",
              "      <td>United-States</td>\n",
              "      <td>&lt;=50K</td>\n",
              "    </tr>\n",
              "    <tr>\n",
              "      <th>48840</th>\n",
              "      <td>22</td>\n",
              "      <td>Private</td>\n",
              "      <td>201490</td>\n",
              "      <td>HS-grad</td>\n",
              "      <td>9</td>\n",
              "      <td>Never-married</td>\n",
              "      <td>Adm-clerical</td>\n",
              "      <td>Own-child</td>\n",
              "      <td>White</td>\n",
              "      <td>Male</td>\n",
              "      <td>0</td>\n",
              "      <td>0</td>\n",
              "      <td>20</td>\n",
              "      <td>United-States</td>\n",
              "      <td>&lt;=50K</td>\n",
              "    </tr>\n",
              "    <tr>\n",
              "      <th>48841</th>\n",
              "      <td>52</td>\n",
              "      <td>Self-emp-inc</td>\n",
              "      <td>287927</td>\n",
              "      <td>HS-grad</td>\n",
              "      <td>9</td>\n",
              "      <td>Married-civ-spouse</td>\n",
              "      <td>Exec-managerial</td>\n",
              "      <td>Wife</td>\n",
              "      <td>White</td>\n",
              "      <td>Female</td>\n",
              "      <td>15024</td>\n",
              "      <td>0</td>\n",
              "      <td>40</td>\n",
              "      <td>United-States</td>\n",
              "      <td>&gt;50K</td>\n",
              "    </tr>\n",
              "  </tbody>\n",
              "</table>\n",
              "</div>\n",
              "      <button class=\"colab-df-convert\" onclick=\"convertToInteractive('df-73c01029-0a73-4f69-b148-9445bfd24d16')\"\n",
              "              title=\"Convert this dataframe to an interactive table.\"\n",
              "              style=\"display:none;\">\n",
              "        \n",
              "  <svg xmlns=\"http://www.w3.org/2000/svg\" height=\"24px\"viewBox=\"0 0 24 24\"\n",
              "       width=\"24px\">\n",
              "    <path d=\"M0 0h24v24H0V0z\" fill=\"none\"/>\n",
              "    <path d=\"M18.56 5.44l.94 2.06.94-2.06 2.06-.94-2.06-.94-.94-2.06-.94 2.06-2.06.94zm-11 1L8.5 8.5l.94-2.06 2.06-.94-2.06-.94L8.5 2.5l-.94 2.06-2.06.94zm10 10l.94 2.06.94-2.06 2.06-.94-2.06-.94-.94-2.06-.94 2.06-2.06.94z\"/><path d=\"M17.41 7.96l-1.37-1.37c-.4-.4-.92-.59-1.43-.59-.52 0-1.04.2-1.43.59L10.3 9.45l-7.72 7.72c-.78.78-.78 2.05 0 2.83L4 21.41c.39.39.9.59 1.41.59.51 0 1.02-.2 1.41-.59l7.78-7.78 2.81-2.81c.8-.78.8-2.07 0-2.86zM5.41 20L4 18.59l7.72-7.72 1.47 1.35L5.41 20z\"/>\n",
              "  </svg>\n",
              "      </button>\n",
              "      \n",
              "  <style>\n",
              "    .colab-df-container {\n",
              "      display:flex;\n",
              "      flex-wrap:wrap;\n",
              "      gap: 12px;\n",
              "    }\n",
              "\n",
              "    .colab-df-convert {\n",
              "      background-color: #E8F0FE;\n",
              "      border: none;\n",
              "      border-radius: 50%;\n",
              "      cursor: pointer;\n",
              "      display: none;\n",
              "      fill: #1967D2;\n",
              "      height: 32px;\n",
              "      padding: 0 0 0 0;\n",
              "      width: 32px;\n",
              "    }\n",
              "\n",
              "    .colab-df-convert:hover {\n",
              "      background-color: #E2EBFA;\n",
              "      box-shadow: 0px 1px 2px rgba(60, 64, 67, 0.3), 0px 1px 3px 1px rgba(60, 64, 67, 0.15);\n",
              "      fill: #174EA6;\n",
              "    }\n",
              "\n",
              "    [theme=dark] .colab-df-convert {\n",
              "      background-color: #3B4455;\n",
              "      fill: #D2E3FC;\n",
              "    }\n",
              "\n",
              "    [theme=dark] .colab-df-convert:hover {\n",
              "      background-color: #434B5C;\n",
              "      box-shadow: 0px 1px 3px 1px rgba(0, 0, 0, 0.15);\n",
              "      filter: drop-shadow(0px 1px 2px rgba(0, 0, 0, 0.3));\n",
              "      fill: #FFFFFF;\n",
              "    }\n",
              "  </style>\n",
              "\n",
              "      <script>\n",
              "        const buttonEl =\n",
              "          document.querySelector('#df-73c01029-0a73-4f69-b148-9445bfd24d16 button.colab-df-convert');\n",
              "        buttonEl.style.display =\n",
              "          google.colab.kernel.accessAllowed ? 'block' : 'none';\n",
              "\n",
              "        async function convertToInteractive(key) {\n",
              "          const element = document.querySelector('#df-73c01029-0a73-4f69-b148-9445bfd24d16');\n",
              "          const dataTable =\n",
              "            await google.colab.kernel.invokeFunction('convertToInteractive',\n",
              "                                                     [key], {});\n",
              "          if (!dataTable) return;\n",
              "\n",
              "          const docLinkHtml = 'Like what you see? Visit the ' +\n",
              "            '<a target=\"_blank\" href=https://colab.research.google.com/notebooks/data_table.ipynb>data table notebook</a>'\n",
              "            + ' to learn more about interactive tables.';\n",
              "          element.innerHTML = '';\n",
              "          dataTable['output_type'] = 'display_data';\n",
              "          await google.colab.output.renderOutput(dataTable, element);\n",
              "          const docLink = document.createElement('div');\n",
              "          docLink.innerHTML = docLinkHtml;\n",
              "          element.appendChild(docLink);\n",
              "        }\n",
              "      </script>\n",
              "    </div>\n",
              "  </div>\n",
              "  "
            ]
          },
          "metadata": {},
          "execution_count": 7
        }
      ],
      "source": [
        "data.tail()"
      ]
    },
    {
      "cell_type": "markdown",
      "metadata": {
        "id": "YBdC73IhzEdB"
      },
      "source": [
        "### Understanding the dataset"
      ]
    },
    {
      "cell_type": "code",
      "execution_count": 8,
      "metadata": {
        "colab": {
          "base_uri": "https://localhost:8080/"
        },
        "id": "9VRoFGuBtGO_",
        "outputId": "f0bada63-9a88-4b97-c14c-f0a29fc545b8"
      },
      "outputs": [
        {
          "output_type": "execute_result",
          "data": {
            "text/plain": [
              "(48842, 15)"
            ]
          },
          "metadata": {},
          "execution_count": 8
        }
      ],
      "source": [
        "data.shape"
      ]
    },
    {
      "cell_type": "code",
      "execution_count": 9,
      "metadata": {
        "colab": {
          "base_uri": "https://localhost:8080/"
        },
        "id": "AU-IFkrEzUV4",
        "outputId": "344fa2c2-7fcf-497f-9491-d88710b15738"
      },
      "outputs": [
        {
          "output_type": "stream",
          "name": "stdout",
          "text": [
            "<class 'pandas.core.frame.DataFrame'>\n",
            "RangeIndex: 48842 entries, 0 to 48841\n",
            "Data columns (total 15 columns):\n",
            " #   Column           Non-Null Count  Dtype \n",
            "---  ------           --------------  ----- \n",
            " 0   age              48842 non-null  int64 \n",
            " 1   workclass        48842 non-null  object\n",
            " 2   fnlwgt           48842 non-null  int64 \n",
            " 3   education        48842 non-null  object\n",
            " 4   educational-num  48842 non-null  int64 \n",
            " 5   marital-status   48842 non-null  object\n",
            " 6   occupation       48842 non-null  object\n",
            " 7   relationship     48842 non-null  object\n",
            " 8   race             48842 non-null  object\n",
            " 9   gender           48842 non-null  object\n",
            " 10  capital-gain     48842 non-null  int64 \n",
            " 11  capital-loss     48842 non-null  int64 \n",
            " 12  hours-per-week   48842 non-null  int64 \n",
            " 13  native-country   48842 non-null  object\n",
            " 14  Salary           48842 non-null  object\n",
            "dtypes: int64(6), object(9)\n",
            "memory usage: 5.6+ MB\n"
          ]
        }
      ],
      "source": [
        "\n",
        "data.info()"
      ]
    },
    {
      "cell_type": "code",
      "execution_count": 10,
      "metadata": {
        "colab": {
          "base_uri": "https://localhost:8080/"
        },
        "id": "JMIx-XGL2LNI",
        "outputId": "ee14c580-0385-4f30-f2e1-e5091fed10bb"
      },
      "outputs": [
        {
          "output_type": "stream",
          "name": "stdout",
          "text": [
            "Number of Columns in the dataset:  15\n",
            "Number of rows in the dataset:  48842\n",
            "Total number of datapoints in the dataset: 732630\n",
            "Count of Numerical Features: 6\n",
            "Count of Categorical Features: 9\n"
          ]
        }
      ],
      "source": [
        "def data_info(data):\n",
        "    print('Number of Columns in the dataset: ',data.shape[1])\n",
        "    print('Number of rows in the dataset: ',data.shape[0])\n",
        "    print('Total number of datapoints in the dataset:',data.size)\n",
        "    numerical_features = [f for f in data.columns if data[f].dtypes!='O']\n",
        "    print('Count of Numerical Features:',len(numerical_features))\n",
        "    cat_features = [c for c in data.columns if data[c].dtypes=='O']\n",
        "    print('Count of Categorical Features:',len(cat_features))\n",
        "data_info(data)"
      ]
    },
    {
      "cell_type": "code",
      "execution_count": 11,
      "metadata": {
        "id": "ozOcU9Z_4CRm"
      },
      "outputs": [],
      "source": [
        "def unique_checker(data):\n",
        "    \"\"\"loops and prints unique values in each column\"\"\"\n",
        "    for col in data.columns:\n",
        "        print(\"Unique values in {} feature.\".format(col))\n",
        "        print(data[col].unique(),\"\\n\")\n",
        "        print(\"*\"*40)"
      ]
    },
    {
      "cell_type": "code",
      "execution_count": 12,
      "metadata": {
        "colab": {
          "base_uri": "https://localhost:8080/"
        },
        "id": "e8qDN_7X6RsE",
        "outputId": "0a0cb12a-3758-46e8-acc2-d38e28ba846c"
      },
      "outputs": [
        {
          "output_type": "stream",
          "name": "stdout",
          "text": [
            "Unique values in age feature.\n",
            "[25 38 28 44 18 34 29 63 24 55 65 36 26 58 48 43 20 37 40 72 45 22 23 54\n",
            " 32 46 56 17 39 52 21 42 33 30 47 41 19 69 50 31 59 49 51 27 57 61 64 79\n",
            " 73 53 77 80 62 35 68 66 75 60 67 71 70 90 81 74 78 82 83 85 76 84 89 88\n",
            " 87 86] \n",
            "\n",
            "****************************************\n",
            "Unique values in workclass feature.\n",
            "['Private' 'Local-gov' '?' 'Self-emp-not-inc' 'Federal-gov' 'State-gov'\n",
            " 'Self-emp-inc' 'Without-pay' 'Never-worked'] \n",
            "\n",
            "****************************************\n",
            "Unique values in fnlwgt feature.\n",
            "[226802  89814 336951 ... 129912 255835 257302] \n",
            "\n",
            "****************************************\n",
            "Unique values in education feature.\n",
            "['11th' 'HS-grad' 'Assoc-acdm' 'Some-college' '10th' 'Prof-school'\n",
            " '7th-8th' 'Bachelors' 'Masters' 'Doctorate' '5th-6th' 'Assoc-voc' '9th'\n",
            " '12th' '1st-4th' 'Preschool'] \n",
            "\n",
            "****************************************\n",
            "Unique values in educational-num feature.\n",
            "[ 7  9 12 10  6 15  4 13 14 16  3 11  5  8  2  1] \n",
            "\n",
            "****************************************\n",
            "Unique values in marital-status feature.\n",
            "['Never-married' 'Married-civ-spouse' 'Widowed' 'Divorced' 'Separated'\n",
            " 'Married-spouse-absent' 'Married-AF-spouse'] \n",
            "\n",
            "****************************************\n",
            "Unique values in occupation feature.\n",
            "['Machine-op-inspct' 'Farming-fishing' 'Protective-serv' '?'\n",
            " 'Other-service' 'Prof-specialty' 'Craft-repair' 'Adm-clerical'\n",
            " 'Exec-managerial' 'Tech-support' 'Sales' 'Priv-house-serv'\n",
            " 'Transport-moving' 'Handlers-cleaners' 'Armed-Forces'] \n",
            "\n",
            "****************************************\n",
            "Unique values in relationship feature.\n",
            "['Own-child' 'Husband' 'Not-in-family' 'Unmarried' 'Wife' 'Other-relative'] \n",
            "\n",
            "****************************************\n",
            "Unique values in race feature.\n",
            "['Black' 'White' 'Asian-Pac-Islander' 'Other' 'Amer-Indian-Eskimo'] \n",
            "\n",
            "****************************************\n",
            "Unique values in gender feature.\n",
            "['Male' 'Female'] \n",
            "\n",
            "****************************************\n",
            "Unique values in capital-gain feature.\n",
            "[    0  7688  3103  6418  7298  3908 14084  5178 15024 99999  2597  2907\n",
            "  4650  6497  1055  5013 27828  4934  4064  3674  2174 10605  3418   114\n",
            "  2580  3411  4508  4386  8614 13550  6849  2463  3137  2885  2964  1471\n",
            " 10566  2354  1424  1455  3325  4416 25236   594  2105  4787  2829   401\n",
            "  4865  1264  1506 10520  3464  2653 20051  4101  1797  2407  3471  1086\n",
            "  1848 14344  1151  2993  2290 15020  9386  2202  3818  2176  5455 11678\n",
            "  7978  7262  6514 41310  3456  7430  2414  2062 34095  1831  6723  5060\n",
            " 15831  2977  2346  3273  2329  9562  2635  4931  1731  6097   914  7896\n",
            "  5556  1409  3781  3942  2538  3887 25124  7443  5721  1173  4687  6612\n",
            "  6767  2961   991  2036  2936  2050  1111  2228 22040  3432  6360  2009\n",
            "  1639 18481  2387] \n",
            "\n",
            "****************************************\n",
            "Unique values in capital-loss feature.\n",
            "[   0 1721 1876 2415 1887  625 1977 2057 1429 1590 1485 2051 2377 1672\n",
            " 1628 1902 1602 1741 2444 1408 2001 2042 1740 1825 1848 1719 3004 2179\n",
            " 1573 2205 1258 2339 1726 2258 1340 1504 2559 1668 1974 1980 1564 2547\n",
            " 2002 1669 1617  323 3175 2472 2174 1579 2129 1510 1735 2282 1870 1411\n",
            " 1911 1651 1092 1762 2457 2231 2238  653 1138 2246 2603 2392 1944 1380\n",
            " 2465 1421 3770 1594  213 2149 2824 1844 2467 2163 1816 1648 2206 2352\n",
            "  419 1539  880  810  974 4356 2489 1755 3683 2267 2080  155 3900 2201\n",
            " 2754] \n",
            "\n",
            "****************************************\n",
            "Unique values in hours-per-week feature.\n",
            "[40 50 30 32 10 39 35 48 25 20 45 47  6 43 90 54 60 38 36 18 24 44 56 28\n",
            " 16 41 22 55 14 33 37  8 12 70 15 75 52 84 42 80 68 99 65  5 17 72 53 29\n",
            " 96 21 46  3  1 23 49 67 76  7  2 58 26 34  4 51 78 63 31 92 77 27 85 13\n",
            " 19 98 62 66 57 11 86 59  9 64 73 61 88 79 89 74 69 87 97 94 82 91 81 95] \n",
            "\n",
            "****************************************\n",
            "Unique values in native-country feature.\n",
            "['United-States' '?' 'Peru' 'Guatemala' 'Mexico' 'Dominican-Republic'\n",
            " 'Ireland' 'Germany' 'Philippines' 'Thailand' 'Haiti' 'El-Salvador'\n",
            " 'Puerto-Rico' 'Vietnam' 'South' 'Columbia' 'Japan' 'India' 'Cambodia'\n",
            " 'Poland' 'Laos' 'England' 'Cuba' 'Taiwan' 'Italy' 'Canada' 'Portugal'\n",
            " 'China' 'Nicaragua' 'Honduras' 'Iran' 'Scotland' 'Jamaica' 'Ecuador'\n",
            " 'Yugoslavia' 'Hungary' 'Hong' 'Greece' 'Trinadad&Tobago'\n",
            " 'Outlying-US(Guam-USVI-etc)' 'France' 'Holand-Netherlands'] \n",
            "\n",
            "****************************************\n",
            "Unique values in Salary feature.\n",
            "['<=50K' '>50K'] \n",
            "\n",
            "****************************************\n"
          ]
        }
      ],
      "source": [
        "unique_checker(data) #scroll / toggle output to view all outputs\n",
        "\n",
        "# Note:\n",
        "## this step is just for the Data Understanding part\n",
        "### Not intergral to the straightforward analysis "
      ]
    },
    {
      "cell_type": "code",
      "execution_count": 13,
      "metadata": {
        "id": "J2x9_-g86crN"
      },
      "outputs": [],
      "source": [
        "def count_checker(data):\n",
        "    \"\"\"count of each value under each feature in the data\"\"\"\n",
        "    for col in data.columns:\n",
        "        print(\"Count for each category of values in {} feature.\".format(col))\n",
        "        print(data[col].value_counts(),\"\\n\")\n",
        "        print(\"*\"*40)"
      ]
    },
    {
      "cell_type": "code",
      "execution_count": 14,
      "metadata": {
        "colab": {
          "base_uri": "https://localhost:8080/"
        },
        "id": "uz2c19Gv6iFr",
        "outputId": "e04c4727-1e14-46e3-e82f-d82c88dc5815"
      },
      "outputs": [
        {
          "output_type": "stream",
          "name": "stdout",
          "text": [
            "Count for each category of values in age feature.\n",
            "36    1348\n",
            "35    1337\n",
            "33    1335\n",
            "23    1329\n",
            "31    1325\n",
            "      ... \n",
            "88       6\n",
            "85       5\n",
            "87       3\n",
            "89       2\n",
            "86       1\n",
            "Name: age, Length: 74, dtype: int64 \n",
            "\n",
            "****************************************\n",
            "Count for each category of values in workclass feature.\n",
            "Private             33906\n",
            "Self-emp-not-inc     3862\n",
            "Local-gov            3136\n",
            "?                    2799\n",
            "State-gov            1981\n",
            "Self-emp-inc         1695\n",
            "Federal-gov          1432\n",
            "Without-pay            21\n",
            "Never-worked           10\n",
            "Name: workclass, dtype: int64 \n",
            "\n",
            "****************************************\n",
            "Count for each category of values in fnlwgt feature.\n",
            "203488    21\n",
            "190290    19\n",
            "120277    19\n",
            "125892    18\n",
            "126569    18\n",
            "          ..\n",
            "188488     1\n",
            "285290     1\n",
            "293579     1\n",
            "114874     1\n",
            "257302     1\n",
            "Name: fnlwgt, Length: 28523, dtype: int64 \n",
            "\n",
            "****************************************\n",
            "Count for each category of values in education feature.\n",
            "HS-grad         15784\n",
            "Some-college    10878\n",
            "Bachelors        8025\n",
            "Masters          2657\n",
            "Assoc-voc        2061\n",
            "11th             1812\n",
            "Assoc-acdm       1601\n",
            "10th             1389\n",
            "7th-8th           955\n",
            "Prof-school       834\n",
            "9th               756\n",
            "12th              657\n",
            "Doctorate         594\n",
            "5th-6th           509\n",
            "1st-4th           247\n",
            "Preschool          83\n",
            "Name: education, dtype: int64 \n",
            "\n",
            "****************************************\n",
            "Count for each category of values in educational-num feature.\n",
            "9     15784\n",
            "10    10878\n",
            "13     8025\n",
            "14     2657\n",
            "11     2061\n",
            "7      1812\n",
            "12     1601\n",
            "6      1389\n",
            "4       955\n",
            "15      834\n",
            "5       756\n",
            "8       657\n",
            "16      594\n",
            "3       509\n",
            "2       247\n",
            "1        83\n",
            "Name: educational-num, dtype: int64 \n",
            "\n",
            "****************************************\n",
            "Count for each category of values in marital-status feature.\n",
            "Married-civ-spouse       22379\n",
            "Never-married            16117\n",
            "Divorced                  6633\n",
            "Separated                 1530\n",
            "Widowed                   1518\n",
            "Married-spouse-absent      628\n",
            "Married-AF-spouse           37\n",
            "Name: marital-status, dtype: int64 \n",
            "\n",
            "****************************************\n",
            "Count for each category of values in occupation feature.\n",
            "Prof-specialty       6172\n",
            "Craft-repair         6112\n",
            "Exec-managerial      6086\n",
            "Adm-clerical         5611\n",
            "Sales                5504\n",
            "Other-service        4923\n",
            "Machine-op-inspct    3022\n",
            "?                    2809\n",
            "Transport-moving     2355\n",
            "Handlers-cleaners    2072\n",
            "Farming-fishing      1490\n",
            "Tech-support         1446\n",
            "Protective-serv       983\n",
            "Priv-house-serv       242\n",
            "Armed-Forces           15\n",
            "Name: occupation, dtype: int64 \n",
            "\n",
            "****************************************\n",
            "Count for each category of values in relationship feature.\n",
            "Husband           19716\n",
            "Not-in-family     12583\n",
            "Own-child          7581\n",
            "Unmarried          5125\n",
            "Wife               2331\n",
            "Other-relative     1506\n",
            "Name: relationship, dtype: int64 \n",
            "\n",
            "****************************************\n",
            "Count for each category of values in race feature.\n",
            "White                 41762\n",
            "Black                  4685\n",
            "Asian-Pac-Islander     1519\n",
            "Amer-Indian-Eskimo      470\n",
            "Other                   406\n",
            "Name: race, dtype: int64 \n",
            "\n",
            "****************************************\n",
            "Count for each category of values in gender feature.\n",
            "Male      32650\n",
            "Female    16192\n",
            "Name: gender, dtype: int64 \n",
            "\n",
            "****************************************\n",
            "Count for each category of values in capital-gain feature.\n",
            "0        44807\n",
            "15024      513\n",
            "7688       410\n",
            "7298       364\n",
            "99999      244\n",
            "         ...  \n",
            "1111         1\n",
            "7262         1\n",
            "22040        1\n",
            "1639         1\n",
            "2387         1\n",
            "Name: capital-gain, Length: 123, dtype: int64 \n",
            "\n",
            "****************************************\n",
            "Count for each category of values in capital-loss feature.\n",
            "0       46560\n",
            "1902      304\n",
            "1977      253\n",
            "1887      233\n",
            "2415       72\n",
            "        ...  \n",
            "2465        1\n",
            "2080        1\n",
            "155         1\n",
            "1911        1\n",
            "2201        1\n",
            "Name: capital-loss, Length: 99, dtype: int64 \n",
            "\n",
            "****************************************\n",
            "Count for each category of values in hours-per-week feature.\n",
            "40    22803\n",
            "50     4246\n",
            "45     2717\n",
            "60     2177\n",
            "35     1937\n",
            "      ...  \n",
            "69        1\n",
            "87        1\n",
            "94        1\n",
            "82        1\n",
            "79        1\n",
            "Name: hours-per-week, Length: 96, dtype: int64 \n",
            "\n",
            "****************************************\n",
            "Count for each category of values in native-country feature.\n",
            "United-States                 43832\n",
            "Mexico                          951\n",
            "?                               857\n",
            "Philippines                     295\n",
            "Germany                         206\n",
            "Puerto-Rico                     184\n",
            "Canada                          182\n",
            "El-Salvador                     155\n",
            "India                           151\n",
            "Cuba                            138\n",
            "England                         127\n",
            "China                           122\n",
            "South                           115\n",
            "Jamaica                         106\n",
            "Italy                           105\n",
            "Dominican-Republic              103\n",
            "Japan                            92\n",
            "Guatemala                        88\n",
            "Poland                           87\n",
            "Vietnam                          86\n",
            "Columbia                         85\n",
            "Haiti                            75\n",
            "Portugal                         67\n",
            "Taiwan                           65\n",
            "Iran                             59\n",
            "Greece                           49\n",
            "Nicaragua                        49\n",
            "Peru                             46\n",
            "Ecuador                          45\n",
            "France                           38\n",
            "Ireland                          37\n",
            "Hong                             30\n",
            "Thailand                         30\n",
            "Cambodia                         28\n",
            "Trinadad&Tobago                  27\n",
            "Laos                             23\n",
            "Yugoslavia                       23\n",
            "Outlying-US(Guam-USVI-etc)       23\n",
            "Scotland                         21\n",
            "Honduras                         20\n",
            "Hungary                          19\n",
            "Holand-Netherlands                1\n",
            "Name: native-country, dtype: int64 \n",
            "\n",
            "****************************************\n",
            "Count for each category of values in Salary feature.\n",
            "<=50K    37155\n",
            ">50K     11687\n",
            "Name: Salary, dtype: int64 \n",
            "\n",
            "****************************************\n"
          ]
        }
      ],
      "source": [
        "count_checker(data) #scroll / toggle output to view all outputs\n",
        "# Note:\n",
        "## this step is just for the Data Understanding part\n",
        "### Not intergral to the straightforward analysis "
      ]
    },
    {
      "cell_type": "markdown",
      "metadata": {
        "id": "BzNiQA2Y2MBK"
      },
      "source": [
        "**Findings**\n",
        "\n",
        "- The dataset contains 48,842 entries with a total of 15 columns representing different attributes of the people. Here’s the list;\n",
        "\n",
        "1. Age: Discrete (from 17 to 90)\n",
        "2. Work class (Private, Federal-Government, etc): Nominal (9 categories)\n",
        "3. Final Weight (the number of people the census believes the entry represents): Discrete\n",
        "4. Education (the highest level of education obtained): Ordinal (16 categories)\n",
        "5. Education Number (the number of years of education): Discrete (from 1 to 16)\n",
        "6. Marital Status: Nominal (7 categories)\n",
        "7. Occupation (Transport-Moving, Craft-Repair, etc): Nominal (15 categories)\n",
        "8. Relationship in family (unmarried, not in the family, etc): Nominal (6 categories)\n",
        "9. Race: Nominal (5 categories)\n",
        "10. Sex: Nominal (2 categories)\n",
        "11. Capital Gain: Continous\n",
        "12. Capital Loss: Continous\n",
        "13. Hours (worked) per week: Discrete (from 1 to 99)\n",
        "14. Native Country: Nominal (42 countries)\n",
        "15. Salary (whether or not an individual makes more than 50,000 dollar annually):     Boolean (≤50k, >50k)"
      ]
    },
    {
      "cell_type": "code",
      "execution_count": 15,
      "metadata": {
        "colab": {
          "base_uri": "https://localhost:8080/"
        },
        "id": "QXWlBiWoMxQm",
        "outputId": "2170e078-9a08-4d20-c6d3-adc87a84277e"
      },
      "outputs": [
        {
          "output_type": "execute_result",
          "data": {
            "text/plain": [
              "Index(['age', 'workclass', 'fnlwgt', 'education', 'educational-num',\n",
              "       'marital-status', 'occupation', 'relationship', 'race', 'gender',\n",
              "       'capital-gain', 'capital-loss', 'hours-per-week', 'native-country',\n",
              "       'Salary'],\n",
              "      dtype='object')"
            ]
          },
          "metadata": {},
          "execution_count": 15
        }
      ],
      "source": [
        "#creating a Dataframe from the given dataset\n",
        "df = pd.DataFrame(data)\n",
        "df.columns"
      ]
    },
    {
      "cell_type": "markdown",
      "metadata": {
        "id": "-o4mYva5MxuD"
      },
      "source": [
        "### Renaming the columns"
      ]
    },
    {
      "cell_type": "code",
      "execution_count": 16,
      "metadata": {
        "colab": {
          "base_uri": "https://localhost:8080/"
        },
        "id": "bjMx24aWMtgu",
        "outputId": "d8d6f1b9-35b9-42e9-b6e8-f704c46ce15f"
      },
      "outputs": [
        {
          "output_type": "execute_result",
          "data": {
            "text/plain": [
              "Index(['age', 'workclass', 'fnlwgt', 'education', 'educational-num', 'marital',\n",
              "       'occupation', 'relationship', 'race', 'gender', 'capital_gain',\n",
              "       'capital_loss', 'hours_per_week', 'country', 'Salary'],\n",
              "      dtype='object')"
            ]
          },
          "metadata": {},
          "execution_count": 16
        }
      ],
      "source": [
        "\n",
        "#replacing some special character columns names with proper names \n",
        "df.rename(columns={'capital-gain': 'capital_gain', 'capital-loss': 'capital_loss', 'native-country': 'country','hours-per-week': 'hours_per_week','marital-status': 'marital'}, inplace=True)\n",
        "df.columns"
      ]
    },
    {
      "cell_type": "markdown",
      "metadata": {
        "id": "n0D1suJm6_uS"
      },
      "source": [
        "### Data Cleaning"
      ]
    },
    {
      "cell_type": "markdown",
      "metadata": {
        "id": "1_kElLutJX5V"
      },
      "source": [
        "### 1. Missing Values"
      ]
    },
    {
      "cell_type": "code",
      "execution_count": 17,
      "metadata": {
        "colab": {
          "base_uri": "https://localhost:8080/"
        },
        "id": "Ru9Hf2zQ7EpQ",
        "outputId": "ecdccde4-a809-4436-8723-378ee585168f"
      },
      "outputs": [
        {
          "output_type": "execute_result",
          "data": {
            "text/plain": [
              "age                0\n",
              "workclass          0\n",
              "fnlwgt             0\n",
              "education          0\n",
              "educational-num    0\n",
              "marital            0\n",
              "occupation         0\n",
              "relationship       0\n",
              "race               0\n",
              "gender             0\n",
              "capital_gain       0\n",
              "capital_loss       0\n",
              "hours_per_week     0\n",
              "country            0\n",
              "Salary             0\n",
              "dtype: int64"
            ]
          },
          "metadata": {},
          "execution_count": 17
        }
      ],
      "source": [
        " #check the missing value\n",
        "df.isnull().sum()"
      ]
    },
    {
      "cell_type": "code",
      "execution_count": 17,
      "metadata": {
        "id": "gJIBfPzfN3SV"
      },
      "outputs": [],
      "source": [
        ""
      ]
    },
    {
      "cell_type": "markdown",
      "metadata": {
        "id": "qMXX4jxdN37I"
      },
      "source": [
        "**Above sum shows there are no null values in the dataset.**"
      ]
    },
    {
      "cell_type": "code",
      "execution_count": 18,
      "metadata": {
        "colab": {
          "base_uri": "https://localhost:8080/"
        },
        "id": "V7sDlg00JpPZ",
        "outputId": "e23063ae-616d-493f-dfe1-77dc6416f045"
      },
      "outputs": [
        {
          "output_type": "execute_result",
          "data": {
            "text/plain": [
              "age                   0\n",
              "workclass          2799\n",
              "fnlwgt                0\n",
              "education             0\n",
              "educational-num       0\n",
              "marital               0\n",
              "occupation         2809\n",
              "relationship          0\n",
              "race                  0\n",
              "gender                0\n",
              "capital_gain          0\n",
              "capital_loss          0\n",
              "hours_per_week        0\n",
              "country             857\n",
              "Salary                0\n",
              "dtype: int64"
            ]
          },
          "metadata": {},
          "execution_count": 18
        }
      ],
      "source": [
        "#we can see that there are some special characters in the data like ‘?’.\n",
        "#Finding the special characters in the data frame\n",
        "df.isin(['?']).sum(axis=0)"
      ]
    },
    {
      "cell_type": "markdown",
      "metadata": {
        "id": "5rAbmNKLNsEa"
      },
      "source": [
        "**Findings**\n",
        "\n",
        "- we see that there is a special character as \" ?\" for columns workcalss, Occupation, and country, we need to clean those data. \n",
        "- In this case, as the missing value fall into the categorical features, we will use the pandas DataFrame mode() method to fill the missing value."
      ]
    },
    {
      "cell_type": "code",
      "execution_count": 19,
      "metadata": {
        "id": "zMxpUAr_OdBi"
      },
      "outputs": [],
      "source": [
        "#Handling missing values\n",
        "# the code will replace the special character to nan  \n",
        "df['country'] = df['country'].replace('?',np.nan)\n",
        "df['workclass'] = df['workclass'].replace('?',np.nan)\n",
        "df['occupation'] = df['occupation'].replace('?',np.nan)\n",
        "\n"
      ]
    },
    {
      "cell_type": "code",
      "execution_count": 20,
      "metadata": {
        "colab": {
          "base_uri": "https://localhost:8080/"
        },
        "id": "YHSfyaD2sn9E",
        "outputId": "50bb6bb4-6c9c-4334-c69b-c0e01ce70ec9"
      },
      "outputs": [
        {
          "output_type": "execute_result",
          "data": {
            "text/plain": [
              "age                   0\n",
              "workclass          2799\n",
              "fnlwgt                0\n",
              "education             0\n",
              "educational-num       0\n",
              "marital               0\n",
              "occupation         2809\n",
              "relationship          0\n",
              "race                  0\n",
              "gender                0\n",
              "capital_gain          0\n",
              "capital_loss          0\n",
              "hours_per_week        0\n",
              "country             857\n",
              "Salary                0\n",
              "dtype: int64"
            ]
          },
          "metadata": {},
          "execution_count": 20
        }
      ],
      "source": [
        "\n",
        "df.isnull().sum()"
      ]
    },
    {
      "cell_type": "code",
      "execution_count": 21,
      "metadata": {
        "id": "IkLWBnPiPl-P"
      },
      "outputs": [],
      "source": [
        "#we will use the pandas DataFrame mode() method to fill the missing value.\n",
        "df = df.fillna(df.mode().iloc[0])"
      ]
    },
    {
      "cell_type": "code",
      "execution_count": 22,
      "metadata": {
        "colab": {
          "base_uri": "https://localhost:8080/"
        },
        "id": "XstODt29sn9F",
        "outputId": "b75ab508-2514-4a3e-dfd6-63e61f758327"
      },
      "outputs": [
        {
          "output_type": "execute_result",
          "data": {
            "text/plain": [
              "age                0\n",
              "workclass          0\n",
              "fnlwgt             0\n",
              "education          0\n",
              "educational-num    0\n",
              "marital            0\n",
              "occupation         0\n",
              "relationship       0\n",
              "race               0\n",
              "gender             0\n",
              "capital_gain       0\n",
              "capital_loss       0\n",
              "hours_per_week     0\n",
              "country            0\n",
              "Salary             0\n",
              "dtype: int64"
            ]
          },
          "metadata": {},
          "execution_count": 22
        }
      ],
      "source": [
        "df.isnull().sum()"
      ]
    },
    {
      "cell_type": "markdown",
      "metadata": {
        "id": "_JBr7O5ksn9G"
      },
      "source": [
        "### 2. Remove duplicate data "
      ]
    },
    {
      "cell_type": "code",
      "execution_count": 23,
      "metadata": {
        "colab": {
          "base_uri": "https://localhost:8080/"
        },
        "id": "cGYaHaP4sn9G",
        "outputId": "71ae500c-275e-40fa-a7b3-526dcd7f2dbb"
      },
      "outputs": [
        {
          "output_type": "execute_result",
          "data": {
            "text/plain": [
              "53"
            ]
          },
          "metadata": {},
          "execution_count": 23
        }
      ],
      "source": [
        "#Checking for duplicated entries\n",
        "sum(df.duplicated(df.columns))"
      ]
    },
    {
      "cell_type": "code",
      "execution_count": 24,
      "metadata": {
        "colab": {
          "base_uri": "https://localhost:8080/"
        },
        "id": "g2k_WAN7sn9H",
        "outputId": "185aebb2-c83a-4f5e-8455-15768c643092"
      },
      "outputs": [
        {
          "output_type": "execute_result",
          "data": {
            "text/plain": [
              "0"
            ]
          },
          "metadata": {},
          "execution_count": 24
        }
      ],
      "source": [
        "#Delete the duplicates and check that it worked\n",
        "df = df.drop_duplicates(df.columns, keep='last')\n",
        "sum(df.duplicated(df.columns))"
      ]
    },
    {
      "cell_type": "code",
      "execution_count": 25,
      "metadata": {
        "colab": {
          "base_uri": "https://localhost:8080/"
        },
        "id": "daVhJlX4sn9H",
        "outputId": "96fd3248-4c15-4614-8f56-7ef2a2234e87"
      },
      "outputs": [
        {
          "output_type": "execute_result",
          "data": {
            "text/plain": [
              "(48789, 15)"
            ]
          },
          "metadata": {},
          "execution_count": 25
        }
      ],
      "source": [
        "df.shape"
      ]
    },
    {
      "cell_type": "code",
      "execution_count": 26,
      "metadata": {
        "scrolled": true,
        "colab": {
          "base_uri": "https://localhost:8080/"
        },
        "id": "kaDebLqAsn9I",
        "outputId": "77af7280-95e4-403a-b124-0abbdff2bca9"
      },
      "outputs": [
        {
          "output_type": "execute_result",
          "data": {
            "text/plain": [
              "Index(['age', 'workclass', 'fnlwgt', 'education', 'educational-num', 'marital',\n",
              "       'occupation', 'relationship', 'race', 'gender', 'capital_gain',\n",
              "       'capital_loss', 'hours_per_week', 'country', 'Salary'],\n",
              "      dtype='object')"
            ]
          },
          "metadata": {},
          "execution_count": 26
        }
      ],
      "source": [
        "df.columns"
      ]
    },
    {
      "cell_type": "code",
      "execution_count": 27,
      "metadata": {
        "colab": {
          "base_uri": "https://localhost:8080/"
        },
        "id": "VPFavxnysn9I",
        "outputId": "4cad5ade-bca4-4fb9-c0ba-5373e5b119e8"
      },
      "outputs": [
        {
          "output_type": "execute_result",
          "data": {
            "text/plain": [
              "3.0"
            ]
          },
          "metadata": {},
          "execution_count": 27
        }
      ],
      "source": [
        "3."
      ]
    },
    {
      "cell_type": "markdown",
      "metadata": {
        "id": "IE8Z-1Lrsn9J"
      },
      "source": [
        "### 3. Handling Outliers"
      ]
    },
    {
      "cell_type": "code",
      "execution_count": 28,
      "metadata": {
        "scrolled": true,
        "colab": {
          "base_uri": "https://localhost:8080/",
          "height": 1000
        },
        "id": "ALhirEabsn9J",
        "outputId": "6e594250-0b81-4bbb-94ca-aecc9d734015"
      },
      "outputs": [
        {
          "output_type": "display_data",
          "data": {
            "text/plain": [
              "<Figure size 432x288 with 1 Axes>"
            ],
            "image/png": "[encoded data removed]"
          },
          "metadata": {
            "needs_background": "light"
          }
        },
        {
          "output_type": "display_data",
          "data": {
            "text/plain": [
              "<Figure size 432x288 with 1 Axes>"
            ],
            "image/png": "[encoded data removed]"
          },
          "metadata": {
            "needs_background": "light"
          }
        },
        {
          "output_type": "display_data",
          "data": {
            "text/plain": [
              "<Figure size 432x288 with 1 Axes>"
            ],
            "image/png": "[encoded data removed]"
          },
          "metadata": {
            "needs_background": "light"
          }
        },
        {
          "output_type": "display_data",
          "data": {
            "text/plain": [
              "<Figure size 432x288 with 1 Axes>"
            ],
            "image/png": "[encoded data removed]"
          },
          "metadata": {
            "needs_background": "light"
          }
        },
        {
          "output_type": "display_data",
          "data": {
            "text/plain": [
              "<Figure size 432x288 with 1 Axes>"
            ],
            "image/png": "[encoded data removed]"
          },
          "metadata": {
            "needs_background": "light"
          }
        }
      ],
      "source": [
        "## checking outliers\n",
        "for i in ['age', 'fnlwgt',\n",
        "       'capital_gain','capital_loss','hours_per_week'] :\n",
        "    plt.title(i)\n",
        "    sns.boxplot(data=df[i])\n",
        "    plt.show()  \n"
      ]
    },
    {
      "cell_type": "code",
      "execution_count": 29,
      "metadata": {
        "colab": {
          "base_uri": "https://localhost:8080/",
          "height": 406
        },
        "id": "FyC8-OH8sn9K",
        "outputId": "b42832ff-0a31-4dd5-de6b-65353c3d6792"
      },
      "outputs": [
        {
          "output_type": "execute_result",
          "data": {
            "text/plain": [
              "   age  workclass  fnlwgt     education  educational-num             marital  \\\n",
              "0   25    Private  226802          11th                7       Never-married   \n",
              "1   38    Private   89814       HS-grad                9  Married-civ-spouse   \n",
              "2   28  Local-gov  336951    Assoc-acdm               12  Married-civ-spouse   \n",
              "3   44    Private  160323  Some-college               10  Married-civ-spouse   \n",
              "4   18    Private  103497  Some-college               10       Never-married   \n",
              "\n",
              "          occupation relationship   race  gender  capital_gain  capital_loss  \\\n",
              "0  Machine-op-inspct    Own-child  Black    Male             0             0   \n",
              "1    Farming-fishing      Husband  White    Male             0             0   \n",
              "2    Protective-serv      Husband  White    Male             0             0   \n",
              "3  Machine-op-inspct      Husband  Black    Male          7688             0   \n",
              "4     Prof-specialty    Own-child  White  Female             0             0   \n",
              "\n",
              "   hours_per_week        country Salary  \n",
              "0              40  United-States  <=50K  \n",
              "1              50  United-States  <=50K  \n",
              "2              40  United-States   >50K  \n",
              "3              40  United-States   >50K  \n",
              "4              30  United-States  <=50K  "
            ],
            "text/html": [
              "\n",
              "  <div id=\"df-79c5b171-18ff-44a8-a76a-5cb329e9d505\">\n",
              "    <div class=\"colab-df-container\">\n",
              "      <div>\n",
              "<style scoped>\n",
              "    .dataframe tbody tr th:only-of-type {\n",
              "        vertical-align: middle;\n",
              "    }\n",
              "\n",
              "    .dataframe tbody tr th {\n",
              "        vertical-align: top;\n",
              "    }\n",
              "\n",
              "    .dataframe thead th {\n",
              "        text-align: right;\n",
              "    }\n",
              "</style>\n",
              "<table border=\"1\" class=\"dataframe\">\n",
              "  <thead>\n",
              "    <tr style=\"text-align: right;\">\n",
              "      <th></th>\n",
              "      <th>age</th>\n",
              "      <th>workclass</th>\n",
              "      <th>fnlwgt</th>\n",
              "      <th>education</th>\n",
              "      <th>educational-num</th>\n",
              "      <th>marital</th>\n",
              "      <th>occupation</th>\n",
              "      <th>relationship</th>\n",
              "      <th>race</th>\n",
              "      <th>gender</th>\n",
              "      <th>capital_gain</th>\n",
              "      <th>capital_loss</th>\n",
              "      <th>hours_per_week</th>\n",
              "      <th>country</th>\n",
              "      <th>Salary</th>\n",
              "    </tr>\n",
              "  </thead>\n",
              "  <tbody>\n",
              "    <tr>\n",
              "      <th>0</th>\n",
              "      <td>25</td>\n",
              "      <td>Private</td>\n",
              "      <td>226802</td>\n",
              "      <td>11th</td>\n",
              "      <td>7</td>\n",
              "      <td>Never-married</td>\n",
              "      <td>Machine-op-inspct</td>\n",
              "      <td>Own-child</td>\n",
              "      <td>Black</td>\n",
              "      <td>Male</td>\n",
              "      <td>0</td>\n",
              "      <td>0</td>\n",
              "      <td>40</td>\n",
              "      <td>United-States</td>\n",
              "      <td>&lt;=50K</td>\n",
              "    </tr>\n",
              "    <tr>\n",
              "      <th>1</th>\n",
              "      <td>38</td>\n",
              "      <td>Private</td>\n",
              "      <td>89814</td>\n",
              "      <td>HS-grad</td>\n",
              "      <td>9</td>\n",
              "      <td>Married-civ-spouse</td>\n",
              "      <td>Farming-fishing</td>\n",
              "      <td>Husband</td>\n",
              "      <td>White</td>\n",
              "      <td>Male</td>\n",
              "      <td>0</td>\n",
              "      <td>0</td>\n",
              "      <td>50</td>\n",
              "      <td>United-States</td>\n",
              "      <td>&lt;=50K</td>\n",
              "    </tr>\n",
              "    <tr>\n",
              "      <th>2</th>\n",
              "      <td>28</td>\n",
              "      <td>Local-gov</td>\n",
              "      <td>336951</td>\n",
              "      <td>Assoc-acdm</td>\n",
              "      <td>12</td>\n",
              "      <td>Married-civ-spouse</td>\n",
              "      <td>Protective-serv</td>\n",
              "      <td>Husband</td>\n",
              "      <td>White</td>\n",
              "      <td>Male</td>\n",
              "      <td>0</td>\n",
              "      <td>0</td>\n",
              "      <td>40</td>\n",
              "      <td>United-States</td>\n",
              "      <td>&gt;50K</td>\n",
              "    </tr>\n",
              "    <tr>\n",
              "      <th>3</th>\n",
              "      <td>44</td>\n",
              "      <td>Private</td>\n",
              "      <td>160323</td>\n",
              "      <td>Some-college</td>\n",
              "      <td>10</td>\n",
              "      <td>Married-civ-spouse</td>\n",
              "      <td>Machine-op-inspct</td>\n",
              "      <td>Husband</td>\n",
              "      <td>Black</td>\n",
              "      <td>Male</td>\n",
              "      <td>7688</td>\n",
              "      <td>0</td>\n",
              "      <td>40</td>\n",
              "      <td>United-States</td>\n",
              "      <td>&gt;50K</td>\n",
              "    </tr>\n",
              "    <tr>\n",
              "      <th>4</th>\n",
              "      <td>18</td>\n",
              "      <td>Private</td>\n",
              "      <td>103497</td>\n",
              "      <td>Some-college</td>\n",
              "      <td>10</td>\n",
              "      <td>Never-married</td>\n",
              "      <td>Prof-specialty</td>\n",
              "      <td>Own-child</td>\n",
              "      <td>White</td>\n",
              "      <td>Female</td>\n",
              "      <td>0</td>\n",
              "      <td>0</td>\n",
              "      <td>30</td>\n",
              "      <td>United-States</td>\n",
              "      <td>&lt;=50K</td>\n",
              "    </tr>\n",
              "  </tbody>\n",
              "</table>\n",
              "</div>\n",
              "      <button class=\"colab-df-convert\" onclick=\"convertToInteractive('df-79c5b171-18ff-44a8-a76a-5cb329e9d505')\"\n",
              "              title=\"Convert this dataframe to an interactive table.\"\n",
              "              style=\"display:none;\">\n",
              "        \n",
              "  <svg xmlns=\"http://www.w3.org/2000/svg\" height=\"24px\"viewBox=\"0 0 24 24\"\n",
              "       width=\"24px\">\n",
              "    <path d=\"M0 0h24v24H0V0z\" fill=\"none\"/>\n",
              "    <path d=\"M18.56 5.44l.94 2.06.94-2.06 2.06-.94-2.06-.94-.94-2.06-.94 2.06-2.06.94zm-11 1L8.5 8.5l.94-2.06 2.06-.94-2.06-.94L8.5 2.5l-.94 2.06-2.06.94zm10 10l.94 2.06.94-2.06 2.06-.94-2.06-.94-.94-2.06-.94 2.06-2.06.94z\"/><path d=\"M17.41 7.96l-1.37-1.37c-.4-.4-.92-.59-1.43-.59-.52 0-1.04.2-1.43.59L10.3 9.45l-7.72 7.72c-.78.78-.78 2.05 0 2.83L4 21.41c.39.39.9.59 1.41.59.51 0 1.02-.2 1.41-.59l7.78-7.78 2.81-2.81c.8-.78.8-2.07 0-2.86zM5.41 20L4 18.59l7.72-7.72 1.47 1.35L5.41 20z\"/>\n",
              "  </svg>\n",
              "      </button>\n",
              "      \n",
              "  <style>\n",
              "    .colab-df-container {\n",
              "      display:flex;\n",
              "      flex-wrap:wrap;\n",
              "      gap: 12px;\n",
              "    }\n",
              "\n",
              "    .colab-df-convert {\n",
              "      background-color: #E8F0FE;\n",
              "      border: none;\n",
              "      border-radius: 50%;\n",
              "      cursor: pointer;\n",
              "      display: none;\n",
              "      fill: #1967D2;\n",
              "      height: 32px;\n",
              "      padding: 0 0 0 0;\n",
              "      width: 32px;\n",
              "    }\n",
              "\n",
              "    .colab-df-convert:hover {\n",
              "      background-color: #E2EBFA;\n",
              "      box-shadow: 0px 1px 2px rgba(60, 64, 67, 0.3), 0px 1px 3px 1px rgba(60, 64, 67, 0.15);\n",
              "      fill: #174EA6;\n",
              "    }\n",
              "\n",
              "    [theme=dark] .colab-df-convert {\n",
              "      background-color: #3B4455;\n",
              "      fill: #D2E3FC;\n",
              "    }\n",
              "\n",
              "    [theme=dark] .colab-df-convert:hover {\n",
              "      background-color: #434B5C;\n",
              "      box-shadow: 0px 1px 3px 1px rgba(0, 0, 0, 0.15);\n",
              "      filter: drop-shadow(0px 1px 2px rgba(0, 0, 0, 0.3));\n",
              "      fill: #FFFFFF;\n",
              "    }\n",
              "  </style>\n",
              "\n",
              "      <script>\n",
              "        const buttonEl =\n",
              "          document.querySelector('#df-79c5b171-18ff-44a8-a76a-5cb329e9d505 button.colab-df-convert');\n",
              "        buttonEl.style.display =\n",
              "          google.colab.kernel.accessAllowed ? 'block' : 'none';\n",
              "\n",
              "        async function convertToInteractive(key) {\n",
              "          const element = document.querySelector('#df-79c5b171-18ff-44a8-a76a-5cb329e9d505');\n",
              "          const dataTable =\n",
              "            await google.colab.kernel.invokeFunction('convertToInteractive',\n",
              "                                                     [key], {});\n",
              "          if (!dataTable) return;\n",
              "\n",
              "          const docLinkHtml = 'Like what you see? Visit the ' +\n",
              "            '<a target=\"_blank\" href=https://colab.research.google.com/notebooks/data_table.ipynb>data table notebook</a>'\n",
              "            + ' to learn more about interactive tables.';\n",
              "          element.innerHTML = '';\n",
              "          dataTable['output_type'] = 'display_data';\n",
              "          await google.colab.output.renderOutput(dataTable, element);\n",
              "          const docLink = document.createElement('div');\n",
              "          docLink.innerHTML = docLinkHtml;\n",
              "          element.appendChild(docLink);\n",
              "        }\n",
              "      </script>\n",
              "    </div>\n",
              "  </div>\n",
              "  "
            ]
          },
          "metadata": {},
          "execution_count": 29
        }
      ],
      "source": [
        "df1=df\n",
        "df1.head()"
      ]
    },
    {
      "cell_type": "markdown",
      "metadata": {
        "id": "Kwk-b2uSsn9K"
      },
      "source": [
        "### Handling Outliers with age"
      ]
    },
    {
      "cell_type": "code",
      "execution_count": 30,
      "metadata": {
        "id": "wiePXQLisn9K"
      },
      "outputs": [],
      "source": [
        "q1 = np.percentile(df1['age'],25,interpolation='midpoint')\n",
        "q3 = np.percentile(df1['age'],75,interpolation='midpoint')\n",
        "\n",
        "IQR = q3-q1\n",
        "low_limit=q1-1.5*IQR\n",
        "high_limit=q3+1.5*IQR\n",
        "\n",
        "index=df1['age'][(df1['age']<low_limit)|(df1['age']>high_limit)].index\n",
        "df1.drop(index,inplace=True)"
      ]
    },
    {
      "cell_type": "markdown",
      "metadata": {
        "id": "lmlVjI1rsn9L"
      },
      "source": [
        "### Handling Outliers with fnlwgt"
      ]
    },
    {
      "cell_type": "code",
      "execution_count": 31,
      "metadata": {
        "id": "Xz_jwBZMsn9L"
      },
      "outputs": [],
      "source": [
        "q1 = np.percentile(df1['fnlwgt'],25,interpolation='midpoint')\n",
        "q3 = np.percentile(df1['fnlwgt'],75,interpolation='midpoint')\n",
        "\n",
        "IQR = q3-q1\n",
        "low_limit=q1-1.5*IQR\n",
        "high_limit=q3+1.5*IQR\n",
        "\n",
        "index=df1['fnlwgt'][(df1['fnlwgt']<low_limit)|(df1['fnlwgt']>high_limit)].index\n",
        "df1.drop(index,inplace=True)"
      ]
    },
    {
      "cell_type": "markdown",
      "metadata": {
        "id": "7cfmEfpasn9M"
      },
      "source": [
        "### Handling Outliers with capital_gain"
      ]
    },
    {
      "cell_type": "code",
      "execution_count": 32,
      "metadata": {
        "id": "ufSPkkBtsn9M"
      },
      "outputs": [],
      "source": [
        "\n",
        "q1 = np.percentile(df1['capital_gain'],25,interpolation='midpoint')\n",
        "q3 = np.percentile(df1['capital_gain'],75,interpolation='midpoint')\n",
        "\n",
        "IQR = q3-q1\n",
        "low_limit=q1-1.5*IQR\n",
        "high_limit=q3+1.5*IQR\n",
        "\n",
        "index=df1['capital_gain'][(df1['capital_gain']<low_limit)|(df1['capital_gain']>high_limit)].index\n",
        "df1.drop(index,inplace=True)"
      ]
    },
    {
      "cell_type": "markdown",
      "metadata": {
        "id": "A33zxWfLsn9M"
      },
      "source": [
        "### Handling Outliers with capital_loss"
      ]
    },
    {
      "cell_type": "code",
      "execution_count": 34,
      "metadata": {
        "id": "PdCyaYZMsn9N"
      },
      "outputs": [],
      "source": [
        "q1 = np.percentile(df1['capital_loss'],25,interpolation='midpoint')\n",
        "q3 = np.percentile(df1['capital_loss'],75,interpolation='midpoint')\n",
        "\n",
        "IQR = q3-q1\n",
        "low_limit=q1-1.5*IQR\n",
        "high_limit=q3+1.5*IQR\n",
        "\n",
        "index=df1['capital_loss'][(df1['capital_loss']<low_limit)|(df1['capital_loss']>high_limit)].index\n",
        "df1.drop(index,inplace=True)"
      ]
    },
    {
      "cell_type": "markdown",
      "metadata": {
        "id": "JdhAx6GSsn9N"
      },
      "source": [
        "### Handling Outliers with hours_per_week"
      ]
    },
    {
      "cell_type": "code",
      "execution_count": 35,
      "metadata": {
        "id": "Da-VnQBusn9N"
      },
      "outputs": [],
      "source": [
        "q1 = np.percentile(df1['hours_per_week'],25,interpolation='midpoint')\n",
        "q3 = np.percentile(df1['hours_per_week'],75,interpolation='midpoint')\n",
        "\n",
        "IQR = q3-q1\n",
        "low_limit=q1-1.5*IQR\n",
        "high_limit=q3+1.5*IQR\n",
        "\n",
        "index=df1['hours_per_week'][(df1['hours_per_week']<low_limit)|(df1['hours_per_week']>high_limit)].index\n",
        "df1.drop(index,inplace=True)"
      ]
    },
    {
      "cell_type": "code",
      "execution_count": 36,
      "metadata": {
        "colab": {
          "base_uri": "https://localhost:8080/",
          "height": 1000
        },
        "id": "f8cdnpf-sn9O",
        "outputId": "7ea654a1-caa2-47c7-9e74-38d2dd5f1e93"
      },
      "outputs": [
        {
          "output_type": "display_data",
          "data": {
            "text/plain": [
              "<Figure size 432x288 with 1 Axes>"
            ],
            "image/png": "[encoded data removed]"
          },
          "metadata": {
            "needs_background": "light"
          }
        },
        {
          "output_type": "display_data",
          "data": {
            "text/plain": [
              "<Figure size 432x288 with 1 Axes>"
            ],
            "image/png": "[encoded data removed]"
          },
          "metadata": {
            "needs_background": "light"
          }
        },
        {
          "output_type": "display_data",
          "data": {
            "text/plain": [
              "<Figure size 432x288 with 1 Axes>"
            ],
            "image/png": "[encoded data removed]"
          },
          "metadata": {
            "needs_background": "light"
          }
        },
        {
          "output_type": "display_data",
          "data": {
            "text/plain": [
              "<Figure size 432x288 with 1 Axes>"
            ],
            "image/png": "[encoded data removed]"
          },
          "metadata": {
            "needs_background": "light"
          }
        },
        {
          "output_type": "display_data",
          "data": {
            "text/plain": [
              "<Figure size 432x288 with 1 Axes>"
            ],
            "image/png": "[encoded data removed]"
          },
          "metadata": {
            "needs_background": "light"
          }
        }
      ],
      "source": [
        "## checking outliers\n",
        "for i in ['age', 'fnlwgt',\n",
        "       'capital_gain','capital_loss','hours_per_week'] :\n",
        "    plt.title(i)\n",
        "    sns.boxplot(data=df1[i])\n",
        "    plt.show() "
      ]
    },
    {
      "cell_type": "markdown",
      "metadata": {
        "id": "S5uCEaNEsn9O"
      },
      "source": [
        "### 5. Exploratory Data analysis"
      ]
    },
    {
      "cell_type": "markdown",
      "metadata": {
        "id": "omgX4x_1sn9P"
      },
      "source": [
        "#### Check descriptive statistics - Numerical columns"
      ]
    },
    {
      "cell_type": "code",
      "execution_count": 37,
      "metadata": {
        "colab": {
          "base_uri": "https://localhost:8080/",
          "height": 300
        },
        "id": "iAyoS8vssn9P",
        "outputId": "ad078fa4-5928-4cf2-e18e-8127fdfa189a"
      },
      "outputs": [
        {
          "output_type": "execute_result",
          "data": {
            "text/plain": [
              "                age         fnlwgt  educational-num  capital_gain  \\\n",
              "count  29612.000000   29612.000000     29612.000000       29612.0   \n",
              "mean      38.306430  181242.372180         9.990207           0.0   \n",
              "std       12.221412   87329.732998         2.487775           0.0   \n",
              "min       17.000000   13769.000000         1.000000           0.0   \n",
              "25%       28.000000  117222.000000         9.000000           0.0   \n",
              "50%       37.000000  177083.000000        10.000000           0.0   \n",
              "75%       47.000000  230961.000000        12.000000           0.0   \n",
              "max       78.000000  417668.000000        16.000000           0.0   \n",
              "\n",
              "       capital_loss  hours_per_week  \n",
              "count       29612.0    29612.000000  \n",
              "mean            0.0       41.443469  \n",
              "std             0.0        3.946667  \n",
              "min             0.0       33.000000  \n",
              "25%             0.0       40.000000  \n",
              "50%             0.0       40.000000  \n",
              "75%             0.0       40.000000  \n",
              "max             0.0       52.000000  "
            ],
            "text/html": [
              "\n",
              "  <div id=\"df-2521b411-fe57-4de9-9501-48c6a3a4258f\">\n",
              "    <div class=\"colab-df-container\">\n",
              "      <div>\n",
              "<style scoped>\n",
              "    .dataframe tbody tr th:only-of-type {\n",
              "        vertical-align: middle;\n",
              "    }\n",
              "\n",
              "    .dataframe tbody tr th {\n",
              "        vertical-align: top;\n",
              "    }\n",
              "\n",
              "    .dataframe thead th {\n",
              "        text-align: right;\n",
              "    }\n",
              "</style>\n",
              "<table border=\"1\" class=\"dataframe\">\n",
              "  <thead>\n",
              "    <tr style=\"text-align: right;\">\n",
              "      <th></th>\n",
              "      <th>age</th>\n",
              "      <th>fnlwgt</th>\n",
              "      <th>educational-num</th>\n",
              "      <th>capital_gain</th>\n",
              "      <th>capital_loss</th>\n",
              "      <th>hours_per_week</th>\n",
              "    </tr>\n",
              "  </thead>\n",
              "  <tbody>\n",
              "    <tr>\n",
              "      <th>count</th>\n",
              "      <td>29612.000000</td>\n",
              "      <td>29612.000000</td>\n",
              "      <td>29612.000000</td>\n",
              "      <td>29612.0</td>\n",
              "      <td>29612.0</td>\n",
              "      <td>29612.000000</td>\n",
              "    </tr>\n",
              "    <tr>\n",
              "      <th>mean</th>\n",
              "      <td>38.306430</td>\n",
              "      <td>181242.372180</td>\n",
              "      <td>9.990207</td>\n",
              "      <td>0.0</td>\n",
              "      <td>0.0</td>\n",
              "      <td>41.443469</td>\n",
              "    </tr>\n",
              "    <tr>\n",
              "      <th>std</th>\n",
              "      <td>12.221412</td>\n",
              "      <td>87329.732998</td>\n",
              "      <td>2.487775</td>\n",
              "      <td>0.0</td>\n",
              "      <td>0.0</td>\n",
              "      <td>3.946667</td>\n",
              "    </tr>\n",
              "    <tr>\n",
              "      <th>min</th>\n",
              "      <td>17.000000</td>\n",
              "      <td>13769.000000</td>\n",
              "      <td>1.000000</td>\n",
              "      <td>0.0</td>\n",
              "      <td>0.0</td>\n",
              "      <td>33.000000</td>\n",
              "    </tr>\n",
              "    <tr>\n",
              "      <th>25%</th>\n",
              "      <td>28.000000</td>\n",
              "      <td>117222.000000</td>\n",
              "      <td>9.000000</td>\n",
              "      <td>0.0</td>\n",
              "      <td>0.0</td>\n",
              "      <td>40.000000</td>\n",
              "    </tr>\n",
              "    <tr>\n",
              "      <th>50%</th>\n",
              "      <td>37.000000</td>\n",
              "      <td>177083.000000</td>\n",
              "      <td>10.000000</td>\n",
              "      <td>0.0</td>\n",
              "      <td>0.0</td>\n",
              "      <td>40.000000</td>\n",
              "    </tr>\n",
              "    <tr>\n",
              "      <th>75%</th>\n",
              "      <td>47.000000</td>\n",
              "      <td>230961.000000</td>\n",
              "      <td>12.000000</td>\n",
              "      <td>0.0</td>\n",
              "      <td>0.0</td>\n",
              "      <td>40.000000</td>\n",
              "    </tr>\n",
              "    <tr>\n",
              "      <th>max</th>\n",
              "      <td>78.000000</td>\n",
              "      <td>417668.000000</td>\n",
              "      <td>16.000000</td>\n",
              "      <td>0.0</td>\n",
              "      <td>0.0</td>\n",
              "      <td>52.000000</td>\n",
              "    </tr>\n",
              "  </tbody>\n",
              "</table>\n",
              "</div>\n",
              "      <button class=\"colab-df-convert\" onclick=\"convertToInteractive('df-2521b411-fe57-4de9-9501-48c6a3a4258f')\"\n",
              "              title=\"Convert this dataframe to an interactive table.\"\n",
              "              style=\"display:none;\">\n",
              "        \n",
              "  <svg xmlns=\"http://www.w3.org/2000/svg\" height=\"24px\"viewBox=\"0 0 24 24\"\n",
              "       width=\"24px\">\n",
              "    <path d=\"M0 0h24v24H0V0z\" fill=\"none\"/>\n",
              "    <path d=\"M18.56 5.44l.94 2.06.94-2.06 2.06-.94-2.06-.94-.94-2.06-.94 2.06-2.06.94zm-11 1L8.5 8.5l.94-2.06 2.06-.94-2.06-.94L8.5 2.5l-.94 2.06-2.06.94zm10 10l.94 2.06.94-2.06 2.06-.94-2.06-.94-.94-2.06-.94 2.06-2.06.94z\"/><path d=\"M17.41 7.96l-1.37-1.37c-.4-.4-.92-.59-1.43-.59-.52 0-1.04.2-1.43.59L10.3 9.45l-7.72 7.72c-.78.78-.78 2.05 0 2.83L4 21.41c.39.39.9.59 1.41.59.51 0 1.02-.2 1.41-.59l7.78-7.78 2.81-2.81c.8-.78.8-2.07 0-2.86zM5.41 20L4 18.59l7.72-7.72 1.47 1.35L5.41 20z\"/>\n",
              "  </svg>\n",
              "      </button>\n",
              "      \n",
              "  <style>\n",
              "    .colab-df-container {\n",
              "      display:flex;\n",
              "      flex-wrap:wrap;\n",
              "      gap: 12px;\n",
              "    }\n",
              "\n",
              "    .colab-df-convert {\n",
              "      background-color: #E8F0FE;\n",
              "      border: none;\n",
              "      border-radius: 50%;\n",
              "      cursor: pointer;\n",
              "      display: none;\n",
              "      fill: #1967D2;\n",
              "      height: 32px;\n",
              "      padding: 0 0 0 0;\n",
              "      width: 32px;\n",
              "    }\n",
              "\n",
              "    .colab-df-convert:hover {\n",
              "      background-color: #E2EBFA;\n",
              "      box-shadow: 0px 1px 2px rgba(60, 64, 67, 0.3), 0px 1px 3px 1px rgba(60, 64, 67, 0.15);\n",
              "      fill: #174EA6;\n",
              "    }\n",
              "\n",
              "    [theme=dark] .colab-df-convert {\n",
              "      background-color: #3B4455;\n",
              "      fill: #D2E3FC;\n",
              "    }\n",
              "\n",
              "    [theme=dark] .colab-df-convert:hover {\n",
              "      background-color: #434B5C;\n",
              "      box-shadow: 0px 1px 3px 1px rgba(0, 0, 0, 0.15);\n",
              "      filter: drop-shadow(0px 1px 2px rgba(0, 0, 0, 0.3));\n",
              "      fill: #FFFFFF;\n",
              "    }\n",
              "  </style>\n",
              "\n",
              "      <script>\n",
              "        const buttonEl =\n",
              "          document.querySelector('#df-2521b411-fe57-4de9-9501-48c6a3a4258f button.colab-df-convert');\n",
              "        buttonEl.style.display =\n",
              "          google.colab.kernel.accessAllowed ? 'block' : 'none';\n",
              "\n",
              "        async function convertToInteractive(key) {\n",
              "          const element = document.querySelector('#df-2521b411-fe57-4de9-9501-48c6a3a4258f');\n",
              "          const dataTable =\n",
              "            await google.colab.kernel.invokeFunction('convertToInteractive',\n",
              "                                                     [key], {});\n",
              "          if (!dataTable) return;\n",
              "\n",
              "          const docLinkHtml = 'Like what you see? Visit the ' +\n",
              "            '<a target=\"_blank\" href=https://colab.research.google.com/notebooks/data_table.ipynb>data table notebook</a>'\n",
              "            + ' to learn more about interactive tables.';\n",
              "          element.innerHTML = '';\n",
              "          dataTable['output_type'] = 'display_data';\n",
              "          await google.colab.output.renderOutput(dataTable, element);\n",
              "          const docLink = document.createElement('div');\n",
              "          docLink.innerHTML = docLinkHtml;\n",
              "          element.appendChild(docLink);\n",
              "        }\n",
              "      </script>\n",
              "    </div>\n",
              "  </div>\n",
              "  "
            ]
          },
          "metadata": {},
          "execution_count": 37
        }
      ],
      "source": [
        "df1.describe()"
      ]
    },
    {
      "cell_type": "markdown",
      "metadata": {
        "id": "l5rA1eYBsn9Q"
      },
      "source": [
        "#### Check descriptive statistics - Categorical columns"
      ]
    },
    {
      "cell_type": "code",
      "execution_count": 38,
      "metadata": {
        "colab": {
          "base_uri": "https://localhost:8080/",
          "height": 175
        },
        "id": "o1HtIhRbsn9Q",
        "outputId": "e5800675-adbf-43e9-8134-62ea57d5b409"
      },
      "outputs": [
        {
          "output_type": "execute_result",
          "data": {
            "text/plain": [
              "       workclass education             marital      occupation relationship  \\\n",
              "count      29612     29612               29612           29612        29612   \n",
              "unique         8        16                   7              14            6   \n",
              "top      Private   HS-grad  Married-civ-spouse  Prof-specialty      Husband   \n",
              "freq       22780     10458               13443            4731        11946   \n",
              "\n",
              "         race gender        country Salary  \n",
              "count   29612  29612          29612  29612  \n",
              "unique      5      2             40      2  \n",
              "top     White   Male  United-States  <=50K  \n",
              "freq    25041  19941          26956  23553  "
            ],
            "text/html": [
              "\n",
              "  <div id=\"df-719efcc7-61e3-4f4c-a8c7-22ecd2836023\">\n",
              "    <div class=\"colab-df-container\">\n",
              "      <div>\n",
              "<style scoped>\n",
              "    .dataframe tbody tr th:only-of-type {\n",
              "        vertical-align: middle;\n",
              "    }\n",
              "\n",
              "    .dataframe tbody tr th {\n",
              "        vertical-align: top;\n",
              "    }\n",
              "\n",
              "    .dataframe thead th {\n",
              "        text-align: right;\n",
              "    }\n",
              "</style>\n",
              "<table border=\"1\" class=\"dataframe\">\n",
              "  <thead>\n",
              "    <tr style=\"text-align: right;\">\n",
              "      <th></th>\n",
              "      <th>workclass</th>\n",
              "      <th>education</th>\n",
              "      <th>marital</th>\n",
              "      <th>occupation</th>\n",
              "      <th>relationship</th>\n",
              "      <th>race</th>\n",
              "      <th>gender</th>\n",
              "      <th>country</th>\n",
              "      <th>Salary</th>\n",
              "    </tr>\n",
              "  </thead>\n",
              "  <tbody>\n",
              "    <tr>\n",
              "      <th>count</th>\n",
              "      <td>29612</td>\n",
              "      <td>29612</td>\n",
              "      <td>29612</td>\n",
              "      <td>29612</td>\n",
              "      <td>29612</td>\n",
              "      <td>29612</td>\n",
              "      <td>29612</td>\n",
              "      <td>29612</td>\n",
              "      <td>29612</td>\n",
              "    </tr>\n",
              "    <tr>\n",
              "      <th>unique</th>\n",
              "      <td>8</td>\n",
              "      <td>16</td>\n",
              "      <td>7</td>\n",
              "      <td>14</td>\n",
              "      <td>6</td>\n",
              "      <td>5</td>\n",
              "      <td>2</td>\n",
              "      <td>40</td>\n",
              "      <td>2</td>\n",
              "    </tr>\n",
              "    <tr>\n",
              "      <th>top</th>\n",
              "      <td>Private</td>\n",
              "      <td>HS-grad</td>\n",
              "      <td>Married-civ-spouse</td>\n",
              "      <td>Prof-specialty</td>\n",
              "      <td>Husband</td>\n",
              "      <td>White</td>\n",
              "      <td>Male</td>\n",
              "      <td>United-States</td>\n",
              "      <td>&lt;=50K</td>\n",
              "    </tr>\n",
              "    <tr>\n",
              "      <th>freq</th>\n",
              "      <td>22780</td>\n",
              "      <td>10458</td>\n",
              "      <td>13443</td>\n",
              "      <td>4731</td>\n",
              "      <td>11946</td>\n",
              "      <td>25041</td>\n",
              "      <td>19941</td>\n",
              "      <td>26956</td>\n",
              "      <td>23553</td>\n",
              "    </tr>\n",
              "  </tbody>\n",
              "</table>\n",
              "</div>\n",
              "      <button class=\"colab-df-convert\" onclick=\"convertToInteractive('df-719efcc7-61e3-4f4c-a8c7-22ecd2836023')\"\n",
              "              title=\"Convert this dataframe to an interactive table.\"\n",
              "              style=\"display:none;\">\n",
              "        \n",
              "  <svg xmlns=\"http://www.w3.org/2000/svg\" height=\"24px\"viewBox=\"0 0 24 24\"\n",
              "       width=\"24px\">\n",
              "    <path d=\"M0 0h24v24H0V0z\" fill=\"none\"/>\n",
              "    <path d=\"M18.56 5.44l.94 2.06.94-2.06 2.06-.94-2.06-.94-.94-2.06-.94 2.06-2.06.94zm-11 1L8.5 8.5l.94-2.06 2.06-.94-2.06-.94L8.5 2.5l-.94 2.06-2.06.94zm10 10l.94 2.06.94-2.06 2.06-.94-2.06-.94-.94-2.06-.94 2.06-2.06.94z\"/><path d=\"M17.41 7.96l-1.37-1.37c-.4-.4-.92-.59-1.43-.59-.52 0-1.04.2-1.43.59L10.3 9.45l-7.72 7.72c-.78.78-.78 2.05 0 2.83L4 21.41c.39.39.9.59 1.41.59.51 0 1.02-.2 1.41-.59l7.78-7.78 2.81-2.81c.8-.78.8-2.07 0-2.86zM5.41 20L4 18.59l7.72-7.72 1.47 1.35L5.41 20z\"/>\n",
              "  </svg>\n",
              "      </button>\n",
              "      \n",
              "  <style>\n",
              "    .colab-df-container {\n",
              "      display:flex;\n",
              "      flex-wrap:wrap;\n",
              "      gap: 12px;\n",
              "    }\n",
              "\n",
              "    .colab-df-convert {\n",
              "      background-color: #E8F0FE;\n",
              "      border: none;\n",
              "      border-radius: 50%;\n",
              "      cursor: pointer;\n",
              "      display: none;\n",
              "      fill: #1967D2;\n",
              "      height: 32px;\n",
              "      padding: 0 0 0 0;\n",
              "      width: 32px;\n",
              "    }\n",
              "\n",
              "    .colab-df-convert:hover {\n",
              "      background-color: #E2EBFA;\n",
              "      box-shadow: 0px 1px 2px rgba(60, 64, 67, 0.3), 0px 1px 3px 1px rgba(60, 64, 67, 0.15);\n",
              "      fill: #174EA6;\n",
              "    }\n",
              "\n",
              "    [theme=dark] .colab-df-convert {\n",
              "      background-color: #3B4455;\n",
              "      fill: #D2E3FC;\n",
              "    }\n",
              "\n",
              "    [theme=dark] .colab-df-convert:hover {\n",
              "      background-color: #434B5C;\n",
              "      box-shadow: 0px 1px 3px 1px rgba(0, 0, 0, 0.15);\n",
              "      filter: drop-shadow(0px 1px 2px rgba(0, 0, 0, 0.3));\n",
              "      fill: #FFFFFF;\n",
              "    }\n",
              "  </style>\n",
              "\n",
              "      <script>\n",
              "        const buttonEl =\n",
              "          document.querySelector('#df-719efcc7-61e3-4f4c-a8c7-22ecd2836023 button.colab-df-convert');\n",
              "        buttonEl.style.display =\n",
              "          google.colab.kernel.accessAllowed ? 'block' : 'none';\n",
              "\n",
              "        async function convertToInteractive(key) {\n",
              "          const element = document.querySelector('#df-719efcc7-61e3-4f4c-a8c7-22ecd2836023');\n",
              "          const dataTable =\n",
              "            await google.colab.kernel.invokeFunction('convertToInteractive',\n",
              "                                                     [key], {});\n",
              "          if (!dataTable) return;\n",
              "\n",
              "          const docLinkHtml = 'Like what you see? Visit the ' +\n",
              "            '<a target=\"_blank\" href=https://colab.research.google.com/notebooks/data_table.ipynb>data table notebook</a>'\n",
              "            + ' to learn more about interactive tables.';\n",
              "          element.innerHTML = '';\n",
              "          dataTable['output_type'] = 'display_data';\n",
              "          await google.colab.output.renderOutput(dataTable, element);\n",
              "          const docLink = document.createElement('div');\n",
              "          docLink.innerHTML = docLinkHtml;\n",
              "          element.appendChild(docLink);\n",
              "        }\n",
              "      </script>\n",
              "    </div>\n",
              "  </div>\n",
              "  "
            ]
          },
          "metadata": {},
          "execution_count": 38
        }
      ],
      "source": [
        "df1.describe(exclude='number')"
      ]
    },
    {
      "cell_type": "markdown",
      "metadata": {
        "id": "L81_sMFJsn9R"
      },
      "source": [
        "#### Check 'education' & 'educational-num' columns"
      ]
    },
    {
      "cell_type": "code",
      "execution_count": 39,
      "metadata": {
        "colab": {
          "base_uri": "https://localhost:8080/"
        },
        "id": "LonoP316sn9R",
        "outputId": "9931c253-7fe2-41a5-fdbc-9952bc008b2d"
      },
      "outputs": [
        {
          "output_type": "execute_result",
          "data": {
            "text/plain": [
              "array(['11th', 'HS-grad', 'Assoc-acdm', 'Some-college', 'Bachelors',\n",
              "       'Masters', 'Doctorate', '5th-6th', '10th', 'Assoc-voc', '7th-8th',\n",
              "       '9th', 'Prof-school', '12th', '1st-4th', 'Preschool'], dtype=object)"
            ]
          },
          "metadata": {},
          "execution_count": 39
        }
      ],
      "source": [
        "df1['education'].unique()"
      ]
    },
    {
      "cell_type": "code",
      "execution_count": 40,
      "metadata": {
        "scrolled": true,
        "colab": {
          "base_uri": "https://localhost:8080/"
        },
        "id": "PcpJj0Yzsn9R",
        "outputId": "925b5825-297c-47bc-ed00-04ec45ae042c"
      },
      "outputs": [
        {
          "output_type": "execute_result",
          "data": {
            "text/plain": [
              "array([ 7,  9, 12, 10, 13, 14, 16,  3,  6, 11,  4,  5, 15,  8,  2,  1])"
            ]
          },
          "metadata": {},
          "execution_count": 40
        }
      ],
      "source": [
        "df1['educational-num'].unique()"
      ]
    },
    {
      "cell_type": "markdown",
      "metadata": {
        "id": "fwnv86n0sn9S"
      },
      "source": [
        "As we can see, 'education' & 'educational-num' both columns have similer values\n",
        "- 'education' has string values\n",
        "- 'educational-num' has numerical values\n",
        "- all HS-grad from education represents 9 in education-num\n",
        "- all Masters from education represents 14 in education-num and likewise.\n",
        "- Both columns conveying same information\n",
        " - So, we can remove 'education-num' column"
      ]
    },
    {
      "cell_type": "markdown",
      "metadata": {
        "id": "4n9NsiA2sn9S"
      },
      "source": [
        "### 6. Feature Reduction "
      ]
    },
    {
      "cell_type": "markdown",
      "metadata": {
        "id": "UE3vs3p-sn9T"
      },
      "source": [
        "- While analyzing the dataset, \n",
        "- As we can see in 'descriptive statistics - Numerical columns',\n",
        "    - 'capital-gain'and 'capital-loss' both columns have 75% data as 0.00\n",
        "            - So, we can drop 'capital-gain'& 'capital-loss' both columns. \n",
        "- The column,education-num is the numerical version of the column education, so we also drop it."
      ]
    },
    {
      "cell_type": "code",
      "execution_count": 41,
      "metadata": {
        "colab": {
          "base_uri": "https://localhost:8080/",
          "height": 206
        },
        "id": "74pqK5Nhsn9T",
        "outputId": "f7dc1feb-8d65-4a13-abd7-0c1822b2ab89"
      },
      "outputs": [
        {
          "output_type": "execute_result",
          "data": {
            "text/plain": [
              "   age  workclass  fnlwgt     education             marital  \\\n",
              "0   25    Private  226802          11th       Never-married   \n",
              "1   38    Private   89814       HS-grad  Married-civ-spouse   \n",
              "2   28  Local-gov  336951    Assoc-acdm  Married-civ-spouse   \n",
              "6   29    Private  227026       HS-grad       Never-married   \n",
              "8   24    Private  369667  Some-college       Never-married   \n",
              "\n",
              "          occupation relationship   race  gender  hours_per_week  \\\n",
              "0  Machine-op-inspct    Own-child  Black    Male              40   \n",
              "1    Farming-fishing      Husband  White    Male              50   \n",
              "2    Protective-serv      Husband  White    Male              40   \n",
              "6     Prof-specialty    Unmarried  Black    Male              40   \n",
              "8      Other-service    Unmarried  White  Female              40   \n",
              "\n",
              "         country Salary  \n",
              "0  United-States  <=50K  \n",
              "1  United-States  <=50K  \n",
              "2  United-States   >50K  \n",
              "6  United-States  <=50K  \n",
              "8  United-States  <=50K  "
            ],
            "text/html": [
              "\n",
              "  <div id=\"df-2d1835c0-a5ee-46ea-b3e9-6cf0a8c40708\">\n",
              "    <div class=\"colab-df-container\">\n",
              "      <div>\n",
              "<style scoped>\n",
              "    .dataframe tbody tr th:only-of-type {\n",
              "        vertical-align: middle;\n",
              "    }\n",
              "\n",
              "    .dataframe tbody tr th {\n",
              "        vertical-align: top;\n",
              "    }\n",
              "\n",
              "    .dataframe thead th {\n",
              "        text-align: right;\n",
              "    }\n",
              "</style>\n",
              "<table border=\"1\" class=\"dataframe\">\n",
              "  <thead>\n",
              "    <tr style=\"text-align: right;\">\n",
              "      <th></th>\n",
              "      <th>age</th>\n",
              "      <th>workclass</th>\n",
              "      <th>fnlwgt</th>\n",
              "      <th>education</th>\n",
              "      <th>marital</th>\n",
              "      <th>occupation</th>\n",
              "      <th>relationship</th>\n",
              "      <th>race</th>\n",
              "      <th>gender</th>\n",
              "      <th>hours_per_week</th>\n",
              "      <th>country</th>\n",
              "      <th>Salary</th>\n",
              "    </tr>\n",
              "  </thead>\n",
              "  <tbody>\n",
              "    <tr>\n",
              "      <th>0</th>\n",
              "      <td>25</td>\n",
              "      <td>Private</td>\n",
              "      <td>226802</td>\n",
              "      <td>11th</td>\n",
              "      <td>Never-married</td>\n",
              "      <td>Machine-op-inspct</td>\n",
              "      <td>Own-child</td>\n",
              "      <td>Black</td>\n",
              "      <td>Male</td>\n",
              "      <td>40</td>\n",
              "      <td>United-States</td>\n",
              "      <td>&lt;=50K</td>\n",
              "    </tr>\n",
              "    <tr>\n",
              "      <th>1</th>\n",
              "      <td>38</td>\n",
              "      <td>Private</td>\n",
              "      <td>89814</td>\n",
              "      <td>HS-grad</td>\n",
              "      <td>Married-civ-spouse</td>\n",
              "      <td>Farming-fishing</td>\n",
              "      <td>Husband</td>\n",
              "      <td>White</td>\n",
              "      <td>Male</td>\n",
              "      <td>50</td>\n",
              "      <td>United-States</td>\n",
              "      <td>&lt;=50K</td>\n",
              "    </tr>\n",
              "    <tr>\n",
              "      <th>2</th>\n",
              "      <td>28</td>\n",
              "      <td>Local-gov</td>\n",
              "      <td>336951</td>\n",
              "      <td>Assoc-acdm</td>\n",
              "      <td>Married-civ-spouse</td>\n",
              "      <td>Protective-serv</td>\n",
              "      <td>Husband</td>\n",
              "      <td>White</td>\n",
              "      <td>Male</td>\n",
              "      <td>40</td>\n",
              "      <td>United-States</td>\n",
              "      <td>&gt;50K</td>\n",
              "    </tr>\n",
              "    <tr>\n",
              "      <th>6</th>\n",
              "      <td>29</td>\n",
              "      <td>Private</td>\n",
              "      <td>227026</td>\n",
              "      <td>HS-grad</td>\n",
              "      <td>Never-married</td>\n",
              "      <td>Prof-specialty</td>\n",
              "      <td>Unmarried</td>\n",
              "      <td>Black</td>\n",
              "      <td>Male</td>\n",
              "      <td>40</td>\n",
              "      <td>United-States</td>\n",
              "      <td>&lt;=50K</td>\n",
              "    </tr>\n",
              "    <tr>\n",
              "      <th>8</th>\n",
              "      <td>24</td>\n",
              "      <td>Private</td>\n",
              "      <td>369667</td>\n",
              "      <td>Some-college</td>\n",
              "      <td>Never-married</td>\n",
              "      <td>Other-service</td>\n",
              "      <td>Unmarried</td>\n",
              "      <td>White</td>\n",
              "      <td>Female</td>\n",
              "      <td>40</td>\n",
              "      <td>United-States</td>\n",
              "      <td>&lt;=50K</td>\n",
              "    </tr>\n",
              "  </tbody>\n",
              "</table>\n",
              "</div>\n",
              "      <button class=\"colab-df-convert\" onclick=\"convertToInteractive('df-2d1835c0-a5ee-46ea-b3e9-6cf0a8c40708')\"\n",
              "              title=\"Convert this dataframe to an interactive table.\"\n",
              "              style=\"display:none;\">\n",
              "        \n",
              "  <svg xmlns=\"http://www.w3.org/2000/svg\" height=\"24px\"viewBox=\"0 0 24 24\"\n",
              "       width=\"24px\">\n",
              "    <path d=\"M0 0h24v24H0V0z\" fill=\"none\"/>\n",
              "    <path d=\"M18.56 5.44l.94 2.06.94-2.06 2.06-.94-2.06-.94-.94-2.06-.94 2.06-2.06.94zm-11 1L8.5 8.5l.94-2.06 2.06-.94-2.06-.94L8.5 2.5l-.94 2.06-2.06.94zm10 10l.94 2.06.94-2.06 2.06-.94-2.06-.94-.94-2.06-.94 2.06-2.06.94z\"/><path d=\"M17.41 7.96l-1.37-1.37c-.4-.4-.92-.59-1.43-.59-.52 0-1.04.2-1.43.59L10.3 9.45l-7.72 7.72c-.78.78-.78 2.05 0 2.83L4 21.41c.39.39.9.59 1.41.59.51 0 1.02-.2 1.41-.59l7.78-7.78 2.81-2.81c.8-.78.8-2.07 0-2.86zM5.41 20L4 18.59l7.72-7.72 1.47 1.35L5.41 20z\"/>\n",
              "  </svg>\n",
              "      </button>\n",
              "      \n",
              "  <style>\n",
              "    .colab-df-container {\n",
              "      display:flex;\n",
              "      flex-wrap:wrap;\n",
              "      gap: 12px;\n",
              "    }\n",
              "\n",
              "    .colab-df-convert {\n",
              "      background-color: #E8F0FE;\n",
              "      border: none;\n",
              "      border-radius: 50%;\n",
              "      cursor: pointer;\n",
              "      display: none;\n",
              "      fill: #1967D2;\n",
              "      height: 32px;\n",
              "      padding: 0 0 0 0;\n",
              "      width: 32px;\n",
              "    }\n",
              "\n",
              "    .colab-df-convert:hover {\n",
              "      background-color: #E2EBFA;\n",
              "      box-shadow: 0px 1px 2px rgba(60, 64, 67, 0.3), 0px 1px 3px 1px rgba(60, 64, 67, 0.15);\n",
              "      fill: #174EA6;\n",
              "    }\n",
              "\n",
              "    [theme=dark] .colab-df-convert {\n",
              "      background-color: #3B4455;\n",
              "      fill: #D2E3FC;\n",
              "    }\n",
              "\n",
              "    [theme=dark] .colab-df-convert:hover {\n",
              "      background-color: #434B5C;\n",
              "      box-shadow: 0px 1px 3px 1px rgba(0, 0, 0, 0.15);\n",
              "      filter: drop-shadow(0px 1px 2px rgba(0, 0, 0, 0.3));\n",
              "      fill: #FFFFFF;\n",
              "    }\n",
              "  </style>\n",
              "\n",
              "      <script>\n",
              "        const buttonEl =\n",
              "          document.querySelector('#df-2d1835c0-a5ee-46ea-b3e9-6cf0a8c40708 button.colab-df-convert');\n",
              "        buttonEl.style.display =\n",
              "          google.colab.kernel.accessAllowed ? 'block' : 'none';\n",
              "\n",
              "        async function convertToInteractive(key) {\n",
              "          const element = document.querySelector('#df-2d1835c0-a5ee-46ea-b3e9-6cf0a8c40708');\n",
              "          const dataTable =\n",
              "            await google.colab.kernel.invokeFunction('convertToInteractive',\n",
              "                                                     [key], {});\n",
              "          if (!dataTable) return;\n",
              "\n",
              "          const docLinkHtml = 'Like what you see? Visit the ' +\n",
              "            '<a target=\"_blank\" href=https://colab.research.google.com/notebooks/data_table.ipynb>data table notebook</a>'\n",
              "            + ' to learn more about interactive tables.';\n",
              "          element.innerHTML = '';\n",
              "          dataTable['output_type'] = 'display_data';\n",
              "          await google.colab.output.renderOutput(dataTable, element);\n",
              "          const docLink = document.createElement('div');\n",
              "          docLink.innerHTML = docLinkHtml;\n",
              "          element.appendChild(docLink);\n",
              "        }\n",
              "      </script>\n",
              "    </div>\n",
              "  </div>\n",
              "  "
            ]
          },
          "metadata": {},
          "execution_count": 41
        }
      ],
      "source": [
        "df1.drop(['capital_gain','capital_loss','educational-num'], axis = 1,inplace = True)\n",
        "df1.head()"
      ]
    },
    {
      "cell_type": "code",
      "execution_count": 42,
      "metadata": {
        "colab": {
          "base_uri": "https://localhost:8080/"
        },
        "id": "36bCbrHosn9T",
        "outputId": "f2977c49-6192-4294-c962-97403164c403"
      },
      "outputs": [
        {
          "output_type": "execute_result",
          "data": {
            "text/plain": [
              "(29612, 12)"
            ]
          },
          "metadata": {},
          "execution_count": 42
        }
      ],
      "source": [
        "df1.shape"
      ]
    },
    {
      "cell_type": "markdown",
      "metadata": {
        "id": "RUDYa3Sqsn9U"
      },
      "source": [
        "Now, we need to convert the categorical values to numeric for modeling. Looking at the Marital-status col, there are nearly 6 different values which would mean the same as two values of being married ot no married, therefore we convert them into only two values."
      ]
    },
    {
      "cell_type": "code",
      "execution_count": 43,
      "metadata": {
        "id": "2vmqPtHfsn9U"
      },
      "outputs": [],
      "source": [
        "df1.replace(['Divorced', 'Married-AF-spouse', 'Married-civ-spouse', 'Married-spouse-absent','Never-married','Separated','Widowed'],\n",
        "             ['divorced','married','married','married','not married','not married','not married'], inplace = True)"
      ]
    },
    {
      "cell_type": "code",
      "execution_count": 44,
      "metadata": {
        "colab": {
          "base_uri": "https://localhost:8080/"
        },
        "id": "7k4ooLznsn9V",
        "outputId": "9941a510-99d8-41de-a8d1-c5a7284772c3"
      },
      "outputs": [
        {
          "output_type": "execute_result",
          "data": {
            "text/plain": [
              "married        13864\n",
              "not married    11217\n",
              "divorced        4531\n",
              "Name: marital, dtype: int64"
            ]
          },
          "metadata": {},
          "execution_count": 44
        }
      ],
      "source": [
        "df1['marital'].value_counts()"
      ]
    },
    {
      "cell_type": "markdown",
      "metadata": {
        "id": "BgL5CV3Csn9V"
      },
      "source": [
        "Before we do further analysis, we will separate the data as numeric and categorical so that our analysis becomes easy."
      ]
    },
    {
      "cell_type": "code",
      "execution_count": 45,
      "metadata": {
        "colab": {
          "base_uri": "https://localhost:8080/"
        },
        "id": "2LUbPDo-sn9V",
        "outputId": "1e833c3b-6381-4fdb-edf0-2a7a70db62ca"
      },
      "outputs": [
        {
          "output_type": "stream",
          "name": "stdout",
          "text": [
            "Numeric Features: \n",
            "   age  fnlwgt  hours_per_week\n",
            "0   25  226802              40\n",
            "1   38   89814              50\n",
            "2   28  336951              40\n",
            "6   29  227026              40\n",
            "8   24  369667              40\n",
            "--------------------------------------------------------------------------------\n"
          ]
        }
      ],
      "source": [
        "# NUMERIC FEATURES:\n",
        "\n",
        "numeric_data = df1.select_dtypes(include=np.number) # select_dtypes selects data with numeric features\n",
        "numeric_col = numeric_data.columns \n",
        "\n",
        "print('Numeric Features: ')\n",
        "print(numeric_data.head(5))\n",
        "print('----'*20)"
      ]
    },
    {
      "cell_type": "code",
      "execution_count": 46,
      "metadata": {
        "colab": {
          "base_uri": "https://localhost:8080/"
        },
        "id": "VhqPXp2Nsn9W",
        "outputId": "81068413-dee2-4c0e-fd22-7cfa94ce3f31"
      },
      "outputs": [
        {
          "output_type": "stream",
          "name": "stdout",
          "text": [
            "Categorical Features: \n",
            "   workclass     education      marital         occupation relationship  \\\n",
            "0    Private          11th  not married  Machine-op-inspct    Own-child   \n",
            "1    Private       HS-grad      married    Farming-fishing      Husband   \n",
            "2  Local-gov    Assoc-acdm      married    Protective-serv      Husband   \n",
            "6    Private       HS-grad  not married     Prof-specialty    Unmarried   \n",
            "8    Private  Some-college  not married      Other-service    Unmarried   \n",
            "\n",
            "    race  gender        country Salary  \n",
            "0  Black    Male  United-States  <=50K  \n",
            "1  White    Male  United-States  <=50K  \n",
            "2  White    Male  United-States   >50K  \n",
            "6  Black    Male  United-States  <=50K  \n",
            "8  White  Female  United-States  <=50K  \n",
            "--------------------------------------------------------------------------------\n"
          ]
        }
      ],
      "source": [
        "\n",
        "# CATEGORICAL FEATURES:\n",
        "\n",
        "categorical_data = df1.select_dtypes(exclude=np.number) # we will exclude data with numeric features\n",
        "categorical_col = categorical_data.columns\n",
        "\n",
        "print('Categorical Features: ')\n",
        "print(categorical_data.head(5))\n",
        "print('----'*20)"
      ]
    },
    {
      "cell_type": "markdown",
      "metadata": {
        "id": "RlNdKdh1sn9W"
      },
      "source": [
        "### 7. Data visualization"
      ]
    },
    {
      "cell_type": "markdown",
      "metadata": {
        "id": "3cQ6QM5Ysn9W"
      },
      "source": [
        "### Univariate Analysis"
      ]
    },
    {
      "cell_type": "markdown",
      "metadata": {
        "id": "0IVxDEuLsn9X"
      },
      "source": [
        "#### NUMERIC DATA:"
      ]
    },
    {
      "cell_type": "code",
      "execution_count": 47,
      "metadata": {
        "colab": {
          "base_uri": "https://localhost:8080/",
          "height": 716
        },
        "id": "xQ9_Yhv2sn9X",
        "outputId": "7585e5a3-23f5-495a-aa14-d94a9edfa723"
      },
      "outputs": [
        {
          "output_type": "display_data",
          "data": {
            "text/plain": [
              "<Figure size 864x864 with 4 Axes>"
            ],
            "image/png": "[encoded data removed]"
          },
          "metadata": {
            "needs_background": "light"
          }
        }
      ],
      "source": [
        "\n",
        "\n",
        "\n",
        "\n",
        "# let's see how data is distributed for every column\n",
        "df1.hist(figsize=(12,12), sharex=False);"
      ]
    },
    {
      "cell_type": "markdown",
      "metadata": {
        "id": "P4r7W5IPsn9Y"
      },
      "source": [
        "**Findings**\n",
        "- The minimum age is 17 and the maximum is 90 years, most of the working age group lies between 20-40\n",
        "- The minimum hours-per-week is 1 and maximum is 90, with most of the count lying between 30-40"
      ]
    },
    {
      "cell_type": "markdown",
      "metadata": {
        "id": "ATdjz5m2sn9Y"
      },
      "source": [
        "### CATEGORICAL DATA:"
      ]
    },
    {
      "cell_type": "code",
      "execution_count": 48,
      "metadata": {
        "colab": {
          "base_uri": "https://localhost:8080/",
          "height": 1000
        },
        "id": "hqMWIi_8sn9Y",
        "outputId": "def051bb-cc13-4c40-9fec-161f6cf26441"
      },
      "outputs": [
        {
          "output_type": "display_data",
          "data": {
            "text/plain": [
              "<Figure size 1440x1800 with 9 Axes>"
            ],
            "image/png": "[encoded data removed]"
          },
          "metadata": {}
        }
      ],
      "source": [
        "# let's see how data is distributed for every column\n",
        "plt.figure(figsize=(20,25), facecolor='white')\n",
        "plotnumber = 1\n",
        "\n",
        "for column in categorical_data:\n",
        "    if plotnumber<=16 :\n",
        "        ax = plt.subplot(3,3,plotnumber)\n",
        "        categorical_data[column].value_counts().plot(kind='bar')\n",
        "        plt.xlabel(column,fontsize=20)\n",
        "        #plt.ylabel('Salary',fontsize=20)\n",
        "    plotnumber+=1\n",
        "plt.tight_layout()"
      ]
    },
    {
      "cell_type": "markdown",
      "metadata": {
        "id": "tvRT910usn9Z"
      },
      "source": [
        "**Findings**\n",
        "- if we look at the workclass variable variable we can see that 74% people are privately employed, 26% belong to other 7 categories.\n",
        "- Looking at the education, majority of people have completed high graduation, have attended college or have atleast completed masters.\n",
        "- Considering the marital status, 50% are married and 35% are never married.\n",
        "- The occupation variable is equally distributed among various occupations.\n",
        "- If we consider the race variable, 92% are white and 8% belong to 4 other races.\n",
        "- 72% of the people in the data are male.\n",
        "- 96% of the people belong to US, 4% elong to remaining countries.\n",
        "- 25% people have salary above 50k and 75% below 50k, this indicated that we have imbalanced data."
      ]
    },
    {
      "cell_type": "markdown",
      "metadata": {
        "id": "1hRqysf8sn9Z"
      },
      "source": [
        "### BI-VARIATE ANALYSIS:"
      ]
    },
    {
      "cell_type": "markdown",
      "metadata": {
        "id": "ytp7VUgRsn9Z"
      },
      "source": [
        "Plot numeric variable againts the salary variable "
      ]
    },
    {
      "cell_type": "code",
      "execution_count": 49,
      "metadata": {
        "colab": {
          "base_uri": "https://localhost:8080/",
          "height": 386
        },
        "id": "CWj7AZ0csn9a",
        "outputId": "a07eb7a4-1958-4909-b5c6-e9eaa510e4ed"
      },
      "outputs": [
        {
          "output_type": "execute_result",
          "data": {
            "text/plain": [
              "<seaborn.axisgrid.FacetGrid at 0x7f8c0886c0d0>"
            ]
          },
          "metadata": {},
          "execution_count": 49
        },
        {
          "output_type": "display_data",
          "data": {
            "text/plain": [
              "<Figure size 360x360 with 1 Axes>"
            ],
            "image/png": "[encoded data removed]"
          },
          "metadata": {
            "needs_background": "light"
          }
        }
      ],
      "source": [
        "# Plotting income vs age\n",
        "sns.catplot(x=\"Salary\", y= \"age\", kind=\"box\", data=df1)"
      ]
    },
    {
      "cell_type": "code",
      "execution_count": 50,
      "metadata": {
        "colab": {
          "base_uri": "https://localhost:8080/",
          "height": 386
        },
        "id": "_7C1_rU7sn9a",
        "outputId": "0fb231f8-5b7c-4b9f-c765-ff25a3ae52e6"
      },
      "outputs": [
        {
          "output_type": "execute_result",
          "data": {
            "text/plain": [
              "<seaborn.axisgrid.FacetGrid at 0x7f8c08a75450>"
            ]
          },
          "metadata": {},
          "execution_count": 50
        },
        {
          "output_type": "display_data",
          "data": {
            "text/plain": [
              "<Figure size 360x360 with 1 Axes>"
            ],
            "image/png": "[encoded data removed]"
          },
          "metadata": {
            "needs_background": "light"
          }
        }
      ],
      "source": [
        "\n",
        "# Plotting Salary vs fnlwgt\n",
        "sns.catplot(x=\"Salary\", y= \"fnlwgt\", kind=\"box\", data=df1)"
      ]
    },
    {
      "cell_type": "code",
      "execution_count": 51,
      "metadata": {
        "colab": {
          "base_uri": "https://localhost:8080/",
          "height": 386
        },
        "id": "alHISQxjsn9b",
        "outputId": "ab6898e6-a554-42f5-b695-f737bc085b98"
      },
      "outputs": [
        {
          "output_type": "execute_result",
          "data": {
            "text/plain": [
              "<seaborn.axisgrid.FacetGrid at 0x7f8c089c3910>"
            ]
          },
          "metadata": {},
          "execution_count": 51
        },
        {
          "output_type": "display_data",
          "data": {
            "text/plain": [
              "<Figure size 360x360 with 1 Axes>"
            ],
            "image/png": "[encoded data removed]"
          },
          "metadata": {
            "needs_background": "light"
          }
        }
      ],
      "source": [
        "# Plotting Salary vs hours_per_week\n",
        "sns.catplot(x=\"Salary\", y= \"hours_per_week\", kind=\"box\", data=df1)"
      ]
    },
    {
      "cell_type": "markdown",
      "metadata": {
        "id": "XzgLBF0Isn9b"
      },
      "source": [
        "**Findings**\n",
        "- fnlwgt variable has no difference whether the income is above 50k or below 50k.\n",
        "- age and hours-per-week variables have have some variation in distribution wrt whether the income is above 50k or below 50k."
      ]
    },
    {
      "cell_type": "code",
      "execution_count": 52,
      "metadata": {
        "colab": {
          "base_uri": "https://localhost:8080/",
          "height": 1000
        },
        "id": "rVWYG99Nsn9c",
        "outputId": "8a796f69-649a-4713-f0c8-a347ddcfbe23"
      },
      "outputs": [
        {
          "output_type": "display_data",
          "data": {
            "text/plain": [
              "<Figure size 1440x288 with 1 Axes>"
            ],
            "image/png": "[encoded data removed]"
          },
          "metadata": {
            "needs_background": "light"
          }
        },
        {
          "output_type": "display_data",
          "data": {
            "text/plain": [
              "<Figure size 1440x288 with 1 Axes>"
            ],
            "image/png": "[encoded data removed]"
          },
          "metadata": {
            "needs_background": "light"
          }
        },
        {
          "output_type": "display_data",
          "data": {
            "text/plain": [
              "<Figure size 1440x288 with 1 Axes>"
            ],
            "image/png": "[encoded data removed]"
          },
          "metadata": {
            "needs_background": "light"
          }
        },
        {
          "output_type": "display_data",
          "data": {
            "text/plain": [
              "<Figure size 1440x288 with 1 Axes>"
            ],
            "image/png": "[encoded data removed]"
          },
          "metadata": {
            "needs_background": "light"
          }
        },
        {
          "output_type": "display_data",
          "data": {
            "text/plain": [
              "<Figure size 1440x288 with 1 Axes>"
            ],
            "image/png": "[encoded data removed]"
          },
          "metadata": {
            "needs_background": "light"
          }
        },
        {
          "output_type": "display_data",
          "data": {
            "text/plain": [
              "<Figure size 1440x288 with 1 Axes>"
            ],
            "image/png": "[encoded data removed]"
          },
          "metadata": {
            "needs_background": "light"
          }
        },
        {
          "output_type": "display_data",
          "data": {
            "text/plain": [
              "<Figure size 1440x288 with 1 Axes>"
            ],
            "image/png": "[encoded data removed]"
          },
          "metadata": {
            "needs_background": "light"
          }
        },
        {
          "output_type": "display_data",
          "data": {
            "text/plain": [
              "<Figure size 1440x288 with 1 Axes>"
            ],
            "image/png": "[encoded data removed]"
          },
          "metadata": {
            "needs_background": "light"
          }
        },
        {
          "output_type": "display_data",
          "data": {
            "text/plain": [
              "<Figure size 1440x288 with 1 Axes>"
            ],
            "image/png": "[encoded data removed]"
          },
          "metadata": {
            "needs_background": "light"
          }
        }
      ],
      "source": [
        "\n",
        "for column in categorical_data:\n",
        "    plt.figure(figsize=(20,4))\n",
        "    plt.subplot(121)\n",
        "    sns.countplot(x=categorical_data[column],hue=categorical_data['Salary'],data=categorical_data)\n",
        "    plt.title(column)    \n",
        "    plt.xticks(rotation=90)"
      ]
    },
    {
      "cell_type": "markdown",
      "metadata": {
        "id": "SfeI7Pjssn9c"
      },
      "source": [
        "**Findings**\n",
        "\n",
        "People who are having income more than 50k are:\n",
        "\n",
        "- From the workclass, who are privately employed, also self employed individuals.\n",
        "- If you consider quality of info, then, masters and bachelors, also, High school and college grads.\n",
        "- From marital status, people who are married.\n",
        "- Individuals who's occupation are exec-managerial or having professional speciality.\n",
        "- Individuals, who are husbands.\n",
        "- White people.\n",
        "- Male individuals.\n",
        "- people living in the United states."
      ]
    },
    {
      "cell_type": "code",
      "execution_count": 53,
      "metadata": {
        "scrolled": true,
        "colab": {
          "base_uri": "https://localhost:8080/",
          "height": 143
        },
        "id": "qq0FLDizsn9c",
        "outputId": "24b3b660-0ed0-42ba-eccb-cfd0f2691995"
      },
      "outputs": [
        {
          "output_type": "execute_result",
          "data": {
            "text/plain": [
              "                     age    fnlwgt  hours_per_week\n",
              "age             1.000000 -0.070365        0.050434\n",
              "fnlwgt         -0.070365  1.000000       -0.018945\n",
              "hours_per_week  0.050434 -0.018945        1.000000"
            ],
            "text/html": [
              "\n",
              "  <div id=\"df-df2d27ba-0ade-496b-bfb2-f0b86f97c84b\">\n",
              "    <div class=\"colab-df-container\">\n",
              "      <div>\n",
              "<style scoped>\n",
              "    .dataframe tbody tr th:only-of-type {\n",
              "        vertical-align: middle;\n",
              "    }\n",
              "\n",
              "    .dataframe tbody tr th {\n",
              "        vertical-align: top;\n",
              "    }\n",
              "\n",
              "    .dataframe thead th {\n",
              "        text-align: right;\n",
              "    }\n",
              "</style>\n",
              "<table border=\"1\" class=\"dataframe\">\n",
              "  <thead>\n",
              "    <tr style=\"text-align: right;\">\n",
              "      <th></th>\n",
              "      <th>age</th>\n",
              "      <th>fnlwgt</th>\n",
              "      <th>hours_per_week</th>\n",
              "    </tr>\n",
              "  </thead>\n",
              "  <tbody>\n",
              "    <tr>\n",
              "      <th>age</th>\n",
              "      <td>1.000000</td>\n",
              "      <td>-0.070365</td>\n",
              "      <td>0.050434</td>\n",
              "    </tr>\n",
              "    <tr>\n",
              "      <th>fnlwgt</th>\n",
              "      <td>-0.070365</td>\n",
              "      <td>1.000000</td>\n",
              "      <td>-0.018945</td>\n",
              "    </tr>\n",
              "    <tr>\n",
              "      <th>hours_per_week</th>\n",
              "      <td>0.050434</td>\n",
              "      <td>-0.018945</td>\n",
              "      <td>1.000000</td>\n",
              "    </tr>\n",
              "  </tbody>\n",
              "</table>\n",
              "</div>\n",
              "      <button class=\"colab-df-convert\" onclick=\"convertToInteractive('df-df2d27ba-0ade-496b-bfb2-f0b86f97c84b')\"\n",
              "              title=\"Convert this dataframe to an interactive table.\"\n",
              "              style=\"display:none;\">\n",
              "        \n",
              "  <svg xmlns=\"http://www.w3.org/2000/svg\" height=\"24px\"viewBox=\"0 0 24 24\"\n",
              "       width=\"24px\">\n",
              "    <path d=\"M0 0h24v24H0V0z\" fill=\"none\"/>\n",
              "    <path d=\"M18.56 5.44l.94 2.06.94-2.06 2.06-.94-2.06-.94-.94-2.06-.94 2.06-2.06.94zm-11 1L8.5 8.5l.94-2.06 2.06-.94-2.06-.94L8.5 2.5l-.94 2.06-2.06.94zm10 10l.94 2.06.94-2.06 2.06-.94-2.06-.94-.94-2.06-.94 2.06-2.06.94z\"/><path d=\"M17.41 7.96l-1.37-1.37c-.4-.4-.92-.59-1.43-.59-.52 0-1.04.2-1.43.59L10.3 9.45l-7.72 7.72c-.78.78-.78 2.05 0 2.83L4 21.41c.39.39.9.59 1.41.59.51 0 1.02-.2 1.41-.59l7.78-7.78 2.81-2.81c.8-.78.8-2.07 0-2.86zM5.41 20L4 18.59l7.72-7.72 1.47 1.35L5.41 20z\"/>\n",
              "  </svg>\n",
              "      </button>\n",
              "      \n",
              "  <style>\n",
              "    .colab-df-container {\n",
              "      display:flex;\n",
              "      flex-wrap:wrap;\n",
              "      gap: 12px;\n",
              "    }\n",
              "\n",
              "    .colab-df-convert {\n",
              "      background-color: #E8F0FE;\n",
              "      border: none;\n",
              "      border-radius: 50%;\n",
              "      cursor: pointer;\n",
              "      display: none;\n",
              "      fill: #1967D2;\n",
              "      height: 32px;\n",
              "      padding: 0 0 0 0;\n",
              "      width: 32px;\n",
              "    }\n",
              "\n",
              "    .colab-df-convert:hover {\n",
              "      background-color: #E2EBFA;\n",
              "      box-shadow: 0px 1px 2px rgba(60, 64, 67, 0.3), 0px 1px 3px 1px rgba(60, 64, 67, 0.15);\n",
              "      fill: #174EA6;\n",
              "    }\n",
              "\n",
              "    [theme=dark] .colab-df-convert {\n",
              "      background-color: #3B4455;\n",
              "      fill: #D2E3FC;\n",
              "    }\n",
              "\n",
              "    [theme=dark] .colab-df-convert:hover {\n",
              "      background-color: #434B5C;\n",
              "      box-shadow: 0px 1px 3px 1px rgba(0, 0, 0, 0.15);\n",
              "      filter: drop-shadow(0px 1px 2px rgba(0, 0, 0, 0.3));\n",
              "      fill: #FFFFFF;\n",
              "    }\n",
              "  </style>\n",
              "\n",
              "      <script>\n",
              "        const buttonEl =\n",
              "          document.querySelector('#df-df2d27ba-0ade-496b-bfb2-f0b86f97c84b button.colab-df-convert');\n",
              "        buttonEl.style.display =\n",
              "          google.colab.kernel.accessAllowed ? 'block' : 'none';\n",
              "\n",
              "        async function convertToInteractive(key) {\n",
              "          const element = document.querySelector('#df-df2d27ba-0ade-496b-bfb2-f0b86f97c84b');\n",
              "          const dataTable =\n",
              "            await google.colab.kernel.invokeFunction('convertToInteractive',\n",
              "                                                     [key], {});\n",
              "          if (!dataTable) return;\n",
              "\n",
              "          const docLinkHtml = 'Like what you see? Visit the ' +\n",
              "            '<a target=\"_blank\" href=https://colab.research.google.com/notebooks/data_table.ipynb>data table notebook</a>'\n",
              "            + ' to learn more about interactive tables.';\n",
              "          element.innerHTML = '';\n",
              "          dataTable['output_type'] = 'display_data';\n",
              "          await google.colab.output.renderOutput(dataTable, element);\n",
              "          const docLink = document.createElement('div');\n",
              "          docLink.innerHTML = docLinkHtml;\n",
              "          element.appendChild(docLink);\n",
              "        }\n",
              "      </script>\n",
              "    </div>\n",
              "  </div>\n",
              "  "
            ]
          },
          "metadata": {},
          "execution_count": 53
        }
      ],
      "source": [
        "df1.corr()"
      ]
    },
    {
      "cell_type": "markdown",
      "metadata": {
        "id": "ioZGSblxsn9d"
      },
      "source": [
        "## 8. Feature Engineering"
      ]
    },
    {
      "cell_type": "code",
      "execution_count": 54,
      "metadata": {
        "id": "z8o7UZEYsn9d"
      },
      "outputs": [],
      "source": [
        "# education Category\n",
        "df1.education= df1.education.replace(['Preschool', '1st-4th', '5th-6th', '7th-8th', '9th','10th', '11th', '12th'], 'school')\n",
        "df1.education = df1.education.replace('HS-grad', 'high school')\n",
        "df1.education = df1.education.replace(['Assoc-voc', 'Assoc-acdm', 'Prof-school', 'Some-college'], 'higher')\n",
        "df1.education = df1.education.replace('Bachelors', 'undergrad')\n",
        "df1.education = df1.education.replace('Masters', 'grad')\n",
        "df1.education = df1.education.replace('Doctorate', 'doc')"
      ]
    },
    {
      "cell_type": "code",
      "execution_count": 55,
      "metadata": {
        "id": "z1Jcuxprsn9e"
      },
      "outputs": [],
      "source": [
        "# Salary\n",
        "df1.Salary = df1.Salary.replace('<=50K', 0)\n",
        "df1.Salary = df1.Salary.replace('>50K', 1)"
      ]
    },
    {
      "cell_type": "markdown",
      "source": [
        ""
      ],
      "metadata": {
        "id": "-5xBabSTTLVq"
      }
    },
    {
      "cell_type": "code",
      "execution_count": 56,
      "metadata": {
        "scrolled": true,
        "colab": {
          "base_uri": "https://localhost:8080/",
          "height": 175
        },
        "id": "oxAzvDHGsn9e",
        "outputId": "6d3f1cd9-bf88-49df-c7df-e22f136f1ea0"
      },
      "outputs": [
        {
          "output_type": "execute_result",
          "data": {
            "text/plain": [
              "                     age    fnlwgt  hours_per_week    Salary\n",
              "age             1.000000 -0.070365        0.050434  0.226044\n",
              "fnlwgt         -0.070365  1.000000       -0.018945 -0.001791\n",
              "hours_per_week  0.050434 -0.018945        1.000000  0.176685\n",
              "Salary          0.226044 -0.001791        0.176685  1.000000"
            ],
            "text/html": [
              "\n",
              "  <div id=\"df-60859e9b-8143-47e1-8aa5-441cfb77a8fd\">\n",
              "    <div class=\"colab-df-container\">\n",
              "      <div>\n",
              "<style scoped>\n",
              "    .dataframe tbody tr th:only-of-type {\n",
              "        vertical-align: middle;\n",
              "    }\n",
              "\n",
              "    .dataframe tbody tr th {\n",
              "        vertical-align: top;\n",
              "    }\n",
              "\n",
              "    .dataframe thead th {\n",
              "        text-align: right;\n",
              "    }\n",
              "</style>\n",
              "<table border=\"1\" class=\"dataframe\">\n",
              "  <thead>\n",
              "    <tr style=\"text-align: right;\">\n",
              "      <th></th>\n",
              "      <th>age</th>\n",
              "      <th>fnlwgt</th>\n",
              "      <th>hours_per_week</th>\n",
              "      <th>Salary</th>\n",
              "    </tr>\n",
              "  </thead>\n",
              "  <tbody>\n",
              "    <tr>\n",
              "      <th>age</th>\n",
              "      <td>1.000000</td>\n",
              "      <td>-0.070365</td>\n",
              "      <td>0.050434</td>\n",
              "      <td>0.226044</td>\n",
              "    </tr>\n",
              "    <tr>\n",
              "      <th>fnlwgt</th>\n",
              "      <td>-0.070365</td>\n",
              "      <td>1.000000</td>\n",
              "      <td>-0.018945</td>\n",
              "      <td>-0.001791</td>\n",
              "    </tr>\n",
              "    <tr>\n",
              "      <th>hours_per_week</th>\n",
              "      <td>0.050434</td>\n",
              "      <td>-0.018945</td>\n",
              "      <td>1.000000</td>\n",
              "      <td>0.176685</td>\n",
              "    </tr>\n",
              "    <tr>\n",
              "      <th>Salary</th>\n",
              "      <td>0.226044</td>\n",
              "      <td>-0.001791</td>\n",
              "      <td>0.176685</td>\n",
              "      <td>1.000000</td>\n",
              "    </tr>\n",
              "  </tbody>\n",
              "</table>\n",
              "</div>\n",
              "      <button class=\"colab-df-convert\" onclick=\"convertToInteractive('df-60859e9b-8143-47e1-8aa5-441cfb77a8fd')\"\n",
              "              title=\"Convert this dataframe to an interactive table.\"\n",
              "              style=\"display:none;\">\n",
              "        \n",
              "  <svg xmlns=\"http://www.w3.org/2000/svg\" height=\"24px\"viewBox=\"0 0 24 24\"\n",
              "       width=\"24px\">\n",
              "    <path d=\"M0 0h24v24H0V0z\" fill=\"none\"/>\n",
              "    <path d=\"M18.56 5.44l.94 2.06.94-2.06 2.06-.94-2.06-.94-.94-2.06-.94 2.06-2.06.94zm-11 1L8.5 8.5l.94-2.06 2.06-.94-2.06-.94L8.5 2.5l-.94 2.06-2.06.94zm10 10l.94 2.06.94-2.06 2.06-.94-2.06-.94-.94-2.06-.94 2.06-2.06.94z\"/><path d=\"M17.41 7.96l-1.37-1.37c-.4-.4-.92-.59-1.43-.59-.52 0-1.04.2-1.43.59L10.3 9.45l-7.72 7.72c-.78.78-.78 2.05 0 2.83L4 21.41c.39.39.9.59 1.41.59.51 0 1.02-.2 1.41-.59l7.78-7.78 2.81-2.81c.8-.78.8-2.07 0-2.86zM5.41 20L4 18.59l7.72-7.72 1.47 1.35L5.41 20z\"/>\n",
              "  </svg>\n",
              "      </button>\n",
              "      \n",
              "  <style>\n",
              "    .colab-df-container {\n",
              "      display:flex;\n",
              "      flex-wrap:wrap;\n",
              "      gap: 12px;\n",
              "    }\n",
              "\n",
              "    .colab-df-convert {\n",
              "      background-color: #E8F0FE;\n",
              "      border: none;\n",
              "      border-radius: 50%;\n",
              "      cursor: pointer;\n",
              "      display: none;\n",
              "      fill: #1967D2;\n",
              "      height: 32px;\n",
              "      padding: 0 0 0 0;\n",
              "      width: 32px;\n",
              "    }\n",
              "\n",
              "    .colab-df-convert:hover {\n",
              "      background-color: #E2EBFA;\n",
              "      box-shadow: 0px 1px 2px rgba(60, 64, 67, 0.3), 0px 1px 3px 1px rgba(60, 64, 67, 0.15);\n",
              "      fill: #174EA6;\n",
              "    }\n",
              "\n",
              "    [theme=dark] .colab-df-convert {\n",
              "      background-color: #3B4455;\n",
              "      fill: #D2E3FC;\n",
              "    }\n",
              "\n",
              "    [theme=dark] .colab-df-convert:hover {\n",
              "      background-color: #434B5C;\n",
              "      box-shadow: 0px 1px 3px 1px rgba(0, 0, 0, 0.15);\n",
              "      filter: drop-shadow(0px 1px 2px rgba(0, 0, 0, 0.3));\n",
              "      fill: #FFFFFF;\n",
              "    }\n",
              "  </style>\n",
              "\n",
              "      <script>\n",
              "        const buttonEl =\n",
              "          document.querySelector('#df-60859e9b-8143-47e1-8aa5-441cfb77a8fd button.colab-df-convert');\n",
              "        buttonEl.style.display =\n",
              "          google.colab.kernel.accessAllowed ? 'block' : 'none';\n",
              "\n",
              "        async function convertToInteractive(key) {\n",
              "          const element = document.querySelector('#df-60859e9b-8143-47e1-8aa5-441cfb77a8fd');\n",
              "          const dataTable =\n",
              "            await google.colab.kernel.invokeFunction('convertToInteractive',\n",
              "                                                     [key], {});\n",
              "          if (!dataTable) return;\n",
              "\n",
              "          const docLinkHtml = 'Like what you see? Visit the ' +\n",
              "            '<a target=\"_blank\" href=https://colab.research.google.com/notebooks/data_table.ipynb>data table notebook</a>'\n",
              "            + ' to learn more about interactive tables.';\n",
              "          element.innerHTML = '';\n",
              "          dataTable['output_type'] = 'display_data';\n",
              "          await google.colab.output.renderOutput(dataTable, element);\n",
              "          const docLink = document.createElement('div');\n",
              "          docLink.innerHTML = docLinkHtml;\n",
              "          element.appendChild(docLink);\n",
              "        }\n",
              "      </script>\n",
              "    </div>\n",
              "  </div>\n",
              "  "
            ]
          },
          "metadata": {},
          "execution_count": 56
        }
      ],
      "source": [
        "df1.corr()"
      ]
    },
    {
      "cell_type": "code",
      "execution_count": 57,
      "metadata": {
        "colab": {
          "base_uri": "https://localhost:8080/",
          "height": 270
        },
        "id": "OYE2HPomsn9f",
        "outputId": "a83cf584-631f-41ed-893c-ec4780a93861"
      },
      "outputs": [
        {
          "output_type": "display_data",
          "data": {
            "text/plain": [
              "<Figure size 432x288 with 2 Axes>"
            ],
            "image/png": "[encoded data removed]"
          },
          "metadata": {
            "needs_background": "light"
          }
        }
      ],
      "source": [
        "sns.heatmap(df1.corr(), annot=True);"
      ]
    },
    {
      "cell_type": "code",
      "execution_count": 58,
      "metadata": {
        "id": "bi2a0ax-sn9f"
      },
      "outputs": [],
      "source": [
        "# Salary\n",
        "df1.Salary = df1.Salary.replace( 0,'<=50K')\n",
        "df1.Salary = df1.Salary.replace( 1,'>50K')"
      ]
    },
    {
      "cell_type": "code",
      "execution_count": 59,
      "metadata": {
        "scrolled": true,
        "colab": {
          "base_uri": "https://localhost:8080/"
        },
        "id": "yMzL5Cx2sn9g",
        "outputId": "d7f5dd45-89cf-48ec-c5f5-cc100f4af32c"
      },
      "outputs": [
        {
          "output_type": "execute_result",
          "data": {
            "text/plain": [
              "<=50K    23553\n",
              ">50K      6059\n",
              "Name: Salary, dtype: int64"
            ]
          },
          "metadata": {},
          "execution_count": 59
        }
      ],
      "source": [
        "df1['Salary'].value_counts()"
      ]
    },
    {
      "cell_type": "code",
      "execution_count": 60,
      "metadata": {
        "colab": {
          "base_uri": "https://localhost:8080/"
        },
        "id": "_g3ozMXfsn9h",
        "outputId": "2a94876f-5e7e-48f3-8668-1aaafca1cf1e"
      },
      "outputs": [
        {
          "output_type": "stream",
          "name": "stdout",
          "text": [
            "<class 'pandas.core.frame.DataFrame'>\n",
            "Int64Index: 29612 entries, 0 to 48839\n",
            "Data columns (total 12 columns):\n",
            " #   Column          Non-Null Count  Dtype \n",
            "---  ------          --------------  ----- \n",
            " 0   age             29612 non-null  int64 \n",
            " 1   workclass       29612 non-null  object\n",
            " 2   fnlwgt          29612 non-null  int64 \n",
            " 3   education       29612 non-null  object\n",
            " 4   marital         29612 non-null  object\n",
            " 5   occupation      29612 non-null  object\n",
            " 6   relationship    29612 non-null  object\n",
            " 7   race            29612 non-null  object\n",
            " 8   gender          29612 non-null  object\n",
            " 9   hours_per_week  29612 non-null  int64 \n",
            " 10  country         29612 non-null  object\n",
            " 11  Salary          29612 non-null  object\n",
            "dtypes: int64(3), object(9)\n",
            "memory usage: 3.9+ MB\n"
          ]
        }
      ],
      "source": [
        "df1.info()"
      ]
    },
    {
      "cell_type": "code",
      "execution_count": 61,
      "metadata": {
        "id": "NwWkCCu9sn9h"
      },
      "outputs": [],
      "source": [
        "#Covert workclass Columns Datatype To Category Datatype\n",
        "df1['workclass'] = df1['workclass'].astype('category')"
      ]
    },
    {
      "cell_type": "code",
      "execution_count": 61,
      "metadata": {
        "id": "cGlmixrYsn9h"
      },
      "outputs": [],
      "source": [
        ""
      ]
    },
    {
      "cell_type": "markdown",
      "metadata": {
        "id": "wpZmS-cTsn9i"
      },
      "source": [
        " I chose not to use the 'Fnlwgt' attribute that is used by the census, as the inverse of sampling fraction adjusted for non-response and over or under sampling of particular groups. This attribute does not convey individual related meaning."
      ]
    },
    {
      "cell_type": "code",
      "execution_count": 62,
      "metadata": {
        "id": "_hVzE83Bsn9i"
      },
      "outputs": [],
      "source": [
        "df1.drop(['fnlwgt'], axis = 1,inplace = True)"
      ]
    },
    {
      "cell_type": "markdown",
      "metadata": {
        "id": "wGZyrtC8sn9i"
      },
      "source": [
        "## 9. Encoding"
      ]
    },
    {
      "cell_type": "code",
      "execution_count": 63,
      "metadata": {
        "scrolled": true,
        "colab": {
          "base_uri": "https://localhost:8080/"
        },
        "id": "LHnM_4cHsn9j",
        "outputId": "bf5c9a4a-244d-4195-bfb5-03816803a989"
      },
      "outputs": [
        {
          "output_type": "execute_result",
          "data": {
            "text/plain": [
              "Index(['age', 'workclass', 'education', 'marital', 'occupation',\n",
              "       'relationship', 'race', 'gender', 'hours_per_week', 'country',\n",
              "       'Salary'],\n",
              "      dtype='object')"
            ]
          },
          "metadata": {},
          "execution_count": 63
        }
      ],
      "source": [
        "df1.columns"
      ]
    },
    {
      "cell_type": "code",
      "execution_count": 64,
      "metadata": {
        "scrolled": true,
        "colab": {
          "base_uri": "https://localhost:8080/"
        },
        "id": "hw-nLsPPsn9j",
        "outputId": "0b670ab3-fc6d-4c88-a5aa-faf21b0e8aaa"
      },
      "outputs": [
        {
          "output_type": "stream",
          "name": "stdout",
          "text": [
            "Unique values in age feature.\n",
            "[25 38 28 29 24 36 26 58 43 40 34 54 56 23 65 22 17 20 44 39 21 63 33 30\n",
            " 47 41 46 50 45 31 59 49 18 48 42 57 32 19 27 51 52 53 77 55 35 61 64 37\n",
            " 68 62 73 66 60 67 71 74 78 69 70 75 72 76] \n",
            "\n",
            "****************************************\n",
            "Unique values in workclass feature.\n",
            "['Private', 'Local-gov', 'Federal-gov', 'Self-emp-not-inc', 'Self-emp-inc', 'State-gov', 'Without-pay', 'Never-worked']\n",
            "Categories (8, object): ['Federal-gov', 'Local-gov', 'Never-worked', 'Private', 'Self-emp-inc',\n",
            "                         'Self-emp-not-inc', 'State-gov', 'Without-pay'] \n",
            "\n",
            "****************************************\n",
            "Unique values in education feature.\n",
            "['school' 'high school' 'higher' 'undergrad' 'grad' 'doc'] \n",
            "\n",
            "****************************************\n",
            "Unique values in marital feature.\n",
            "['not married' 'married' 'divorced'] \n",
            "\n",
            "****************************************\n",
            "Unique values in occupation feature.\n",
            "['Machine-op-inspct' 'Farming-fishing' 'Protective-serv' 'Prof-specialty'\n",
            " 'Other-service' 'Adm-clerical' 'Exec-managerial' 'Tech-support'\n",
            " 'Craft-repair' 'Sales' 'Priv-house-serv' 'Handlers-cleaners'\n",
            " 'Transport-moving' 'Armed-Forces'] \n",
            "\n",
            "****************************************\n",
            "Unique values in relationship feature.\n",
            "['Own-child' 'Husband' 'Unmarried' 'Not-in-family' 'Wife' 'Other-relative'] \n",
            "\n",
            "****************************************\n",
            "Unique values in race feature.\n",
            "['Black' 'White' 'Asian-Pac-Islander' 'Other' 'Amer-Indian-Eskimo'] \n",
            "\n",
            "****************************************\n",
            "Unique values in gender feature.\n",
            "['Male' 'Female'] \n",
            "\n",
            "****************************************\n",
            "Unique values in hours_per_week feature.\n",
            "[40 50 39 35 45 47 43 36 48 44 41 33 37 38 52 42 46 49 34 51] \n",
            "\n",
            "****************************************\n",
            "Unique values in country feature.\n",
            "['United-States' 'Peru' 'Guatemala' 'Mexico' 'Dominican-Republic'\n",
            " 'Philippines' 'Thailand' 'Puerto-Rico' 'Germany' 'South' 'Columbia'\n",
            " 'Japan' 'India' 'Cambodia' 'Poland' 'Laos' 'England' 'Cuba' 'Haiti'\n",
            " 'Taiwan' 'Italy' 'China' 'Nicaragua' 'El-Salvador' 'Canada' 'Ireland'\n",
            " 'Scotland' 'Jamaica' 'Portugal' 'Honduras' 'Ecuador' 'Vietnam' 'Greece'\n",
            " 'Iran' 'Hungary' 'Trinadad&Tobago' 'Outlying-US(Guam-USVI-etc)' 'Hong'\n",
            " 'Yugoslavia' 'France'] \n",
            "\n",
            "****************************************\n",
            "Unique values in Salary feature.\n",
            "['<=50K' '>50K'] \n",
            "\n",
            "****************************************\n"
          ]
        }
      ],
      "source": [
        "unique_checker(df1)"
      ]
    },
    {
      "cell_type": "markdown",
      "metadata": {
        "id": "CbuqBwQesn9j"
      },
      "source": [
        "### One-Hot Encoding"
      ]
    },
    {
      "cell_type": "code",
      "execution_count": 65,
      "metadata": {
        "id": "uQXqcW8Usn9k"
      },
      "outputs": [],
      "source": [
        "#Select the variables to be one-hot encoded\n",
        "one_hot_features = ['marital','gender']\n",
        "df1 = pd.get_dummies(df1, columns=one_hot_features)"
      ]
    },
    {
      "cell_type": "code",
      "execution_count": 66,
      "metadata": {
        "scrolled": true,
        "colab": {
          "base_uri": "https://localhost:8080/",
          "height": 374
        },
        "id": "mWjL8cFQsn9k",
        "outputId": "3ec8cced-04ac-4935-e8b0-a1c8d3319585"
      },
      "outputs": [
        {
          "output_type": "execute_result",
          "data": {
            "text/plain": [
              "   age  workclass    education         occupation relationship   race  \\\n",
              "0   25    Private       school  Machine-op-inspct    Own-child  Black   \n",
              "1   38    Private  high school    Farming-fishing      Husband  White   \n",
              "2   28  Local-gov       higher    Protective-serv      Husband  White   \n",
              "6   29    Private  high school     Prof-specialty    Unmarried  Black   \n",
              "8   24    Private       higher      Other-service    Unmarried  White   \n",
              "\n",
              "   hours_per_week        country Salary  marital_divorced  marital_married  \\\n",
              "0              40  United-States  <=50K                 0                0   \n",
              "1              50  United-States  <=50K                 0                1   \n",
              "2              40  United-States   >50K                 0                1   \n",
              "6              40  United-States  <=50K                 0                0   \n",
              "8              40  United-States  <=50K                 0                0   \n",
              "\n",
              "   marital_not married  gender_Female  gender_Male  \n",
              "0                    1              0            1  \n",
              "1                    0              0            1  \n",
              "2                    0              0            1  \n",
              "6                    1              0            1  \n",
              "8                    1              1            0  "
            ],
            "text/html": [
              "\n",
              "  <div id=\"df-b514156e-71ca-43e2-b417-d0bfd573576c\">\n",
              "    <div class=\"colab-df-container\">\n",
              "      <div>\n",
              "<style scoped>\n",
              "    .dataframe tbody tr th:only-of-type {\n",
              "        vertical-align: middle;\n",
              "    }\n",
              "\n",
              "    .dataframe tbody tr th {\n",
              "        vertical-align: top;\n",
              "    }\n",
              "\n",
              "    .dataframe thead th {\n",
              "        text-align: right;\n",
              "    }\n",
              "</style>\n",
              "<table border=\"1\" class=\"dataframe\">\n",
              "  <thead>\n",
              "    <tr style=\"text-align: right;\">\n",
              "      <th></th>\n",
              "      <th>age</th>\n",
              "      <th>workclass</th>\n",
              "      <th>education</th>\n",
              "      <th>occupation</th>\n",
              "      <th>relationship</th>\n",
              "      <th>race</th>\n",
              "      <th>hours_per_week</th>\n",
              "      <th>country</th>\n",
              "      <th>Salary</th>\n",
              "      <th>marital_divorced</th>\n",
              "      <th>marital_married</th>\n",
              "      <th>marital_not married</th>\n",
              "      <th>gender_Female</th>\n",
              "      <th>gender_Male</th>\n",
              "    </tr>\n",
              "  </thead>\n",
              "  <tbody>\n",
              "    <tr>\n",
              "      <th>0</th>\n",
              "      <td>25</td>\n",
              "      <td>Private</td>\n",
              "      <td>school</td>\n",
              "      <td>Machine-op-inspct</td>\n",
              "      <td>Own-child</td>\n",
              "      <td>Black</td>\n",
              "      <td>40</td>\n",
              "      <td>United-States</td>\n",
              "      <td>&lt;=50K</td>\n",
              "      <td>0</td>\n",
              "      <td>0</td>\n",
              "      <td>1</td>\n",
              "      <td>0</td>\n",
              "      <td>1</td>\n",
              "    </tr>\n",
              "    <tr>\n",
              "      <th>1</th>\n",
              "      <td>38</td>\n",
              "      <td>Private</td>\n",
              "      <td>high school</td>\n",
              "      <td>Farming-fishing</td>\n",
              "      <td>Husband</td>\n",
              "      <td>White</td>\n",
              "      <td>50</td>\n",
              "      <td>United-States</td>\n",
              "      <td>&lt;=50K</td>\n",
              "      <td>0</td>\n",
              "      <td>1</td>\n",
              "      <td>0</td>\n",
              "      <td>0</td>\n",
              "      <td>1</td>\n",
              "    </tr>\n",
              "    <tr>\n",
              "      <th>2</th>\n",
              "      <td>28</td>\n",
              "      <td>Local-gov</td>\n",
              "      <td>higher</td>\n",
              "      <td>Protective-serv</td>\n",
              "      <td>Husband</td>\n",
              "      <td>White</td>\n",
              "      <td>40</td>\n",
              "      <td>United-States</td>\n",
              "      <td>&gt;50K</td>\n",
              "      <td>0</td>\n",
              "      <td>1</td>\n",
              "      <td>0</td>\n",
              "      <td>0</td>\n",
              "      <td>1</td>\n",
              "    </tr>\n",
              "    <tr>\n",
              "      <th>6</th>\n",
              "      <td>29</td>\n",
              "      <td>Private</td>\n",
              "      <td>high school</td>\n",
              "      <td>Prof-specialty</td>\n",
              "      <td>Unmarried</td>\n",
              "      <td>Black</td>\n",
              "      <td>40</td>\n",
              "      <td>United-States</td>\n",
              "      <td>&lt;=50K</td>\n",
              "      <td>0</td>\n",
              "      <td>0</td>\n",
              "      <td>1</td>\n",
              "      <td>0</td>\n",
              "      <td>1</td>\n",
              "    </tr>\n",
              "    <tr>\n",
              "      <th>8</th>\n",
              "      <td>24</td>\n",
              "      <td>Private</td>\n",
              "      <td>higher</td>\n",
              "      <td>Other-service</td>\n",
              "      <td>Unmarried</td>\n",
              "      <td>White</td>\n",
              "      <td>40</td>\n",
              "      <td>United-States</td>\n",
              "      <td>&lt;=50K</td>\n",
              "      <td>0</td>\n",
              "      <td>0</td>\n",
              "      <td>1</td>\n",
              "      <td>1</td>\n",
              "      <td>0</td>\n",
              "    </tr>\n",
              "  </tbody>\n",
              "</table>\n",
              "</div>\n",
              "      <button class=\"colab-df-convert\" onclick=\"convertToInteractive('df-b514156e-71ca-43e2-b417-d0bfd573576c')\"\n",
              "              title=\"Convert this dataframe to an interactive table.\"\n",
              "              style=\"display:none;\">\n",
              "        \n",
              "  <svg xmlns=\"http://www.w3.org/2000/svg\" height=\"24px\"viewBox=\"0 0 24 24\"\n",
              "       width=\"24px\">\n",
              "    <path d=\"M0 0h24v24H0V0z\" fill=\"none\"/>\n",
              "    <path d=\"M18.56 5.44l.94 2.06.94-2.06 2.06-.94-2.06-.94-.94-2.06-.94 2.06-2.06.94zm-11 1L8.5 8.5l.94-2.06 2.06-.94-2.06-.94L8.5 2.5l-.94 2.06-2.06.94zm10 10l.94 2.06.94-2.06 2.06-.94-2.06-.94-.94-2.06-.94 2.06-2.06.94z\"/><path d=\"M17.41 7.96l-1.37-1.37c-.4-.4-.92-.59-1.43-.59-.52 0-1.04.2-1.43.59L10.3 9.45l-7.72 7.72c-.78.78-.78 2.05 0 2.83L4 21.41c.39.39.9.59 1.41.59.51 0 1.02-.2 1.41-.59l7.78-7.78 2.81-2.81c.8-.78.8-2.07 0-2.86zM5.41 20L4 18.59l7.72-7.72 1.47 1.35L5.41 20z\"/>\n",
              "  </svg>\n",
              "      </button>\n",
              "      \n",
              "  <style>\n",
              "    .colab-df-container {\n",
              "      display:flex;\n",
              "      flex-wrap:wrap;\n",
              "      gap: 12px;\n",
              "    }\n",
              "\n",
              "    .colab-df-convert {\n",
              "      background-color: #E8F0FE;\n",
              "      border: none;\n",
              "      border-radius: 50%;\n",
              "      cursor: pointer;\n",
              "      display: none;\n",
              "      fill: #1967D2;\n",
              "      height: 32px;\n",
              "      padding: 0 0 0 0;\n",
              "      width: 32px;\n",
              "    }\n",
              "\n",
              "    .colab-df-convert:hover {\n",
              "      background-color: #E2EBFA;\n",
              "      box-shadow: 0px 1px 2px rgba(60, 64, 67, 0.3), 0px 1px 3px 1px rgba(60, 64, 67, 0.15);\n",
              "      fill: #174EA6;\n",
              "    }\n",
              "\n",
              "    [theme=dark] .colab-df-convert {\n",
              "      background-color: #3B4455;\n",
              "      fill: #D2E3FC;\n",
              "    }\n",
              "\n",
              "    [theme=dark] .colab-df-convert:hover {\n",
              "      background-color: #434B5C;\n",
              "      box-shadow: 0px 1px 3px 1px rgba(0, 0, 0, 0.15);\n",
              "      filter: drop-shadow(0px 1px 2px rgba(0, 0, 0, 0.3));\n",
              "      fill: #FFFFFF;\n",
              "    }\n",
              "  </style>\n",
              "\n",
              "      <script>\n",
              "        const buttonEl =\n",
              "          document.querySelector('#df-b514156e-71ca-43e2-b417-d0bfd573576c button.colab-df-convert');\n",
              "        buttonEl.style.display =\n",
              "          google.colab.kernel.accessAllowed ? 'block' : 'none';\n",
              "\n",
              "        async function convertToInteractive(key) {\n",
              "          const element = document.querySelector('#df-b514156e-71ca-43e2-b417-d0bfd573576c');\n",
              "          const dataTable =\n",
              "            await google.colab.kernel.invokeFunction('convertToInteractive',\n",
              "                                                     [key], {});\n",
              "          if (!dataTable) return;\n",
              "\n",
              "          const docLinkHtml = 'Like what you see? Visit the ' +\n",
              "            '<a target=\"_blank\" href=https://colab.research.google.com/notebooks/data_table.ipynb>data table notebook</a>'\n",
              "            + ' to learn more about interactive tables.';\n",
              "          element.innerHTML = '';\n",
              "          dataTable['output_type'] = 'display_data';\n",
              "          await google.colab.output.renderOutput(dataTable, element);\n",
              "          const docLink = document.createElement('div');\n",
              "          docLink.innerHTML = docLinkHtml;\n",
              "          element.appendChild(docLink);\n",
              "        }\n",
              "      </script>\n",
              "    </div>\n",
              "  </div>\n",
              "  "
            ]
          },
          "metadata": {},
          "execution_count": 66
        }
      ],
      "source": [
        "df1.head()"
      ]
    },
    {
      "cell_type": "markdown",
      "metadata": {
        "id": "Orkm51i_sn9l"
      },
      "source": [
        "### Label Encoding"
      ]
    },
    {
      "cell_type": "code",
      "execution_count": 67,
      "metadata": {
        "id": "zthkwyR8sn9l"
      },
      "outputs": [],
      "source": [
        "#label encoding\n",
        "from sklearn import preprocessing\n",
        "le = preprocessing.LabelEncoder()\n",
        "#convert the categorical columns into numeric \n",
        "df1['workclass']  = le.fit_transform(df1['workclass'])\n",
        "df1['education']  = le.fit_transform(df1['education'])\n",
        "df1['occupation']  = le.fit_transform(df1['occupation'])\n",
        "df1['relationship']  = le.fit_transform(df1['relationship'])\n",
        "df1['race']  = le.fit_transform(df1['race'])\n",
        "df1['country']  = le.fit_transform(df1['country'])\n"
      ]
    },
    {
      "cell_type": "code",
      "execution_count": 68,
      "metadata": {
        "colab": {
          "base_uri": "https://localhost:8080/",
          "height": 288
        },
        "id": "PXLJ01uhsn9l",
        "outputId": "33f40aa8-ac96-4f0b-bb10-3b4f6311cde2"
      },
      "outputs": [
        {
          "output_type": "execute_result",
          "data": {
            "text/plain": [
              "   age  workclass  education  occupation  relationship  race  hours_per_week  \\\n",
              "0   25          3          4           6             3     2              40   \n",
              "1   38          3          2           4             0     4              50   \n",
              "2   28          1          3          10             0     4              40   \n",
              "6   29          3          2           9             4     2              40   \n",
              "8   24          3          3           7             4     4              40   \n",
              "\n",
              "   country Salary  marital_divorced  marital_married  marital_not married  \\\n",
              "0       37  <=50K                 0                0                    1   \n",
              "1       37  <=50K                 0                1                    0   \n",
              "2       37   >50K                 0                1                    0   \n",
              "6       37  <=50K                 0                0                    1   \n",
              "8       37  <=50K                 0                0                    1   \n",
              "\n",
              "   gender_Female  gender_Male  \n",
              "0              0            1  \n",
              "1              0            1  \n",
              "2              0            1  \n",
              "6              0            1  \n",
              "8              1            0  "
            ],
            "text/html": [
              "\n",
              "  <div id=\"df-cc4889cd-73fa-43de-8244-26a66c4ed750\">\n",
              "    <div class=\"colab-df-container\">\n",
              "      <div>\n",
              "<style scoped>\n",
              "    .dataframe tbody tr th:only-of-type {\n",
              "        vertical-align: middle;\n",
              "    }\n",
              "\n",
              "    .dataframe tbody tr th {\n",
              "        vertical-align: top;\n",
              "    }\n",
              "\n",
              "    .dataframe thead th {\n",
              "        text-align: right;\n",
              "    }\n",
              "</style>\n",
              "<table border=\"1\" class=\"dataframe\">\n",
              "  <thead>\n",
              "    <tr style=\"text-align: right;\">\n",
              "      <th></th>\n",
              "      <th>age</th>\n",
              "      <th>workclass</th>\n",
              "      <th>education</th>\n",
              "      <th>occupation</th>\n",
              "      <th>relationship</th>\n",
              "      <th>race</th>\n",
              "      <th>hours_per_week</th>\n",
              "      <th>country</th>\n",
              "      <th>Salary</th>\n",
              "      <th>marital_divorced</th>\n",
              "      <th>marital_married</th>\n",
              "      <th>marital_not married</th>\n",
              "      <th>gender_Female</th>\n",
              "      <th>gender_Male</th>\n",
              "    </tr>\n",
              "  </thead>\n",
              "  <tbody>\n",
              "    <tr>\n",
              "      <th>0</th>\n",
              "      <td>25</td>\n",
              "      <td>3</td>\n",
              "      <td>4</td>\n",
              "      <td>6</td>\n",
              "      <td>3</td>\n",
              "      <td>2</td>\n",
              "      <td>40</td>\n",
              "      <td>37</td>\n",
              "      <td>&lt;=50K</td>\n",
              "      <td>0</td>\n",
              "      <td>0</td>\n",
              "      <td>1</td>\n",
              "      <td>0</td>\n",
              "      <td>1</td>\n",
              "    </tr>\n",
              "    <tr>\n",
              "      <th>1</th>\n",
              "      <td>38</td>\n",
              "      <td>3</td>\n",
              "      <td>2</td>\n",
              "      <td>4</td>\n",
              "      <td>0</td>\n",
              "      <td>4</td>\n",
              "      <td>50</td>\n",
              "      <td>37</td>\n",
              "      <td>&lt;=50K</td>\n",
              "      <td>0</td>\n",
              "      <td>1</td>\n",
              "      <td>0</td>\n",
              "      <td>0</td>\n",
              "      <td>1</td>\n",
              "    </tr>\n",
              "    <tr>\n",
              "      <th>2</th>\n",
              "      <td>28</td>\n",
              "      <td>1</td>\n",
              "      <td>3</td>\n",
              "      <td>10</td>\n",
              "      <td>0</td>\n",
              "      <td>4</td>\n",
              "      <td>40</td>\n",
              "      <td>37</td>\n",
              "      <td>&gt;50K</td>\n",
              "      <td>0</td>\n",
              "      <td>1</td>\n",
              "      <td>0</td>\n",
              "      <td>0</td>\n",
              "      <td>1</td>\n",
              "    </tr>\n",
              "    <tr>\n",
              "      <th>6</th>\n",
              "      <td>29</td>\n",
              "      <td>3</td>\n",
              "      <td>2</td>\n",
              "      <td>9</td>\n",
              "      <td>4</td>\n",
              "      <td>2</td>\n",
              "      <td>40</td>\n",
              "      <td>37</td>\n",
              "      <td>&lt;=50K</td>\n",
              "      <td>0</td>\n",
              "      <td>0</td>\n",
              "      <td>1</td>\n",
              "      <td>0</td>\n",
              "      <td>1</td>\n",
              "    </tr>\n",
              "    <tr>\n",
              "      <th>8</th>\n",
              "      <td>24</td>\n",
              "      <td>3</td>\n",
              "      <td>3</td>\n",
              "      <td>7</td>\n",
              "      <td>4</td>\n",
              "      <td>4</td>\n",
              "      <td>40</td>\n",
              "      <td>37</td>\n",
              "      <td>&lt;=50K</td>\n",
              "      <td>0</td>\n",
              "      <td>0</td>\n",
              "      <td>1</td>\n",
              "      <td>1</td>\n",
              "      <td>0</td>\n",
              "    </tr>\n",
              "  </tbody>\n",
              "</table>\n",
              "</div>\n",
              "      <button class=\"colab-df-convert\" onclick=\"convertToInteractive('df-cc4889cd-73fa-43de-8244-26a66c4ed750')\"\n",
              "              title=\"Convert this dataframe to an interactive table.\"\n",
              "              style=\"display:none;\">\n",
              "        \n",
              "  <svg xmlns=\"http://www.w3.org/2000/svg\" height=\"24px\"viewBox=\"0 0 24 24\"\n",
              "       width=\"24px\">\n",
              "    <path d=\"M0 0h24v24H0V0z\" fill=\"none\"/>\n",
              "    <path d=\"M18.56 5.44l.94 2.06.94-2.06 2.06-.94-2.06-.94-.94-2.06-.94 2.06-2.06.94zm-11 1L8.5 8.5l.94-2.06 2.06-.94-2.06-.94L8.5 2.5l-.94 2.06-2.06.94zm10 10l.94 2.06.94-2.06 2.06-.94-2.06-.94-.94-2.06-.94 2.06-2.06.94z\"/><path d=\"M17.41 7.96l-1.37-1.37c-.4-.4-.92-.59-1.43-.59-.52 0-1.04.2-1.43.59L10.3 9.45l-7.72 7.72c-.78.78-.78 2.05 0 2.83L4 21.41c.39.39.9.59 1.41.59.51 0 1.02-.2 1.41-.59l7.78-7.78 2.81-2.81c.8-.78.8-2.07 0-2.86zM5.41 20L4 18.59l7.72-7.72 1.47 1.35L5.41 20z\"/>\n",
              "  </svg>\n",
              "      </button>\n",
              "      \n",
              "  <style>\n",
              "    .colab-df-container {\n",
              "      display:flex;\n",
              "      flex-wrap:wrap;\n",
              "      gap: 12px;\n",
              "    }\n",
              "\n",
              "    .colab-df-convert {\n",
              "      background-color: #E8F0FE;\n",
              "      border: none;\n",
              "      border-radius: 50%;\n",
              "      cursor: pointer;\n",
              "      display: none;\n",
              "      fill: #1967D2;\n",
              "      height: 32px;\n",
              "      padding: 0 0 0 0;\n",
              "      width: 32px;\n",
              "    }\n",
              "\n",
              "    .colab-df-convert:hover {\n",
              "      background-color: #E2EBFA;\n",
              "      box-shadow: 0px 1px 2px rgba(60, 64, 67, 0.3), 0px 1px 3px 1px rgba(60, 64, 67, 0.15);\n",
              "      fill: #174EA6;\n",
              "    }\n",
              "\n",
              "    [theme=dark] .colab-df-convert {\n",
              "      background-color: #3B4455;\n",
              "      fill: #D2E3FC;\n",
              "    }\n",
              "\n",
              "    [theme=dark] .colab-df-convert:hover {\n",
              "      background-color: #434B5C;\n",
              "      box-shadow: 0px 1px 3px 1px rgba(0, 0, 0, 0.15);\n",
              "      filter: drop-shadow(0px 1px 2px rgba(0, 0, 0, 0.3));\n",
              "      fill: #FFFFFF;\n",
              "    }\n",
              "  </style>\n",
              "\n",
              "      <script>\n",
              "        const buttonEl =\n",
              "          document.querySelector('#df-cc4889cd-73fa-43de-8244-26a66c4ed750 button.colab-df-convert');\n",
              "        buttonEl.style.display =\n",
              "          google.colab.kernel.accessAllowed ? 'block' : 'none';\n",
              "\n",
              "        async function convertToInteractive(key) {\n",
              "          const element = document.querySelector('#df-cc4889cd-73fa-43de-8244-26a66c4ed750');\n",
              "          const dataTable =\n",
              "            await google.colab.kernel.invokeFunction('convertToInteractive',\n",
              "                                                     [key], {});\n",
              "          if (!dataTable) return;\n",
              "\n",
              "          const docLinkHtml = 'Like what you see? Visit the ' +\n",
              "            '<a target=\"_blank\" href=https://colab.research.google.com/notebooks/data_table.ipynb>data table notebook</a>'\n",
              "            + ' to learn more about interactive tables.';\n",
              "          element.innerHTML = '';\n",
              "          dataTable['output_type'] = 'display_data';\n",
              "          await google.colab.output.renderOutput(dataTable, element);\n",
              "          const docLink = document.createElement('div');\n",
              "          docLink.innerHTML = docLinkHtml;\n",
              "          element.appendChild(docLink);\n",
              "        }\n",
              "      </script>\n",
              "    </div>\n",
              "  </div>\n",
              "  "
            ]
          },
          "metadata": {},
          "execution_count": 68
        }
      ],
      "source": [
        "df1.head()"
      ]
    },
    {
      "cell_type": "markdown",
      "metadata": {
        "id": "GhMAyYEksn9m"
      },
      "source": [
        "## 9. Model Development & Classification"
      ]
    },
    {
      "cell_type": "code",
      "execution_count": 69,
      "metadata": {
        "scrolled": true,
        "colab": {
          "base_uri": "https://localhost:8080/",
          "height": 268
        },
        "id": "qtkGWTCssn9m",
        "outputId": "b53af4aa-da20-454b-9fa9-773324dd37ef"
      },
      "outputs": [
        {
          "output_type": "execute_result",
          "data": {
            "text/plain": [
              "   age  workclass  education  occupation  relationship  race  hours_per_week  \\\n",
              "0   25          3          4           6             3     2              40   \n",
              "1   38          3          2           4             0     4              50   \n",
              "2   28          1          3          10             0     4              40   \n",
              "6   29          3          2           9             4     2              40   \n",
              "8   24          3          3           7             4     4              40   \n",
              "\n",
              "   country  marital_divorced  marital_married  marital_not married  \\\n",
              "0       37                 0                0                    1   \n",
              "1       37                 0                1                    0   \n",
              "2       37                 0                1                    0   \n",
              "6       37                 0                0                    1   \n",
              "8       37                 0                0                    1   \n",
              "\n",
              "   gender_Female  gender_Male  \n",
              "0              0            1  \n",
              "1              0            1  \n",
              "2              0            1  \n",
              "6              0            1  \n",
              "8              1            0  "
            ],
            "text/html": [
              "\n",
              "  <div id=\"df-1f04b2da-927d-4eaa-91b8-c0e86846220d\">\n",
              "    <div class=\"colab-df-container\">\n",
              "      <div>\n",
              "<style scoped>\n",
              "    .dataframe tbody tr th:only-of-type {\n",
              "        vertical-align: middle;\n",
              "    }\n",
              "\n",
              "    .dataframe tbody tr th {\n",
              "        vertical-align: top;\n",
              "    }\n",
              "\n",
              "    .dataframe thead th {\n",
              "        text-align: right;\n",
              "    }\n",
              "</style>\n",
              "<table border=\"1\" class=\"dataframe\">\n",
              "  <thead>\n",
              "    <tr style=\"text-align: right;\">\n",
              "      <th></th>\n",
              "      <th>age</th>\n",
              "      <th>workclass</th>\n",
              "      <th>education</th>\n",
              "      <th>occupation</th>\n",
              "      <th>relationship</th>\n",
              "      <th>race</th>\n",
              "      <th>hours_per_week</th>\n",
              "      <th>country</th>\n",
              "      <th>marital_divorced</th>\n",
              "      <th>marital_married</th>\n",
              "      <th>marital_not married</th>\n",
              "      <th>gender_Female</th>\n",
              "      <th>gender_Male</th>\n",
              "    </tr>\n",
              "  </thead>\n",
              "  <tbody>\n",
              "    <tr>\n",
              "      <th>0</th>\n",
              "      <td>25</td>\n",
              "      <td>3</td>\n",
              "      <td>4</td>\n",
              "      <td>6</td>\n",
              "      <td>3</td>\n",
              "      <td>2</td>\n",
              "      <td>40</td>\n",
              "      <td>37</td>\n",
              "      <td>0</td>\n",
              "      <td>0</td>\n",
              "      <td>1</td>\n",
              "      <td>0</td>\n",
              "      <td>1</td>\n",
              "    </tr>\n",
              "    <tr>\n",
              "      <th>1</th>\n",
              "      <td>38</td>\n",
              "      <td>3</td>\n",
              "      <td>2</td>\n",
              "      <td>4</td>\n",
              "      <td>0</td>\n",
              "      <td>4</td>\n",
              "      <td>50</td>\n",
              "      <td>37</td>\n",
              "      <td>0</td>\n",
              "      <td>1</td>\n",
              "      <td>0</td>\n",
              "      <td>0</td>\n",
              "      <td>1</td>\n",
              "    </tr>\n",
              "    <tr>\n",
              "      <th>2</th>\n",
              "      <td>28</td>\n",
              "      <td>1</td>\n",
              "      <td>3</td>\n",
              "      <td>10</td>\n",
              "      <td>0</td>\n",
              "      <td>4</td>\n",
              "      <td>40</td>\n",
              "      <td>37</td>\n",
              "      <td>0</td>\n",
              "      <td>1</td>\n",
              "      <td>0</td>\n",
              "      <td>0</td>\n",
              "      <td>1</td>\n",
              "    </tr>\n",
              "    <tr>\n",
              "      <th>6</th>\n",
              "      <td>29</td>\n",
              "      <td>3</td>\n",
              "      <td>2</td>\n",
              "      <td>9</td>\n",
              "      <td>4</td>\n",
              "      <td>2</td>\n",
              "      <td>40</td>\n",
              "      <td>37</td>\n",
              "      <td>0</td>\n",
              "      <td>0</td>\n",
              "      <td>1</td>\n",
              "      <td>0</td>\n",
              "      <td>1</td>\n",
              "    </tr>\n",
              "    <tr>\n",
              "      <th>8</th>\n",
              "      <td>24</td>\n",
              "      <td>3</td>\n",
              "      <td>3</td>\n",
              "      <td>7</td>\n",
              "      <td>4</td>\n",
              "      <td>4</td>\n",
              "      <td>40</td>\n",
              "      <td>37</td>\n",
              "      <td>0</td>\n",
              "      <td>0</td>\n",
              "      <td>1</td>\n",
              "      <td>1</td>\n",
              "      <td>0</td>\n",
              "    </tr>\n",
              "  </tbody>\n",
              "</table>\n",
              "</div>\n",
              "      <button class=\"colab-df-convert\" onclick=\"convertToInteractive('df-1f04b2da-927d-4eaa-91b8-c0e86846220d')\"\n",
              "              title=\"Convert this dataframe to an interactive table.\"\n",
              "              style=\"display:none;\">\n",
              "        \n",
              "  <svg xmlns=\"http://www.w3.org/2000/svg\" height=\"24px\"viewBox=\"0 0 24 24\"\n",
              "       width=\"24px\">\n",
              "    <path d=\"M0 0h24v24H0V0z\" fill=\"none\"/>\n",
              "    <path d=\"M18.56 5.44l.94 2.06.94-2.06 2.06-.94-2.06-.94-.94-2.06-.94 2.06-2.06.94zm-11 1L8.5 8.5l.94-2.06 2.06-.94-2.06-.94L8.5 2.5l-.94 2.06-2.06.94zm10 10l.94 2.06.94-2.06 2.06-.94-2.06-.94-.94-2.06-.94 2.06-2.06.94z\"/><path d=\"M17.41 7.96l-1.37-1.37c-.4-.4-.92-.59-1.43-.59-.52 0-1.04.2-1.43.59L10.3 9.45l-7.72 7.72c-.78.78-.78 2.05 0 2.83L4 21.41c.39.39.9.59 1.41.59.51 0 1.02-.2 1.41-.59l7.78-7.78 2.81-2.81c.8-.78.8-2.07 0-2.86zM5.41 20L4 18.59l7.72-7.72 1.47 1.35L5.41 20z\"/>\n",
              "  </svg>\n",
              "      </button>\n",
              "      \n",
              "  <style>\n",
              "    .colab-df-container {\n",
              "      display:flex;\n",
              "      flex-wrap:wrap;\n",
              "      gap: 12px;\n",
              "    }\n",
              "\n",
              "    .colab-df-convert {\n",
              "      background-color: #E8F0FE;\n",
              "      border: none;\n",
              "      border-radius: 50%;\n",
              "      cursor: pointer;\n",
              "      display: none;\n",
              "      fill: #1967D2;\n",
              "      height: 32px;\n",
              "      padding: 0 0 0 0;\n",
              "      width: 32px;\n",
              "    }\n",
              "\n",
              "    .colab-df-convert:hover {\n",
              "      background-color: #E2EBFA;\n",
              "      box-shadow: 0px 1px 2px rgba(60, 64, 67, 0.3), 0px 1px 3px 1px rgba(60, 64, 67, 0.15);\n",
              "      fill: #174EA6;\n",
              "    }\n",
              "\n",
              "    [theme=dark] .colab-df-convert {\n",
              "      background-color: #3B4455;\n",
              "      fill: #D2E3FC;\n",
              "    }\n",
              "\n",
              "    [theme=dark] .colab-df-convert:hover {\n",
              "      background-color: #434B5C;\n",
              "      box-shadow: 0px 1px 3px 1px rgba(0, 0, 0, 0.15);\n",
              "      filter: drop-shadow(0px 1px 2px rgba(0, 0, 0, 0.3));\n",
              "      fill: #FFFFFF;\n",
              "    }\n",
              "  </style>\n",
              "\n",
              "      <script>\n",
              "        const buttonEl =\n",
              "          document.querySelector('#df-1f04b2da-927d-4eaa-91b8-c0e86846220d button.colab-df-convert');\n",
              "        buttonEl.style.display =\n",
              "          google.colab.kernel.accessAllowed ? 'block' : 'none';\n",
              "\n",
              "        async function convertToInteractive(key) {\n",
              "          const element = document.querySelector('#df-1f04b2da-927d-4eaa-91b8-c0e86846220d');\n",
              "          const dataTable =\n",
              "            await google.colab.kernel.invokeFunction('convertToInteractive',\n",
              "                                                     [key], {});\n",
              "          if (!dataTable) return;\n",
              "\n",
              "          const docLinkHtml = 'Like what you see? Visit the ' +\n",
              "            '<a target=\"_blank\" href=https://colab.research.google.com/notebooks/data_table.ipynb>data table notebook</a>'\n",
              "            + ' to learn more about interactive tables.';\n",
              "          element.innerHTML = '';\n",
              "          dataTable['output_type'] = 'display_data';\n",
              "          await google.colab.output.renderOutput(dataTable, element);\n",
              "          const docLink = document.createElement('div');\n",
              "          docLink.innerHTML = docLinkHtml;\n",
              "          element.appendChild(docLink);\n",
              "        }\n",
              "      </script>\n",
              "    </div>\n",
              "  </div>\n",
              "  "
            ]
          },
          "metadata": {},
          "execution_count": 69
        }
      ],
      "source": [
        "#Moved the salary column to another variable\n",
        "target_salary = df1.pop('Salary')\n",
        "df1.head()"
      ]
    },
    {
      "cell_type": "markdown",
      "metadata": {
        "id": "pGr2tbLTsn9n"
      },
      "source": [
        "### Logistic Regression Model"
      ]
    },
    {
      "cell_type": "code",
      "execution_count": 70,
      "metadata": {
        "id": "7580Q9kmsn9n"
      },
      "outputs": [],
      "source": [
        "from sklearn.model_selection import train_test_split\n",
        "from sklearn.metrics import classification_report\n",
        "from sklearn.linear_model import LogisticRegression\n",
        "from sklearn.preprocessing import StandardScaler"
      ]
    },
    {
      "cell_type": "code",
      "execution_count": 71,
      "metadata": {
        "id": "kPYhV6DQsn9n"
      },
      "outputs": [],
      "source": [
        "#since this is a binary classification we will use logistic reg\n",
        "\n",
        "#normalizing data\n",
        "scaler = StandardScaler()\n",
        "df2 = scaler.fit_transform(df1.values)"
      ]
    },
    {
      "cell_type": "code",
      "execution_count": 72,
      "metadata": {
        "colab": {
          "base_uri": "https://localhost:8080/"
        },
        "id": "KLRSPaQ-sn9o",
        "outputId": "2ccd7f96-954d-43d7-b514-51475f44b690"
      },
      "outputs": [
        {
          "output_type": "execute_result",
          "data": {
            "text/plain": [
              "LogisticRegression()"
            ]
          },
          "metadata": {},
          "execution_count": 72
        }
      ],
      "source": [
        "x_train, x_test, y_train, y_test = train_test_split(df2, target_salary,test_size=0.2, random_state=42)\n",
        "\n",
        "clf = LogisticRegression().fit(x_train,y_train)\n",
        "clf"
      ]
    },
    {
      "cell_type": "code",
      "execution_count": 73,
      "metadata": {
        "colab": {
          "base_uri": "https://localhost:8080/"
        },
        "id": "GV1itktesn9o",
        "outputId": "60930614-8dcb-4e43-f234-495dc4673455"
      },
      "outputs": [
        {
          "output_type": "execute_result",
          "data": {
            "text/plain": [
              "0.8028026338004389"
            ]
          },
          "metadata": {},
          "execution_count": 73
        }
      ],
      "source": [
        "clf.score(x_test,y_test)"
      ]
    },
    {
      "cell_type": "code",
      "execution_count": 75,
      "metadata": {
        "colab": {
          "base_uri": "https://localhost:8080/"
        },
        "id": "ngY0TH70sn9p",
        "outputId": "87cbc8ac-cb1f-49ff-812c-cdb2f27a0768"
      },
      "outputs": [
        {
          "output_type": "stream",
          "name": "stdout",
          "text": [
            "              precision    recall  f1-score   support\n",
            "\n",
            "       <=50K       0.83      0.95      0.89      4743\n",
            "        >50K       0.51      0.19      0.28      1180\n",
            "\n",
            "    accuracy                           0.80      5923\n",
            "   macro avg       0.67      0.57      0.58      5923\n",
            "weighted avg       0.76      0.80      0.77      5923\n",
            "\n"
          ]
        }
      ],
      "source": [
        "print(classification_report(y_test, clf.predict(x_test)))"
      ]
    },
    {
      "cell_type": "code",
      "execution_count": 74,
      "metadata": {
        "colab": {
          "base_uri": "https://localhost:8080/"
        },
        "id": "cSYsal5Gsn9p",
        "outputId": "ec3ba61c-8568-476c-aa38-7350fa0519f3"
      },
      "outputs": [
        {
          "output_type": "stream",
          "name": "stdout",
          "text": [
            "Accuracy for Logistic Regression is 0.8028\n",
            "Precision for Logistic Regression is 0.6699\n",
            "Recall for Logistic Regression is 0.5745\n",
            "F1-Score for Logistic Regression is 0.5841\n"
          ]
        }
      ],
      "source": [
        "from sklearn.metrics import confusion_matrix,accuracy_score,precision_score,recall_score,f1_score\n",
        "print(\"Accuracy for Logistic Regression is\",round(accuracy_score(y_test,clf.predict(x_test)),4))\n",
        "print(\"Precision for Logistic Regression is\",round(precision_score(y_test,clf.predict(x_test),average='macro'),4))\n",
        "print(\"Recall for Logistic Regression is\",round(recall_score(y_test,clf.predict(x_test),average='macro'),4))\n",
        "print(\"F1-Score for Logistic Regression is\",round(f1_score(y_test,clf.predict(x_test),average='macro'),4))"
      ]
    },
    {
      "cell_type": "code",
      "execution_count": 75,
      "metadata": {
        "id": "ythuksIOsn9p"
      },
      "outputs": [],
      "source": [
        "y_pred1 = clf.predict(x_test)"
      ]
    },
    {
      "cell_type": "code",
      "execution_count": 76,
      "metadata": {
        "colab": {
          "base_uri": "https://localhost:8080/",
          "height": 299
        },
        "id": "uVuYuaZlsn9q",
        "outputId": "0af3e5b9-93f3-4d53-8280-1975156bfed8"
      },
      "outputs": [
        {
          "output_type": "execute_result",
          "data": {
            "text/plain": [
              "Text(33.0, 0.5, 'Actual Labels')"
            ]
          },
          "metadata": {},
          "execution_count": 76
        },
        {
          "output_type": "display_data",
          "data": {
            "text/plain": [
              "<Figure size 432x288 with 2 Axes>"
            ],
            "image/png": "[encoded data removed]"
          },
          "metadata": {
            "needs_background": "light"
          }
        }
      ],
      "source": [
        "\n",
        "\n",
        "\n",
        "from sklearn.metrics import confusion_matrix\n",
        "\n",
        "sns.heatmap(confusion_matrix(y_test,y_pred1),annot=True,fmt='g')\n",
        "plt.xlabel('Predicted Labels')\n",
        "plt.ylabel('Actual Labels')"
      ]
    },
    {
      "cell_type": "markdown",
      "metadata": {
        "id": "uxTk1ZQhsn9q"
      },
      "source": [
        "### Support Vector Classifier"
      ]
    },
    {
      "cell_type": "code",
      "execution_count": 77,
      "metadata": {
        "colab": {
          "base_uri": "https://localhost:8080/"
        },
        "id": "nVt3SmI5sn9r",
        "outputId": "959767a9-a246-40d1-a51b-9a3be4c81d49"
      },
      "outputs": [
        {
          "output_type": "stream",
          "name": "stdout",
          "text": [
            "Accuracy on training data is: 0.7940394275824222\n",
            "Accuracy is: 0.8007766334627723\n",
            "Precision is: 0.6412432166999712\n",
            "Recall is: 0.8007766334627723\n",
            "f1 score is: 0.7121851814202005\n"
          ]
        },
        {
          "output_type": "stream",
          "name": "stderr",
          "text": [
            "/usr/local/lib/python3.7/dist-packages/sklearn/metrics/_classification.py:1318: UndefinedMetricWarning: Precision is ill-defined and being set to 0.0 in labels with no predicted samples. Use `zero_division` parameter to control this behavior.\n",
            "  _warn_prf(average, modifier, msg_start, len(result))\n",
            "/usr/local/lib/python3.7/dist-packages/sklearn/metrics/_classification.py:1318: UndefinedMetricWarning: Precision and F-score are ill-defined and being set to 0.0 in labels with no predicted samples. Use `zero_division` parameter to control this behavior.\n",
            "  _warn_prf(average, modifier, msg_start, len(result))\n"
          ]
        },
        {
          "output_type": "stream",
          "name": "stdout",
          "text": [
            "              precision    recall  f1-score   support\n",
            "\n",
            "       <=50K       0.80      1.00      0.89      4743\n",
            "        >50K       0.00      0.00      0.00      1180\n",
            "\n",
            "    accuracy                           0.80      5923\n",
            "   macro avg       0.40      0.50      0.44      5923\n",
            "weighted avg       0.64      0.80      0.71      5923\n",
            "\n",
            "[[4743    0]\n",
            " [1180    0]]\n"
          ]
        },
        {
          "output_type": "stream",
          "name": "stderr",
          "text": [
            "/usr/local/lib/python3.7/dist-packages/sklearn/metrics/_classification.py:1318: UndefinedMetricWarning: Precision and F-score are ill-defined and being set to 0.0 in labels with no predicted samples. Use `zero_division` parameter to control this behavior.\n",
            "  _warn_prf(average, modifier, msg_start, len(result))\n",
            "/usr/local/lib/python3.7/dist-packages/sklearn/metrics/_classification.py:1318: UndefinedMetricWarning: Precision and F-score are ill-defined and being set to 0.0 in labels with no predicted samples. Use `zero_division` parameter to control this behavior.\n",
            "  _warn_prf(average, modifier, msg_start, len(result))\n"
          ]
        }
      ],
      "source": [
        "from sklearn.svm import SVC\n",
        "svc=SVC(kernel='linear')\n",
        "svc.fit(x_train,y_train)\n",
        "y_pred=svc.predict(x_test)\n",
        "print('Accuracy on training data is:',svc.score(x_train,y_train))\n",
        "print('Accuracy is:',accuracy_score(y_test,y_pred))\n",
        "print('Precision is:',precision_score(y_test,y_pred,average='weighted'))\n",
        "print('Recall is:',recall_score(y_test,y_pred,average='weighted'))\n",
        "print('f1 score is:',f1_score(y_test,y_pred,average='weighted'))\n",
        "print(classification_report(y_test,y_pred))\n",
        "print(confusion_matrix(y_test,y_pred))"
      ]
    },
    {
      "cell_type": "markdown",
      "metadata": {
        "id": "zKpiJDzhsn9r"
      },
      "source": [
        "### Decision Tree Classifier"
      ]
    },
    {
      "cell_type": "code",
      "execution_count": 78,
      "metadata": {
        "colab": {
          "base_uri": "https://localhost:8080/"
        },
        "id": "iJAiPQSssn9r",
        "outputId": "ed4d0c09-77d4-4b48-f717-ae806a0490c5"
      },
      "outputs": [
        {
          "output_type": "stream",
          "name": "stdout",
          "text": [
            "Accuracy on training data is: 0.9549157836970746\n",
            "Accuracy is: 0.7935167989194665\n",
            "Precision is: 0.7892880228881718\n",
            "Recall is: 0.7935167989194665\n",
            "f1 score is: 0.7912953628231054\n",
            "              precision    recall  f1-score   support\n",
            "\n",
            "       <=50K       0.87      0.88      0.87      4743\n",
            "        >50K       0.48      0.45      0.47      1180\n",
            "\n",
            "    accuracy                           0.79      5923\n",
            "   macro avg       0.67      0.67      0.67      5923\n",
            "weighted avg       0.79      0.79      0.79      5923\n",
            "\n",
            "[[4164  579]\n",
            " [ 644  536]]\n"
          ]
        }
      ],
      "source": [
        "from sklearn.tree import DecisionTreeClassifier\n",
        "dt_model=DecisionTreeClassifier()\n",
        "dt_model.fit(x_train,y_train)\n",
        "y_pred=dt_model.predict(x_test)\n",
        "print('Accuracy on training data is:',dt_model.score(x_train,y_train))\n",
        "print('Accuracy is:',accuracy_score(y_test,y_pred))\n",
        "print('Precision is:',precision_score(y_test,y_pred,average='weighted'))\n",
        "print('Recall is:',recall_score(y_test,y_pred,average='weighted'))\n",
        "print('f1 score is:',f1_score(y_test,y_pred,average='weighted'))\n",
        "print(classification_report(y_test,y_pred))\n",
        "print(confusion_matrix(y_test,y_pred))"
      ]
    },
    {
      "cell_type": "markdown",
      "metadata": {
        "id": "-KOvZKugsn9s"
      },
      "source": [
        "### KNN Model"
      ]
    },
    {
      "cell_type": "code",
      "execution_count": 79,
      "metadata": {
        "id": "nisr76yzsn9s"
      },
      "outputs": [],
      "source": [
        "from sklearn.neighbors import KNeighborsClassifier\n",
        "acc_values=[]\n",
        "n_neighbors=np.arange(2,18)\n",
        "for i in n_neighbors:\n",
        "  knn_model=KNeighborsClassifier(n_neighbors=i,metric='minkowski')\n",
        "  knn_model.fit(x_train,y_train)\n",
        "  y_pred=knn_model.predict(x_test)\n",
        "  acc=accuracy_score(y_test,y_pred)\n",
        "  acc_values.append(acc)"
      ]
    },
    {
      "cell_type": "code",
      "execution_count": 80,
      "metadata": {
        "colab": {
          "base_uri": "https://localhost:8080/",
          "height": 296
        },
        "id": "lM0z9PYzsn9t",
        "outputId": "8aa47401-4c75-43ea-a287-b9ba6ccde859"
      },
      "outputs": [
        {
          "output_type": "execute_result",
          "data": {
            "text/plain": [
              "Text(0, 0.5, 'Accuracy values')"
            ]
          },
          "metadata": {},
          "execution_count": 80
        },
        {
          "output_type": "display_data",
          "data": {
            "text/plain": [
              "<Figure size 432x288 with 1 Axes>"
            ],
            "image/png": "[encoded data removed]"
          },
          "metadata": {
            "needs_background": "light"
          }
        }
      ],
      "source": [
        "plt.plot(n_neighbors,acc_values,'o-')\n",
        "plt.xlabel('Number of Neighbors')\n",
        "plt.ylabel('Accuracy values')"
      ]
    },
    {
      "cell_type": "code",
      "execution_count": 81,
      "metadata": {
        "colab": {
          "base_uri": "https://localhost:8080/"
        },
        "id": "mbbARdfisn9u",
        "outputId": "10f87100-f9ec-49bb-d78a-4815bdbf7c16"
      },
      "outputs": [
        {
          "output_type": "stream",
          "name": "stdout",
          "text": [
            "Accuracy on training data is: 0.8632276584068556\n",
            "Accuracy is: 0.8217119702853284\n",
            "Precision is: 0.8114455291676953\n",
            "Recall is: 0.8217119702853284\n",
            "f1 score is: 0.8154425375400783\n",
            "              precision    recall  f1-score   support\n",
            "\n",
            "       <=50K       0.87      0.91      0.89      4743\n",
            "        >50K       0.56      0.47      0.51      1180\n",
            "\n",
            "    accuracy                           0.82      5923\n",
            "   macro avg       0.72      0.69      0.70      5923\n",
            "weighted avg       0.81      0.82      0.82      5923\n",
            "\n",
            "[[4313  430]\n",
            " [ 626  554]]\n"
          ]
        }
      ],
      "source": [
        "knn_model=KNeighborsClassifier(n_neighbors=7,metric='minkowski')\n",
        "knn_model.fit(x_train,y_train)\n",
        "y_pred=knn_model.predict(x_test)\n",
        "print('Accuracy on training data is:',knn_model.score(x_train,y_train))\n",
        "print('Accuracy is:',accuracy_score(y_test,y_pred))\n",
        "print('Precision is:',precision_score(y_test,y_pred,average='weighted'))\n",
        "print('Recall is:',recall_score(y_test,y_pred,average='weighted'))\n",
        "print('f1 score is:',f1_score(y_test,y_pred,average='weighted'))\n",
        "print(classification_report(y_test,y_pred))\n",
        "print(confusion_matrix(y_test,y_pred))"
      ]
    },
    {
      "cell_type": "markdown",
      "metadata": {
        "id": "IIG5m7Tvsn9v"
      },
      "source": [
        "### Random Forest Classifier"
      ]
    },
    {
      "cell_type": "code",
      "execution_count": 82,
      "metadata": {
        "colab": {
          "base_uri": "https://localhost:8080/"
        },
        "id": "3qCqrgdMsn9v",
        "outputId": "078fb4d3-76ff-43ff-a0c9-7ce9ee0c9942"
      },
      "outputs": [
        {
          "output_type": "stream",
          "name": "stdout",
          "text": [
            "Accuracy on training data is: 0.9548313563257208\n",
            "Accuracy is: 0.8210366368394395\n",
            "Precision is: 0.8126796067624947\n",
            "Recall is: 0.8210366368394395\n",
            "f1 score is: 0.8161508311375681\n",
            "              precision    recall  f1-score   support\n",
            "\n",
            "       <=50K       0.88      0.90      0.89      4743\n",
            "        >50K       0.56      0.48      0.52      1180\n",
            "\n",
            "    accuracy                           0.82      5923\n",
            "   macro avg       0.72      0.69      0.70      5923\n",
            "weighted avg       0.81      0.82      0.82      5923\n",
            "\n",
            "[[4291  452]\n",
            " [ 608  572]]\n"
          ]
        }
      ],
      "source": [
        "from sklearn.ensemble import RandomForestClassifier\n",
        "rf_model=RandomForestClassifier()\n",
        "rf_model.fit(x_train,y_train)\n",
        "y_pred=rf_model.predict(x_test)\n",
        "print('Accuracy on training data is:',rf_model.score(x_train,y_train))\n",
        "print('Accuracy is:',accuracy_score(y_test,y_pred))\n",
        "print('Precision is:',precision_score(y_test,y_pred,average='weighted'))\n",
        "print('Recall is:',recall_score(y_test,y_pred,average='weighted'))\n",
        "print('f1 score is:',f1_score(y_test,y_pred,average='weighted'))\n",
        "print(classification_report(y_test,y_pred))\n",
        "print(confusion_matrix(y_test,y_pred))"
      ]
    },
    {
      "cell_type": "markdown",
      "metadata": {
        "id": "p3mxoWp-sn9w"
      },
      "source": [
        "# Gradient Boosting"
      ]
    },
    {
      "cell_type": "code",
      "execution_count": 83,
      "metadata": {
        "colab": {
          "base_uri": "https://localhost:8080/"
        },
        "id": "HHUWF_zSsn9w",
        "outputId": "eb9c832a-d4ad-4728-d483-ddd0dcf69d38"
      },
      "outputs": [
        {
          "output_type": "stream",
          "name": "stdout",
          "text": [
            "Accuracy on training data is: 0.9548313563257208\n",
            "Accuracy is: 0.8450109741684957\n",
            "Precision is: 0.8324097124224497\n",
            "Recall is: 0.8450109741684957\n",
            "f1 score is: 0.8347231367088387\n",
            "              precision    recall  f1-score   support\n",
            "\n",
            "       <=50K       0.88      0.94      0.91      4743\n",
            "        >50K       0.66      0.47      0.55      1180\n",
            "\n",
            "    accuracy                           0.85      5923\n",
            "   macro avg       0.77      0.70      0.73      5923\n",
            "weighted avg       0.83      0.85      0.83      5923\n",
            "\n",
            "[[4453  290]\n",
            " [ 628  552]]\n"
          ]
        }
      ],
      "source": [
        "from sklearn.ensemble import GradientBoostingClassifier\n",
        "gb = GradientBoostingClassifier()\n",
        "gb.fit(x_train,y_train)\n",
        "y_pred = gb.predict(x_test)\n",
        "print('Accuracy on training data is:',rf_model.score(x_train,y_train))\n",
        "print('Accuracy is:',accuracy_score(y_test,y_pred))\n",
        "print('Precision is:',precision_score(y_test,y_pred,average='weighted'))\n",
        "print('Recall is:',recall_score(y_test,y_pred,average='weighted'))\n",
        "print('f1 score is:',f1_score(y_test,y_pred,average='weighted'))\n",
        "print(classification_report(y_test,y_pred))\n",
        "print(confusion_matrix(y_test,y_pred))"
      ]
    },
    {
      "cell_type": "markdown",
      "metadata": {
        "id": "oXPlDZgesn9x"
      },
      "source": [
        "### Naive Bayes"
      ]
    },
    {
      "cell_type": "code",
      "execution_count": 84,
      "metadata": {
        "colab": {
          "base_uri": "https://localhost:8080/"
        },
        "id": "NLydM5mvsn9x",
        "outputId": "c7f14d0c-64cc-4eab-83ae-81a69bf9cd9b"
      },
      "outputs": [
        {
          "output_type": "stream",
          "name": "stdout",
          "text": [
            "Accuracy on training data is: 0.9548313563257208\n",
            "Accuracy is: 0.7145027857504643\n",
            "Precision is: 0.8212914025004998\n",
            "Recall is: 0.7145027857504643\n",
            "f1 score is: 0.7417986693832939\n",
            "              precision    recall  f1-score   support\n",
            "\n",
            "       <=50K       0.93      0.70      0.80      4743\n",
            "        >50K       0.39      0.78      0.52      1180\n",
            "\n",
            "    accuracy                           0.71      5923\n",
            "   macro avg       0.66      0.74      0.66      5923\n",
            "weighted avg       0.82      0.71      0.74      5923\n",
            "\n",
            "[[3308 1435]\n",
            " [ 256  924]]\n"
          ]
        }
      ],
      "source": [
        "from sklearn.naive_bayes import GaussianNB\n",
        "#Create a Gaussian Classifier\n",
        "model = GaussianNB()\n",
        "gnb = model.fit(x_train,y_train)\n",
        "y_pred = gnb.predict(x_test)\n",
        "print('Accuracy on training data is:',rf_model.score(x_train,y_train))\n",
        "print('Accuracy is:',accuracy_score(y_test,y_pred))\n",
        "print('Precision is:',precision_score(y_test,y_pred,average='weighted'))\n",
        "print('Recall is:',recall_score(y_test,y_pred,average='weighted'))\n",
        "print('f1 score is:',f1_score(y_test,y_pred,average='weighted'))\n",
        "print(classification_report(y_test,y_pred))\n",
        "print(confusion_matrix(y_test,y_pred))"
      ]
    },
    {
      "cell_type": "code",
      "source": [
        "from sklearn.ensemble import GradientBoostingClassifier\n",
        "clf = GradientBoostingClassifier(n_estimators=100, learning_rate=1.0, max_depth=1, random_state=0).fit(x_train, y_train)\n",
        "clf.score(x_test, y_test)"
      ],
      "metadata": {
        "colab": {
          "base_uri": "https://localhost:8080/"
        },
        "id": "3vC6WvPvddku",
        "outputId": "e0b0d943-0b3f-43dd-a943-f1055ee30f96"
      },
      "execution_count": 85,
      "outputs": [
        {
          "output_type": "execute_result",
          "data": {
            "text/plain": [
              "0.8429849738308289"
            ]
          },
          "metadata": {},
          "execution_count": 85
        }
      ]
    },
    {
      "cell_type": "markdown",
      "metadata": {
        "id": "F2N25f1Psn9y"
      },
      "source": [
        "**As seen in the  graph, there is a class imbalance problem. Models do not fit well when there is a class imbalance. There are some methods like oversampling, undersampling and mixture. I will do class oversampling using SMOTE(Synthetic Minority Oversampling Technique). It creates new samples along the lines of the existing samples.**"
      ]
    },
    {
      "cell_type": "markdown",
      "source": [
        "##Sampling"
      ],
      "metadata": {
        "id": "V39qhgWxkVEN"
      }
    },
    {
      "cell_type": "code",
      "source": [
        ""
      ],
      "metadata": {
        "id": "Hci19ZdbkT0B"
      },
      "execution_count": 87,
      "outputs": []
    },
    {
      "cell_type": "code",
      "execution_count": 87,
      "metadata": {
        "id": "HEzrHCYzsn9y"
      },
      "outputs": [],
      "source": [
        ""
      ]
    },
    {
      "cell_type": "code",
      "execution_count": 86,
      "metadata": {
        "scrolled": false,
        "id": "IiQJh64Lsn9z"
      },
      "outputs": [],
      "source": [
        "from imblearn.over_sampling import SMOTE"
      ]
    },
    {
      "cell_type": "code",
      "source": [
        "oversample=SMOTE()\n",
        "x,y=oversample.fit_resample(df1,target_salary)\n",
        "counter=Counter(y)\n",
        "print(counter)"
      ],
      "metadata": {
        "colab": {
          "base_uri": "https://localhost:8080/"
        },
        "id": "k6b4DXJ-gpWA",
        "outputId": "d2a478fd-96fe-4995-f201-e0b2548ca298"
      },
      "execution_count": 87,
      "outputs": [
        {
          "output_type": "stream",
          "name": "stdout",
          "text": [
            "Counter({'<=50K': 23553, '>50K': 23553})\n"
          ]
        }
      ]
    },
    {
      "cell_type": "code",
      "source": [
        ""
      ],
      "metadata": {
        "id": "pDsZHZAKhHhg"
      },
      "execution_count": 89,
      "outputs": []
    },
    {
      "cell_type": "code",
      "execution_count": 88,
      "metadata": {
        "colab": {
          "base_uri": "https://localhost:8080/",
          "height": 282
        },
        "id": "iH3uKAxcJj3l",
        "outputId": "cac8b76a-cc3d-4383-910b-159af8bd73e3"
      },
      "outputs": [
        {
          "output_type": "execute_result",
          "data": {
            "text/plain": [
              "<BarContainer object of 2 artists>"
            ]
          },
          "metadata": {},
          "execution_count": 88
        },
        {
          "output_type": "display_data",
          "data": {
            "text/plain": [
              "<Figure size 432x288 with 1 Axes>"
            ],
            "image/png": "[encoded data removed]"
          },
          "metadata": {
            "needs_background": "light"
          }
        }
      ],
      "source": [
        "plt.bar(counter.keys(),counter.values())"
      ]
    },
    {
      "cell_type": "code",
      "source": [
        "#Standardisation\n",
        "scale=StandardScaler()\n",
        "X=scale.fit_transform(x)"
      ],
      "metadata": {
        "id": "r96ZJ3o-hSFo"
      },
      "execution_count": 89,
      "outputs": []
    },
    {
      "cell_type": "code",
      "execution_count": 90,
      "metadata": {
        "id": "YMN-H8GBsn90"
      },
      "outputs": [],
      "source": [
        "X_train, X_test, Y_train, Y_test = train_test_split(X, y, test_size=0.2, random_state=24) # 80% training and 20% test\n",
        "\n",
        "\n"
      ]
    },
    {
      "cell_type": "markdown",
      "source": [
        "##Logistic Regression"
      ],
      "metadata": {
        "id": "pAiCFspXkyQn"
      }
    },
    {
      "cell_type": "code",
      "source": [
        "logmodel = LogisticRegression()\n",
        "logmodel.fit(X_train, Y_train)\n",
        "logmodel.score(X_test,Y_test)\n"
      ],
      "metadata": {
        "colab": {
          "base_uri": "https://localhost:8080/"
        },
        "id": "b1vAee8xe5mP",
        "outputId": "4022064d-8bd9-4586-c9dd-66308199c8bb"
      },
      "execution_count": 91,
      "outputs": [
        {
          "output_type": "execute_result",
          "data": {
            "text/plain": [
              "0.7961154744215665"
            ]
          },
          "metadata": {},
          "execution_count": 91
        }
      ]
    },
    {
      "cell_type": "code",
      "source": [
        ""
      ],
      "metadata": {
        "id": "3Y7JOLlbh_ck"
      },
      "execution_count": 93,
      "outputs": []
    },
    {
      "cell_type": "markdown",
      "source": [
        "##SVM"
      ],
      "metadata": {
        "id": "bhqLE1Yth_45"
      }
    },
    {
      "cell_type": "code",
      "source": [
        "from sklearn.svm import SVC\n",
        "svc=SVC(kernel='linear')\n",
        "svc.fit(X_train,Y_train)\n",
        "Y_pred=svc.predict(X_test)\n",
        "print('Accuracy on training data is:',svc.score(X_train,Y_train))\n",
        "print('Accuracy is:',accuracy_score(Y_test,Y_pred))\n",
        "print('Precision is:',precision_score(Y_test,Y_pred,average='weighted'))\n",
        "print('Recall is:',recall_score(Y_test,Y_pred,average='weighted'))\n",
        "print('f1 score is:',f1_score(Y_test,Y_pred,average='weighted'))\n",
        "print(classification_report(Y_test,Y_pred))\n",
        "print(confusion_matrix(Y_test,Y_pred))"
      ],
      "metadata": {
        "colab": {
          "base_uri": "https://localhost:8080/"
        },
        "id": "5pDZtFmOh5w1",
        "outputId": "db57d3e7-51c0-4a4b-a02e-18a67fd49c69"
      },
      "execution_count": 92,
      "outputs": [
        {
          "output_type": "stream",
          "name": "stdout",
          "text": [
            "Accuracy on training data is: 0.7977125570533914\n",
            "Accuracy is: 0.7898535342814689\n",
            "Precision is: 0.8242280062204581\n",
            "Recall is: 0.7898535342814689\n",
            "f1 score is: 0.7843029723827173\n",
            "              precision    recall  f1-score   support\n",
            "\n",
            "       <=50K       0.93      0.63      0.75      4729\n",
            "        >50K       0.72      0.95      0.82      4693\n",
            "\n",
            "    accuracy                           0.79      9422\n",
            "   macro avg       0.82      0.79      0.78      9422\n",
            "weighted avg       0.82      0.79      0.78      9422\n",
            "\n",
            "[[2974 1755]\n",
            " [ 225 4468]]\n"
          ]
        }
      ]
    },
    {
      "cell_type": "code",
      "source": [
        ""
      ],
      "metadata": {
        "id": "xh9Lhekli4t4"
      },
      "execution_count": 94,
      "outputs": []
    },
    {
      "cell_type": "markdown",
      "metadata": {
        "id": "2nNk5nSwjkzr"
      },
      "source": [
        "### Decision Tree Classifier"
      ]
    },
    {
      "cell_type": "code",
      "source": [
        "dt_model=DecisionTreeClassifier()\n",
        "dt_model.fit(X_train,Y_train)\n",
        "Y_pred=dt_model.predict(X_test)\n",
        "print('Accuracy on training data is:',svc.score(X_train,Y_train))\n",
        "print('Accuracy is:',accuracy_score(Y_test,Y_pred))\n",
        "print('Precision is:',precision_score(Y_test,Y_pred,average='weighted'))\n",
        "print('Recall is:',recall_score(Y_test,Y_pred,average='weighted'))\n",
        "print('f1 score is:',f1_score(Y_test,Y_pred,average='weighted'))\n",
        "print(classification_report(Y_test,Y_pred))\n",
        "print(confusion_matrix(Y_test,Y_pred))"
      ],
      "metadata": {
        "colab": {
          "base_uri": "https://localhost:8080/"
        },
        "id": "mUbnJuSBjsur",
        "outputId": "871746a2-a89e-4e95-d0f6-182bfad2c66d"
      },
      "execution_count": 93,
      "outputs": [
        {
          "output_type": "stream",
          "name": "stdout",
          "text": [
            "Accuracy on training data is: 0.7977125570533914\n",
            "Accuracy is: 0.8462109955423477\n",
            "Precision is: 0.8475360403179768\n",
            "Recall is: 0.8462109955423477\n",
            "f1 score is: 0.8460861126287426\n",
            "              precision    recall  f1-score   support\n",
            "\n",
            "       <=50K       0.87      0.82      0.84      4729\n",
            "        >50K       0.83      0.88      0.85      4693\n",
            "\n",
            "    accuracy                           0.85      9422\n",
            "   macro avg       0.85      0.85      0.85      9422\n",
            "weighted avg       0.85      0.85      0.85      9422\n",
            "\n",
            "[[3861  868]\n",
            " [ 581 4112]]\n"
          ]
        }
      ]
    },
    {
      "cell_type": "markdown",
      "source": [
        "##KNN"
      ],
      "metadata": {
        "id": "TmZC1TDdk8YJ"
      }
    },
    {
      "cell_type": "code",
      "source": [
        "from sklearn.neighbors import KNeighborsClassifier\n",
        "acc_values=[]\n",
        "n_neighbors=np.arange(2,18)\n",
        "for i in n_neighbors:\n",
        "  knn_model=KNeighborsClassifier(n_neighbors=i,metric='minkowski')\n",
        "  knn_model.fit(X_train,Y_train)\n",
        "  Y_pred=knn_model.predict(X_test)\n",
        "  acc=accuracy_score(Y_test,Y_pred)\n",
        "  acc_values.append(acc)"
      ],
      "metadata": {
        "id": "T9qzxW9jk63e"
      },
      "execution_count": 94,
      "outputs": []
    },
    {
      "cell_type": "code",
      "source": [
        "plt.plot(n_neighbors,acc_values,'o-')\n",
        "plt.xlabel('Number of Neighbors')\n",
        "plt.ylabel('Accuracy values')"
      ],
      "metadata": {
        "colab": {
          "base_uri": "https://localhost:8080/",
          "height": 296
        },
        "id": "Oyv-SKcilX4W",
        "outputId": "df128ec6-d595-4b58-c503-d6101e4b2ab9"
      },
      "execution_count": 95,
      "outputs": [
        {
          "output_type": "execute_result",
          "data": {
            "text/plain": [
              "Text(0, 0.5, 'Accuracy values')"
            ]
          },
          "metadata": {},
          "execution_count": 95
        },
        {
          "output_type": "display_data",
          "data": {
            "text/plain": [
              "<Figure size 432x288 with 1 Axes>"
            ],
            "image/png": "[encoded data removed]"
          },
          "metadata": {
            "needs_background": "light"
          }
        }
      ]
    },
    {
      "cell_type": "code",
      "source": [
        "knn_model=KNeighborsClassifier(n_neighbors=3,metric='minkowski')\n",
        "knn_model.fit(X_train,Y_train)\n",
        "Y_pred=knn_model.predict(X_test)\n",
        "print('Accuracy on training data is:',knn_model.score(X_train,Y_train))\n",
        "print('Accuracy is:',accuracy_score(Y_test,Y_pred))\n",
        "print('Precision is:',precision_score(Y_test,Y_pred,average='weighted'))\n",
        "print('Recall is:',recall_score(Y_test,Y_pred,average='weighted'))\n",
        "print('f1 score is:',f1_score(Y_test,Y_pred,average='weighted'))\n",
        "print(classification_report(Y_test,Y_pred))\n",
        "print(confusion_matrix(Y_test,Y_pred))"
      ],
      "metadata": {
        "colab": {
          "base_uri": "https://localhost:8080/"
        },
        "id": "TWgWOfmulc5h",
        "outputId": "a871b667-b1e0-431c-f6e8-4fc3b0d042a7"
      },
      "execution_count": 96,
      "outputs": [
        {
          "output_type": "stream",
          "name": "stdout",
          "text": [
            "Accuracy on training data is: 0.9015231928669992\n",
            "Accuracy is: 0.8433453619189132\n",
            "Precision is: 0.8457384147875769\n",
            "Recall is: 0.8433453619189132\n",
            "f1 score is: 0.8431040170750499\n",
            "              precision    recall  f1-score   support\n",
            "\n",
            "       <=50K       0.87      0.80      0.84      4729\n",
            "        >50K       0.82      0.88      0.85      4693\n",
            "\n",
            "    accuracy                           0.84      9422\n",
            "   macro avg       0.85      0.84      0.84      9422\n",
            "weighted avg       0.85      0.84      0.84      9422\n",
            "\n",
            "[[3797  932]\n",
            " [ 544 4149]]\n"
          ]
        }
      ]
    },
    {
      "cell_type": "markdown",
      "source": [
        "##RANDOM FOREST"
      ],
      "metadata": {
        "id": "dru9oTrYk_02"
      }
    },
    {
      "cell_type": "code",
      "source": [
        "rf_model=RandomForestClassifier()\n",
        "rf_model.fit(X_train,Y_train)\n",
        "Y_pred=rf_model.predict(X_test)\n",
        "print('Accuracy on training data is:',rf_model.score(X_train,Y_train))\n",
        "print('Accuracy is:',accuracy_score(Y_test,Y_pred))\n",
        "print('Precision is:',precision_score(Y_test,Y_pred,average='weighted'))\n",
        "print('Recall is:',recall_score(Y_test,Y_pred,average='weighted'))\n",
        "print('f1 score is:',f1_score(Y_test,Y_pred,average='weighted'))\n",
        "print(classification_report(Y_test,Y_pred))\n",
        "print(confusion_matrix(Y_test,Y_pred))"
      ],
      "metadata": {
        "colab": {
          "base_uri": "https://localhost:8080/"
        },
        "id": "mRNGHen0lDub",
        "outputId": "d4fdc0e9-4f4b-478e-8627-17226fd45bb8"
      },
      "execution_count": 97,
      "outputs": [
        {
          "output_type": "stream",
          "name": "stdout",
          "text": [
            "Accuracy on training data is: 0.9510667657361215\n",
            "Accuracy is: 0.8646784122267035\n",
            "Precision is: 0.8670187725446571\n",
            "Recall is: 0.8646784122267035\n",
            "f1 score is: 0.8644865561461845\n",
            "              precision    recall  f1-score   support\n",
            "\n",
            "       <=50K       0.90      0.83      0.86      4729\n",
            "        >50K       0.84      0.90      0.87      4693\n",
            "\n",
            "    accuracy                           0.86      9422\n",
            "   macro avg       0.87      0.86      0.86      9422\n",
            "weighted avg       0.87      0.86      0.86      9422\n",
            "\n",
            "[[3905  824]\n",
            " [ 451 4242]]\n"
          ]
        }
      ]
    },
    {
      "cell_type": "markdown",
      "source": [
        "##GRADIENT BOOSTING"
      ],
      "metadata": {
        "id": "iEDCc2pZlLDM"
      }
    },
    {
      "cell_type": "code",
      "source": [
        "gb = GradientBoostingClassifier()\n",
        "gb.fit(X_train,Y_train)\n",
        "Y_pred = gb.predict(X_test)\n",
        "print('Accuracy on training data is:',rf_model.score(X_train,Y_train))\n",
        "print('Accuracy is:',accuracy_score(Y_test,Y_pred))\n",
        "print('Precision is:',precision_score(Y_test,Y_pred,average='weighted'))\n",
        "print('Recall is:',recall_score(Y_test,Y_pred,average='weighted'))\n",
        "print('f1 score is:',f1_score(Y_test,Y_pred,average='weighted'))\n",
        "print(classification_report(Y_test,Y_pred))\n",
        "print(confusion_matrix(Y_test,Y_pred))"
      ],
      "metadata": {
        "colab": {
          "base_uri": "https://localhost:8080/"
        },
        "id": "FCC1oflYlpMj",
        "outputId": "f5c3399a-2a70-44fe-c206-720c32392eb1"
      },
      "execution_count": 98,
      "outputs": [
        {
          "output_type": "stream",
          "name": "stdout",
          "text": [
            "Accuracy on training data is: 0.9510667657361215\n",
            "Accuracy is: 0.8319889620038209\n",
            "Precision is: 0.8371559420323927\n",
            "Recall is: 0.8319889620038209\n",
            "f1 score is: 0.8313919612915871\n",
            "              precision    recall  f1-score   support\n",
            "\n",
            "       <=50K       0.88      0.77      0.82      4729\n",
            "        >50K       0.79      0.89      0.84      4693\n",
            "\n",
            "    accuracy                           0.83      9422\n",
            "   macro avg       0.84      0.83      0.83      9422\n",
            "weighted avg       0.84      0.83      0.83      9422\n",
            "\n",
            "[[3648 1081]\n",
            " [ 502 4191]]\n"
          ]
        }
      ]
    },
    {
      "cell_type": "code",
      "source": [
        "from sklearn.ensemble import GradientBoostingClassifier\n",
        "clf = GradientBoostingClassifier(n_estimators=100, learning_rate=1.0, max_depth=1, random_state=0).fit(X_train, Y_train)\n",
        "clf.score(X_test, Y_test)"
      ],
      "metadata": {
        "colab": {
          "base_uri": "https://localhost:8080/"
        },
        "id": "rjiowT5dpn7b",
        "outputId": "8f98dd9f-09b4-4e5f-b543-54d720ccff7f"
      },
      "execution_count": 99,
      "outputs": [
        {
          "output_type": "execute_result",
          "data": {
            "text/plain": [
              "0.8299724050095522"
            ]
          },
          "metadata": {},
          "execution_count": 99
        }
      ]
    },
    {
      "cell_type": "markdown",
      "source": [
        "##Model prediction Accuracy table"
      ],
      "metadata": {
        "id": "z6X5Ym_uvLhe"
      }
    },
    {
      "cell_type": "code",
      "source": [
        "from tabulate import tabulate"
      ],
      "metadata": {
        "id": "Tduo7KplvOxx"
      },
      "execution_count": 101,
      "outputs": []
    },
    {
      "cell_type": "code",
      "source": [
        "table = [['Model', 'Accuracy'], ['Logistic Regression',79.61], ['KNN',84.62],['Decision tree',84.22],['Random Forest',86.46],['Gradient Boost',83.198],['SVM',79.8]]\n",
        "print(tabulate(table,headers='firstrow',tablefmt='fancy_grid'))"
      ],
      "metadata": {
        "colab": {
          "base_uri": "https://localhost:8080/"
        },
        "id": "iDrcEnKwva7z",
        "outputId": "4ce2c93b-4b80-4677-d1dc-58cfce49892b"
      },
      "execution_count": 102,
      "outputs": [
        {
          "output_type": "stream",
          "name": "stdout",
          "text": [
            "╒═════════════════════╤════════════╕\n",
            "│ Model               │   Accuracy │\n",
            "╞═════════════════════╪════════════╡\n",
            "│ Logistic Regression │     79.61  │\n",
            "├─────────────────────┼────────────┤\n",
            "│ KNN                 │     84.62  │\n",
            "├─────────────────────┼────────────┤\n",
            "│ Decision tree       │     84.22  │\n",
            "├─────────────────────┼────────────┤\n",
            "│ Random Forest       │     86.46  │\n",
            "├─────────────────────┼────────────┤\n",
            "│ Gradient Boost      │     83.198 │\n",
            "├─────────────────────┼────────────┤\n",
            "│ SVM                 │     79.8   │\n",
            "╘═════════════════════╧════════════╛\n"
          ]
        }
      ]
    },
    {
      "cell_type": "markdown",
      "source": [
        "##HyperParameter Tuning"
      ],
      "metadata": {
        "id": "Bdd0DyUivSrf"
      }
    },
    {
      "cell_type": "markdown",
      "source": [
        "###Logistic Regression"
      ],
      "metadata": {
        "id": "jf9u9EGDvb1h"
      }
    },
    {
      "cell_type": "code",
      "source": [
        "from sklearn.model_selection import GridSearchCV\n",
        "  \n",
        "# Creating the hyperparameter grid\n",
        "\n",
        "param_grid = {'C': [1,10,100,1000]}\n",
        "  \n",
        "# Instantiating logistic regression classifier\n",
        "logreg = LogisticRegression()\n",
        "  \n",
        "# Instantiating the GridSearchCV object\n",
        "logreg_cv = GridSearchCV(logreg, param_grid, cv = 5)\n",
        "  \n",
        "logreg_cv.fit(X_train, Y_train)\n",
        "logreg_cv.predict(X_test)\n",
        "\n",
        "# Print the tuned parameters and score\n",
        "print(\"Tuned Logistic Regression Parameters: {}\".format(logreg_cv.best_params_)) \n",
        "print(\"Best score is {}\".format(logreg_cv.best_score_))"
      ],
      "metadata": {
        "colab": {
          "base_uri": "https://localhost:8080/"
        },
        "id": "3eDw6Ewfp0F8",
        "outputId": "1cd2bcec-5ae7-4281-dbf2-003d7b0b2dcb"
      },
      "execution_count": 103,
      "outputs": [
        {
          "output_type": "stream",
          "name": "stdout",
          "text": [
            "Tuned Logistic Regression Parameters: {'C': 1}\n",
            "Best score is 0.8001804966693682\n"
          ]
        }
      ]
    },
    {
      "cell_type": "markdown",
      "source": [
        "###SVM"
      ],
      "metadata": {
        "id": "CISZt5ytxYhD"
      }
    },
    {
      "cell_type": "code",
      "source": [
        "from sklearn.model_selection import GridSearchCV\n",
        "  \n",
        "# Creating the hyperparameter grid\n",
        "\n",
        "param_grid = {'C': [1,10,100,1000]}\n",
        "  \n",
        "# Instantiating logistic regression classifier\n",
        "svm_clf = SVC()\n",
        "  \n",
        "# Instantiating the GridSearchCV object\n",
        "svm_cv = GridSearchCV(svm_clf, param_grid, cv = 5)\n",
        "  \n",
        "svm_cv.fit(X_train, Y_train)\n",
        "svm_cv.predict(X_test)\n",
        "\n",
        "# Print the tuned parameters and score\n",
        "#print(\"Tuned SVM Parameters: {}\".format(logreg_cv.best_params_)) \n",
        "#print(\"Best score is {}\".format(logreg_cv.best_score_))"
      ],
      "metadata": {
        "id": "jeogRXKavtYd",
        "colab": {
          "base_uri": "https://localhost:8080/"
        },
        "outputId": "03e45480-b059-4eb8-ff96-a671824e6be6"
      },
      "execution_count": 103,
      "outputs": [
        {
          "output_type": "stream",
          "name": "stdout",
          "text": [
            "Tuned SVM Parameters: {'C': 1}\n",
            "Best score is 0.801480706504669\n"
          ]
        }
      ]
    },
    {
      "cell_type": "code",
      "source": [
        "#Print the tuned parameters and score\n",
        "print(\"Tuned SVM Parameters: {}\".format(svm_cv.best_params_)) \n",
        "print(\"Best score is {}\".format(svm_cv.best_score_))"
      ],
      "metadata": {
        "id": "PG7lvU0_W8pR"
      },
      "execution_count": null,
      "outputs": []
    },
    {
      "cell_type": "markdown",
      "source": [
        "Hyperparameter tuning using GridSearchCV with more parameters"
      ],
      "metadata": {
        "id": "3AUcFQkX0oQo"
      }
    },
    {
      "cell_type": "code",
      "source": [
        "# defining parameter range\n",
        "param_grid_svm = {'C': [0.1, 1, 10, 100, 1000], \n",
        "              'gamma': [1, 0.1, 0.01, 0.001, 0.0001],\n",
        "              'kernel': ['rbf']} \n",
        "  \n",
        "grid_svm = GridSearchCV(SVC(), param_grid_svm, refit = True, verbose = 3)\n",
        "  \n",
        "# fitting the model for grid search\n",
        "grid_svm.fit(X_train, Y_train)"
      ],
      "metadata": {
        "id": "3d2LgDAJxem-"
      },
      "execution_count": null,
      "outputs": []
    },
    {
      "cell_type": "code",
      "source": [
        "grid_predicts = grid_svm.predict(X_test)\n",
        "\n",
        "# print classification report\n",
        "print(classification_report(Y_test, grid_predicts))"
      ],
      "metadata": {
        "id": "28gMJBdW1BDP"
      },
      "execution_count": null,
      "outputs": []
    },
    {
      "cell_type": "markdown",
      "source": [
        "##GRADIENT Decent"
      ],
      "metadata": {
        "id": "sp4c40n66K-R"
      }
    },
    {
      "cell_type": "code",
      "source": [
        "parameters = {'learning_rate':[0.15,0.1,0.05,0.01,0.005,0.001], 'n_estimators':[100,250,500,750,1000,1250,1500,1750]}\n",
        "\n",
        "tuning = GridSearchCV(estimator =GradientBoostingClassifier(max_depth=4, min_samples_split=2, min_samples_leaf=1, subsample=1,max_features='sqrt', random_state=10), \n",
        "            param_grid = parameters, scoring='accuracy',n_jobs=4, cv=5)\n",
        "tuning.fit(X_train,Y_train)\n",
        "tuning.best_params_, tuning.best_score_"
      ],
      "metadata": {
        "id": "ePq3RPwo4aKk",
        "colab": {
          "base_uri": "https://localhost:8080/"
        },
        "outputId": "4cd791e2-9136-4e93-9634-13bd7fc95308"
      },
      "execution_count": 107,
      "outputs": [
        {
          "output_type": "execute_result",
          "data": {
            "text/plain": [
              "({'learning_rate': 0.15, 'n_estimators': 1750}, 0.8541289792719681)"
            ]
          },
          "metadata": {},
          "execution_count": 107
        }
      ]
    },
    {
      "cell_type": "code",
      "source": [
        ""
      ],
      "metadata": {
        "id": "2zmS8jPi6VOa"
      },
      "execution_count": null,
      "outputs": []
    },
    {
      "cell_type": "code",
      "source": [
        "from sklearn.ensemble import GradientBoostingClassifier\n",
        "gb = GradientBoostingClassifier(learning_rate=0.15, n_estimators=1750,max_depth=5, min_samples_split=2, min_samples_leaf=1, subsample=1,max_features='sqrt', random_state=10)\n",
        "gb.fit(X_train,Y_train)\n",
        "y_pred = gb.predict(X_test)\n",
        "ac_gb=accuracy_score(Y_test,y_pred)"
      ],
      "metadata": {
        "id": "uf1eRPbk6jQ5"
      },
      "execution_count": 108,
      "outputs": []
    },
    {
      "cell_type": "code",
      "source": [
        "print(classification_report(Y_test, y_pred))"
      ],
      "metadata": {
        "colab": {
          "base_uri": "https://localhost:8080/"
        },
        "id": "QL6iADRa60O5",
        "outputId": "c08f533f-cf44-476b-b926-a10363ab8ac3"
      },
      "execution_count": 109,
      "outputs": [
        {
          "output_type": "stream",
          "name": "stdout",
          "text": [
            "              precision    recall  f1-score   support\n",
            "\n",
            "       <=50K       0.89      0.81      0.85      4729\n",
            "        >50K       0.83      0.90      0.86      4693\n",
            "\n",
            "    accuracy                           0.86      9422\n",
            "   macro avg       0.86      0.86      0.86      9422\n",
            "weighted avg       0.86      0.86      0.86      9422\n",
            "\n"
          ]
        }
      ]
    },
    {
      "cell_type": "markdown",
      "source": [
        "###FineTuning of the Model Random Forest"
      ],
      "metadata": {
        "id": "RA1PcjnR6-9F"
      }
    },
    {
      "cell_type": "markdown",
      "source": [
        "9.1 Feature Importance"
      ],
      "metadata": {
        "id": "V736QK227OGo"
      }
    },
    {
      "cell_type": "code",
      "source": [
        "pd.Series(rf_model.feature_importances_,index=x.columns).sort_values(ascending=False)*100"
      ],
      "metadata": {
        "colab": {
          "base_uri": "https://localhost:8080/"
        },
        "id": "SxQOHmM77C_d",
        "outputId": "e36d6f84-435c-4b95-86e1-b6a1ad4e6bb8"
      },
      "execution_count": 104,
      "outputs": [
        {
          "output_type": "execute_result",
          "data": {
            "text/plain": [
              "age                    23.230004\n",
              "relationship           17.499502\n",
              "occupation             10.226261\n",
              "marital_married         9.124338\n",
              "marital_not married     8.612506\n",
              "education               7.917253\n",
              "hours_per_week          6.082120\n",
              "workclass               4.330050\n",
              "marital_divorced        4.306608\n",
              "gender_Female           2.460164\n",
              "country                 2.314634\n",
              "race                    2.045493\n",
              "gender_Male             1.851067\n",
              "dtype: float64"
            ]
          },
          "metadata": {},
          "execution_count": 104
        }
      ]
    },
    {
      "cell_type": "markdown",
      "source": [
        "9.2 Fine tuning of Hyperparameters"
      ],
      "metadata": {
        "id": "omBYAko47iWG"
      }
    },
    {
      "cell_type": "markdown",
      "source": [
        "9.2.1 Grid Search CV"
      ],
      "metadata": {
        "id": "LkuONX7L7nfT"
      }
    },
    {
      "cell_type": "code",
      "source": [
        "param_grid = { \n",
        "    'n_estimators': [100,200,300],\n",
        "    'max_depth' : [20,25,30],\n",
        "    'criterion' :['gini', 'entropy']\n",
        "}"
      ],
      "metadata": {
        "id": "RiNT5iIW7hwg"
      },
      "execution_count": 105,
      "outputs": []
    },
    {
      "cell_type": "code",
      "source": [
        "from sklearn.model_selection import GridSearchCV\n",
        "CV_rfc = GridSearchCV(estimator=rf_model, param_grid=param_grid, cv= 5)\n",
        "CV_rfc.fit(X_train, Y_train)\n",
        "CV_rfc.best_params_"
      ],
      "metadata": {
        "colab": {
          "base_uri": "https://localhost:8080/"
        },
        "id": "fTwDNLps7sVk",
        "outputId": "acfbe118-eb7d-493e-c9fa-807818ac6d80"
      },
      "execution_count": 106,
      "outputs": [
        {
          "output_type": "execute_result",
          "data": {
            "text/plain": [
              "{'criterion': 'entropy', 'max_depth': 25, 'n_estimators': 300}"
            ]
          },
          "metadata": {},
          "execution_count": 106
        }
      ]
    },
    {
      "cell_type": "code",
      "source": [
        "rft = RandomForestClassifier(n_estimators=300,max_depth=25,random_state=42,criterion='entropy')\n",
        "rft.fit(X_train,Y_train)"
      ],
      "metadata": {
        "colab": {
          "base_uri": "https://localhost:8080/"
        },
        "id": "0ks1IGYs7z1Y",
        "outputId": "2588ebad-7072-49c9-dfe8-8203e731c7e2"
      },
      "execution_count": 111,
      "outputs": [
        {
          "output_type": "execute_result",
          "data": {
            "text/plain": [
              "RandomForestClassifier(criterion='entropy', max_depth=25, n_estimators=300,\n",
              "                       random_state=42)"
            ]
          },
          "metadata": {},
          "execution_count": 111
        }
      ]
    },
    {
      "cell_type": "code",
      "source": [
        "y_pred=rft.predict(X_test)\n",
        "accuracy_score(Y_test,y_pred)"
      ],
      "metadata": {
        "colab": {
          "base_uri": "https://localhost:8080/"
        },
        "id": "MqVK-iNI79eL",
        "outputId": "8301ca28-ea88-46cd-fdeb-91cc79cf6fd1"
      },
      "execution_count": 114,
      "outputs": [
        {
          "output_type": "execute_result",
          "data": {
            "text/plain": [
              "0.8651029505412864"
            ]
          },
          "metadata": {},
          "execution_count": 114
        }
      ]
    },
    {
      "cell_type": "code",
      "source": [
        "print(classification_report(Y_test, y_pred))"
      ],
      "metadata": {
        "colab": {
          "base_uri": "https://localhost:8080/"
        },
        "id": "6xPrPrrplKLQ",
        "outputId": "b36a41ed-65fb-4264-b7de-e902ab64a9a6"
      },
      "execution_count": 113,
      "outputs": [
        {
          "output_type": "stream",
          "name": "stdout",
          "text": [
            "              precision    recall  f1-score   support\n",
            "\n",
            "       <=50K       0.91      0.81      0.86      4729\n",
            "        >50K       0.83      0.92      0.87      4693\n",
            "\n",
            "    accuracy                           0.87      9422\n",
            "   macro avg       0.87      0.87      0.86      9422\n",
            "weighted avg       0.87      0.87      0.86      9422\n",
            "\n"
          ]
        }
      ]
    },
    {
      "cell_type": "markdown",
      "source": [
        "##Model prediction Accuracy table after tuning"
      ],
      "metadata": {
        "id": "xT0oQE5QvwL6"
      }
    },
    {
      "cell_type": "code",
      "source": [
        "from tabulate import tabulate\n",
        "\n"
      ],
      "metadata": {
        "id": "AHg9lKZOtbAh"
      },
      "execution_count": 110,
      "outputs": []
    },
    {
      "cell_type": "code",
      "source": [
        "table = [['Model', 'Accuracy'], ['Logistic Regression',80.1],['Random Forest',86.510],['Gradient Boost',86],['SVM',79.8]]\n",
        "print(tabulate(table,headers='firstrow',tablefmt='fancy_grid'))"
      ],
      "metadata": {
        "colab": {
          "base_uri": "https://localhost:8080/"
        },
        "id": "7xFOYL1JteAH",
        "outputId": "8ad77830-1abf-498f-be00-c77f5aa5844a"
      },
      "execution_count": 115,
      "outputs": [
        {
          "output_type": "stream",
          "name": "stdout",
          "text": [
            "╒═════════════════════╤════════════╕\n",
            "│ Model               │   Accuracy │\n",
            "╞═════════════════════╪════════════╡\n",
            "│ Logistic Regression │      80.1  │\n",
            "├─────────────────────┼────────────┤\n",
            "│ Random Forest       │      86.51 │\n",
            "├─────────────────────┼────────────┤\n",
            "│ Gradient Boost      │      86    │\n",
            "├─────────────────────┼────────────┤\n",
            "│ SVM                 │      79.8  │\n",
            "╘═════════════════════╧════════════╛\n"
          ]
        }
      ]
    },
    {
      "cell_type": "markdown",
      "source": [
        "**It can be inferred from the table summary that Random Forest model gives best accuracy of 86.51 % while model training.**"
      ],
      "metadata": {
        "id": "lpWADOvGwj5t"
      }
    },
    {
      "cell_type": "markdown",
      "source": [
        "**So that we finalized our ML model for predicting the salary using Random Forest Algorithm.**"
      ],
      "metadata": {
        "id": "x0OjYNTyw7I_"
      }
    },
    {
      "cell_type": "code",
      "source": [
        ""
      ],
      "metadata": {
        "id": "ptsh4A2kwiE_"
      },
      "execution_count": null,
      "outputs": []
    }
  ],
  "metadata": {
    "colab": {
      "name": "HR_Salary_Prediction_shiffa.ipynb",
      "provenance": [],
      "collapsed_sections": [
        "n0D1suJm6_uS",
        "RlNdKdh1sn9W"
      ]
    },
    "kernelspec": {
      "display_name": "Python 3",
      "language": "python",
      "name": "python3"
    },
    "language_info": {
      "codemirror_mode": {
        "name": "ipython",
        "version": 3
      },
      "file_extension": ".py",
      "mimetype": "text/x-python",
      "name": "python",
      "nbconvert_exporter": "python",
      "pygments_lexer": "ipython3",
      "version": "3.8.8"
    }
  },
  "nbformat": 4,
  "nbformat_minor": 0
}